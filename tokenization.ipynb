{
 "cells": [
  {
   "cell_type": "code",
   "execution_count": 1,
   "id": "3417768d-2b8a-448b-8e9b-0e61d3493d82",
   "metadata": {},
   "outputs": [],
   "source": [
    "# tokenization\n",
    "# some issues with it and it's complicated but here we go!\n",
    "# GPT2 paper - byte-level encoding\n",
    "# tokenizer with vocabulary of 50257 tokens\n",
    "# context size is 1024 tokens (for gpt2)\n",
    "# every single token is attending to the previous tokens in the sequence, and they can see up to 1024 tokens\n",
    "# process of treating sequence of text into tokens\n",
    "# For LLama2 paper - 2 TRILLION tokens of data  -> that's their performance-to-cost trade-off\n",
    "# byte pair encoding algo is what we're going to implement here!"
   ]
  },
  {
   "cell_type": "code",
   "execution_count": null,
   "id": "67dec929-b20c-4583-90ad-c0db5bb94673",
   "metadata": {},
   "outputs": [],
   "source": [
    "# NOTE: tokenization potentially creates a ton of issues with the model (things like spelling tasks & single string processing, non-english processing)\n",
    "# more tokens used if we're training multiple languages for instance - uses too many tokens & overall context is much shorter\n",
    "# also based on how the text itself is parsed/parasable\n",
    "# code with indented whitespace often is token-dense\n",
    "\n",
    "# Note - tokenizer bytespace can change the overall impact of tokens - allows denser input to transformer\n",
    "# side-note: is it possible to SUMMARIZE context further out in \"history\" space to allow for a deeper/longer understanding of context?"
   ]
  },
  {
   "cell_type": "code",
   "execution_count": 3,
   "id": "437434ee-e0a7-45c3-bee8-958bde597ca6",
   "metadata": {},
   "outputs": [
    {
     "data": {
      "text/plain": [
       "104"
      ]
     },
     "execution_count": 3,
     "metadata": {},
     "output_type": "execute_result"
    }
   ],
   "source": [
    "# Note: unicode has 151k characters which is much higher than a typical gpt-style tokenizer (but not llama)\n",
    "# unicode to byte : ord()\n",
    "ord('h')"
   ]
  },
  {
   "cell_type": "code",
   "execution_count": 5,
   "id": "ba65f28d-d93a-4114-948f-44e8b2d6c9df",
   "metadata": {},
   "outputs": [
    {
     "name": "stdout",
     "output_type": "stream",
     "text": [
      "[104, 101, 108, 108, 111, 32, 119, 111, 114, 108, 100]\n"
     ]
    }
   ],
   "source": [
    "print([ord(x) for x in \"hello world\"])"
   ]
  },
  {
   "cell_type": "code",
   "execution_count": 9,
   "id": "4960e025-4ad9-4309-a8e6-ee35e1b24b1b",
   "metadata": {},
   "outputs": [
    {
     "name": "stdout",
     "output_type": "stream",
     "text": [
      "[104, 101, 108, 108, 111, 32, 119, 111, 114, 108, 100]\n",
      "[255, 254, 104, 0, 101, 0, 108, 0, 108, 0, 111, 0, 32, 0, 119, 0, 111, 0, 114, 0, 108, 0, 100, 0]\n",
      "[255, 254, 0, 0, 104, 0, 0, 0, 101, 0, 0, 0, 108, 0, 0, 0, 108, 0, 0, 0, 111, 0, 0, 0, 32, 0, 0, 0, 119, 0, 0, 0, 111, 0, 0, 0, 114, 0, 0, 0, 108, 0, 0, 0, 100, 0, 0, 0]\n"
     ]
    }
   ],
   "source": [
    "# you can encode a string natively in python\n",
    "print(list(\"hello world\".encode(\"utf-8\")))\n",
    "print(list(\"hello world\".encode(\"utf-16\")))\n",
    "print(list(\"hello world\".encode(\"utf-32\")))\n",
    "# Note that utf 16 and utf 32 have a lot of leading zeroes for english text, so it's wasteful as an encoder for most english characters\n",
    "# what's the right move here?? -> byte-pair encoding algo can give us variable-length encoding \n",
    "# even BETTER: getting byte sequences to feed directly into a transformer (only been proposed hypothetically, not done yet in production)\n",
    "# paper: megabyte: prediction million byte sequences with multiscale transformers"
   ]
  },
  {
   "cell_type": "code",
   "execution_count": null,
   "id": "2e06294d-c1ec-43c2-bc4c-c297ab9e7ca3",
   "metadata": {},
   "outputs": [],
   "source": [
    "# byte pair encoding algo -> find pair of tokens that occur the most frequently\n",
    "# once we find that pair, we replace it with a single token that is appended to our table\n",
    "# then we continue -> greedy algo style\n",
    "# ex: aaabdaaabac -> aa -> ZabdZabac -> ab -> ZYdZYac -> ZY -> XdXac -> (no longer have byte pairs that occur more than once)\n",
    "# X = ZY; Y=ab; Z=aa; XdXac, "
   ]
  },
  {
   "cell_type": "code",
   "execution_count": 1,
   "id": "aadf4159-8b71-41de-8afe-2c0e7305d023",
   "metadata": {},
   "outputs": [],
   "source": [
    "rawtext = \"\"\"\n",
    "Ｕｎｉｃｏｄｅ! 🅤🅝🅘🅒🅞🅓🅔‽ 🇺‌🇳‌🇮‌🇨‌🇴‌🇩‌🇪! 😄 The very name strikes fear and awe into the hearts of programmers worldwide. We all know we ought to “support Unicode” in our software (whatever that means—like using wchar_t for all the strings, right?). But Unicode can be abstruse, and diving into the thousand-page Unicode Standard plus its dozens of supplementary annexes, reports, and notes can be more than a little intimidating. I don’t blame programmers for still finding the whole thing mysterious, even 30 years after Unicode’s inception.\n",
    "\n",
    "A few months ago, I got interested in Unicode and decided to spend some time learning more about it in detail. In this article, I’ll give an introduction to it from a programmer’s point of view.\n",
    "\n",
    "I’m going to focus on the character set and what’s involved in working with strings and files of Unicode text. However, in this article I’m not going to talk about fonts, text layout/shaping/rendering, or localization in detail—those are separate issues, beyond my scope (and knowledge) here.\n",
    "\n",
    "    Diversity and Inherent Complexity\n",
    "    The Unicode Codespace\n",
    "        Codespace Allocation\n",
    "        Scripts\n",
    "        Usage Frequency\n",
    "    Encodings\n",
    "        UTF-8\n",
    "        UTF-16\n",
    "    Combining Marks\n",
    "        Canonical Equivalence\n",
    "        Normalization Forms\n",
    "        Grapheme Clusters\n",
    "    And More…\n",
    "\n",
    "Diversity and Inherent Complexity\n",
    "\n",
    "As soon as you start to study Unicode, it becomes clear that it represents a large jump in complexity over character sets like ASCII that you may be more familiar with. It’s not just that Unicode contains a much larger number of characters, although that’s part of it. Unicode also has a great deal of internal structure, features, and special cases, making it much more than what one might expect a mere “character set” to be. We’ll see some of that later in this article.\n",
    "\n",
    "When confronting all this complexity, especially as an engineer, it’s hard not to find oneself asking, “Why do we need all this? Is this really necessary? Couldn’t it be simplified?”\n",
    "\n",
    "However, Unicode aims to faithfully represent the entire world’s writing systems. The Unicode Consortium’s stated goal is “enabling people around the world to use computers in any language”. And as you might imagine, the diversity of written languages is immense! To date, Unicode supports 135 different scripts, covering some 1100 languages, and there’s still a long tail of over 100 unsupported scripts, both modern and historical, which people are still working to add.\n",
    "\n",
    "Given this enormous diversity, it’s inevitable that representing it is a complicated project. Unicode embraces that diversity, and accepts the complexity inherent in its mission to include all human writing systems. It doesn’t make a lot of trade-offs in the name of simplification, and it makes exceptions to its own rules where necessary to further its mission.\n",
    "\n",
    "Moreover, Unicode is committed not just to supporting texts in any single language, but also to letting multiple languages coexist within one text—which introduces even more complexity.\n",
    "\n",
    "Most programming languages have libraries available to handle the gory low-level details of text manipulation, but as a programmer, you’ll still need to know about certain Unicode features in order to know when and how to apply them. It may take some time to wrap your head around it all, but don’t be discouraged—think about the billions of people for whom your software will be more accessible through supporting text in their language. Embrace the complexity!\n",
    "The Unicode Codespace\n",
    "\n",
    "Let’s start with some general orientation. The basic elements of Unicode—its “characters”, although that term isn’t quite right—are called code points. Code points are identified by number, customarily written in hexadecimal with the prefix “U+”, such as U+0041 “A” latin capital letter a or U+03B8 “θ” greek small letter theta. Each code point also has a short name, and quite a few other properties, specified in the Unicode Character Database.\n",
    "\n",
    "The set of all possible code points is called the codespace. The Unicode codespace consists of 1,114,112 code points. However, only 128,237 of them—about 12% of the codespace—are actually assigned, to date. There’s plenty of room for growth! Unicode also reserves an additional 137,468 code points as “private use” areas, which have no standardized meaning and are available for individual applications to define for their own purposes.\n",
    "Codespace Allocation\n",
    "\n",
    "To get a feel for how the codespace is laid out, it’s helpful to visualize it. Below is a map of the entire codespace, with one pixel per code point. It’s arranged in tiles for visual coherence; each small square is 16×16 = 256 code points, and each large square is a “plane” of 65,536 code points. There are 17 planes altogether.\n",
    "\n",
    "Map of the Unicode codespace (click to zoom)\n",
    "\n",
    "White represents unassigned space. Blue is assigned code points, green is private-use areas, and the small red area is surrogates (more about those later). As you can see, the assigned code points are distributed somewhat sparsely, but concentrated in the first three planes.\n",
    "\n",
    "Plane 0 is also known as the “Basic Multilingual Plane”, or BMP. The BMP contains essentially all the characters needed for modern text in any script, including Latin, Cyrillic, Greek, Han (Chinese), Japanese, Korean, Arabic, Hebrew, Devanagari (Indian), and many more.\n",
    "\n",
    "(In the past, the codespace was just the BMP and no more—Unicode was originally conceived as a straightforward 16-bit encoding, with only 65,536 code points. It was expanded to its current size in 1996. However, the vast majority of code points in modern text belong to the BMP.)\n",
    "\n",
    "Plane 1 contains historical scripts, such as Sumerian cuneiform and Egyptian hieroglyphs, as well as emoji and various other symbols. Plane 2 contains a large block of less-common and historical Han characters. The remaining planes are empty, except for a small number of rarely-used formatting characters in Plane 14; planes 15–16 are reserved entirely for private use.\n",
    "Scripts\n",
    "\n",
    "Let’s zoom in on the first three planes, since that’s where the action is:\n",
    "\n",
    "Map of scripts in Unicode planes 0–2 (click to zoom)\n",
    "\n",
    "This map color-codes the 135 different scripts in Unicode. You can see how Han () and Korean () take up most of the range of the BMP (the left large square). By contrast, all of the European, Middle Eastern, and South Asian scripts fit into the first row of the BMP in this diagram.\n",
    "\n",
    "Many areas of the codespace are adapted or copied from earlier encodings. For example, the first 128 code points of Unicode are just a copy of ASCII. This has clear benefits for compatibility—it’s easy to losslessly convert texts from smaller encodings into Unicode (and the other direction too, as long as no characters outside the smaller encoding are used).\n",
    "Usage Frequency\n",
    "\n",
    "One more interesting way to visualize the codespace is to look at the distribution of usage—in other words, how often each code point is actually used in real-world texts. Below is a heat map of planes 0–2 based on a large sample of text from Wikipedia and Twitter (all languages). Frequency increases from black (never seen) through red and yellow to white.\n",
    "\n",
    "Heat map of code point usage frequency in Unicode planes 0–2 (click to zoom)\n",
    "\n",
    "You can see that the vast majority of this text sample lies in the BMP, with only scattered usage of code points from planes 1–2. The biggest exception is emoji, which show up here as the several bright squares in the bottom row of plane 1.\n",
    "Encodings\n",
    "\n",
    "We’ve seen that Unicode code points are abstractly identified by their index in the codespace, ranging from U+0000 to U+10FFFF. But how do code points get represented as bytes, in memory or in a file?\n",
    "\n",
    "The most convenient, computer-friendliest (and programmer-friendliest) thing to do would be to just store the code point index as a 32-bit integer. This works, but it consumes 4 bytes per code point, which is sort of a lot. Using 32-bit ints for Unicode will cost you a bunch of extra storage, memory, and performance in bandwidth-bound scenarios, if you work with a lot of text.\n",
    "\n",
    "Consequently, there are several more-compact encodings for Unicode. The 32-bit integer encoding is officially called UTF-32 (UTF = “Unicode Transformation Format”), but it’s rarely used for storage. At most, it comes up sometimes as a temporary internal representation, for examining or operating on the code points in a string.\n",
    "\n",
    "Much more commonly, you’ll see Unicode text encoded as either UTF-8 or UTF-16. These are both variable-length encodings, made up of 8-bit or 16-bit units, respectively. In these schemes, code points with smaller index values take up fewer bytes, which saves a lot of memory for typical texts. The trade-off is that processing UTF-8/16 texts is more programmatically involved, and likely slower.\n",
    "UTF-8\n",
    "\n",
    "In UTF-8, each code point is stored using 1 to 4 bytes, based on its index value.\n",
    "\n",
    "UTF-8 uses a system of binary prefixes, in which the high bits of each byte mark whether it’s a single byte, the beginning of a multi-byte sequence, or a continuation byte; the remaining bits, concatenated, give the code point index. This table shows how it works:\n",
    "UTF-8 (binary) \tCode point (binary) \tRange\n",
    "0xxxxxxx \txxxxxxx \tU+0000–U+007F\n",
    "110xxxxx 10yyyyyy \txxxxxyyyyyy \tU+0080–U+07FF\n",
    "1110xxxx 10yyyyyy 10zzzzzz \txxxxyyyyyyzzzzzz \tU+0800–U+FFFF\n",
    "11110xxx 10yyyyyy 10zzzzzz 10wwwwww \txxxyyyyyyzzzzzzwwwwww \tU+10000–U+10FFFF\n",
    "\n",
    "A handy property of UTF-8 is that code points below 128 (ASCII characters) are encoded as single bytes, and all non-ASCII code points are encoded using sequences of bytes 128–255. This has a couple of nice consequences. First, any strings or files out there that are already in ASCII can also be interpreted as UTF-8 without any conversion. Second, lots of widely-used string programming idioms—such as null termination, or delimiters (newlines, tabs, commas, slashes, etc.)—will just work on UTF-8 strings. ASCII bytes never occur inside the encoding of non-ASCII code points, so searching byte-wise for a null terminator or a delimiter will do the right thing.\n",
    "\n",
    "Thanks to this convenience, it’s relatively simple to extend legacy ASCII programs and APIs to handle UTF-8 strings. UTF-8 is very widely used in the Unix/Linux and Web worlds, and many programmers argue UTF-8 should be the default encoding everywhere.\n",
    "\n",
    "However, UTF-8 isn’t a drop-in replacement for ASCII strings in all respects. For instance, code that iterates over the “characters” in a string will need to decode UTF-8 and iterate over code points (or maybe grapheme clusters—more about those later), not bytes. When you measure the “length” of a string, you’ll need to think about whether you want the length in bytes, the length in code points, the width of the text when rendered, or something else.\n",
    "UTF-16\n",
    "\n",
    "The other encoding that you’re likely to encounter is UTF-16. It uses 16-bit words, with each code point stored as either 1 or 2 words.\n",
    "\n",
    "Like UTF-8, we can express the UTF-16 encoding rules in the form of binary prefixes:\n",
    "UTF-16 (binary) \tCode point (binary) \tRange\n",
    "xxxxxxxxxxxxxxxx \txxxxxxxxxxxxxxxx \tU+0000–U+FFFF\n",
    "110110xxxxxxxxxx 110111yyyyyyyyyy \txxxxxxxxxxyyyyyyyyyy + 0x10000 \tU+10000–U+10FFFF\n",
    "\n",
    "A more common way that people talk about UTF-16 encoding, though, is in terms of code points called “surrogates”. All the code points in the range U+D800–U+DFFF—or in other words, the code points that match the binary prefixes 110110 and 110111 in the table above—are reserved specifically for UTF-16 encoding, and don’t represent any valid characters on their own. They’re only meant to occur in the 2-word encoding pattern above, which is called a “surrogate pair”. Surrogate code points are illegal in any other context! They’re not allowed in UTF-8 or UTF-32 at all.\n",
    "\n",
    "Historically, UTF-16 is a descendant of the original, pre-1996 versions of Unicode, in which there were only 65,536 code points. The original intention was that there would be no different “encodings”; Unicode was supposed to be a straightforward 16-bit character set. Later, the codespace was expanded to make room for a long tail of less-common (but still important) Han characters, which the Unicode designers didn’t originally plan for. Surrogates were then introduced, as—to put it bluntly—a kludge, allowing 16-bit encodings to access the new code points.\n",
    "\n",
    "Today, Javascript uses UTF-16 as its standard string representation: if you ask for the length of a string, or iterate over it, etc., the result will be in UTF-16 words, with any code points outside the BMP expressed as surrogate pairs. UTF-16 is also used by the Microsoft Win32 APIs; though Win32 supports either 8-bit or 16-bit strings, the 8-bit version unaccountably still doesn’t support UTF-8—only legacy code-page encodings, like ANSI. This leaves UTF-16 as the only way to get proper Unicode support in Windows. (Update: in Win10 version 1903, they finally added UTF-8 support to the 8-bit APIs! 😊)\n",
    "\n",
    "By the way, UTF-16’s words can be stored either little-endian or big-endian. Unicode has no opinion on that issue, though it does encourage the convention of putting U+FEFF zero width no-break space at the top of a UTF-16 file as a byte-order mark, to disambiguate the endianness. (If the file doesn’t match the system’s endianness, the BOM will be decoded as U+FFFE, which isn’t a valid code point.)\n",
    "Combining Marks\n",
    "\n",
    "In the story so far, we’ve been focusing on code points. But in Unicode, a “character” can be more complicated than just an individual code point!\n",
    "\n",
    "Unicode includes a system for dynamically composing characters, by combining multiple code points together. This is used in various ways to gain flexibility without causing a huge combinatorial explosion in the number of code points.\n",
    "\n",
    "In European languages, for example, this shows up in the application of diacritics to letters. Unicode supports a wide range of diacritics, including acute and grave accents, umlauts, cedillas, and many more. All these diacritics can be applied to any letter of any alphabet—and in fact, multiple diacritics can be used on a single letter.\n",
    "\n",
    "If Unicode tried to assign a distinct code point to every possible combination of letter and diacritics, things would rapidly get out of hand. Instead, the dynamic composition system enables you to construct the character you want, by starting with a base code point (the letter) and appending additional code points, called “combining marks”, to specify the diacritics. When a text renderer sees a sequence like this in a string, it automatically stacks the diacritics over or under the base letter to create a composed character.\n",
    "\n",
    "For example, the accented character “Á” can be expressed as a string of two code points: U+0041 “A” latin capital letter a plus U+0301 “◌́” combining acute accent. This string automatically gets rendered as a single character: “Á”.\n",
    "\n",
    "Now, Unicode does also include many “precomposed” code points, each representing a letter with some combination of diacritics already applied, such as U+00C1 “Á” latin capital letter a with acute or U+1EC7 “ệ” latin small letter e with circumflex and dot below. I suspect these are mostly inherited from older encodings that were assimilated into Unicode, and kept around for compatibility. In practice, there are precomposed code points for most of the common letter-with-diacritic combinations in European-script languages, so they don’t use dynamic composition that much in typical text.\n",
    "\n",
    "Still, the system of combining marks does allow for an arbitrary number of diacritics to be stacked on any base character. The reductio-ad-absurdum of this is Zalgo text, which works by ͖͟ͅr͞aṋ̫̠̖͈̗d͖̻̹óm̪͙͕̗̝ļ͇̰͓̳̫ý͓̥̟͍ ̕s̫t̫̱͕̗̰̼̘͜a̼̩͖͇̠͈̣͝c̙͍k̖̱̹͍͘i̢n̨̺̝͇͇̟͙ģ̫̮͎̻̟ͅ ̕n̼̺͈͞u̮͙m̺̭̟̗͞e̞͓̰̤͓̫r̵o̖ṷs҉̪͍̭̬̝̤ ̮͉̝̞̗̟͠d̴̟̜̱͕͚i͇̫̼̯̭̜͡ḁ͙̻̼c̲̲̹r̨̠̹̣̰̦i̱t̤̻̤͍͙̘̕i̵̜̭̤̱͎c̵s ͘o̱̲͈̙͖͇̲͢n͘ ̜͈e̬̲̠̩ac͕̺̠͉h̷̪ ̺̣͖̱ḻ̫̬̝̹ḙ̙̺͙̭͓̲t̞̞͇̲͉͍t̷͔̪͉̲̻̠͙e̦̻͈͉͇r͇̭̭̬͖,̖́ ̜͙͓̣̭s̘̘͈o̱̰̤̲ͅ ̛̬̜̙t̼̦͕̱̹͕̥h̳̲͈͝ͅa̦t̻̲ ̻̟̭̦̖t̛̰̩h̠͕̳̝̫͕e͈̤̘͖̞͘y҉̝͙ ̷͉͔̰̠o̞̰v͈͈̳̘͜er̶f̰͈͔ḻ͕̘̫̺̲o̲̭͙͠ͅw̱̳̺ ͜t̸h͇̭͕̳͍e̖̯̟̠ ͍̞̜͔̩̪͜ļ͎̪̲͚i̝̲̹̙̩̹n̨̦̩̖ḙ̼̲̼͢ͅ ̬͝s̼͚̘̞͝p͙̘̻a̙c҉͉̜̤͈̯̖i̥͡n̦̠̱͟g̸̗̻̦̭̮̟ͅ ̳̪̠͖̳̯̕a̫͜n͝d͡ ̣̦̙ͅc̪̗r̴͙̮̦̹̳e͇͚̞͔̹̫͟a̙̺̙ț͔͎̘̹ͅe̥̩͍ a͖̪̜̮͙̹n̢͉̝ ͇͉͓̦̼́a̳͖̪̤̱p̖͔͔̟͇͎͠p̱͍̺ę̲͎͈̰̲̤̫a̯͜r̨̮̫̣̘a̩̯͖n̹̦̰͎̣̞̞c̨̦̱͔͎͍͖e̬͓͘ ̤̰̩͙̤̬͙o̵̼̻̬̻͇̮̪f̴ ̡̙̭͓͖̪̤“̸͙̠̼c̳̗͜o͏̼͙͔̮r̞̫̺̞̥̬ru̺̻̯͉̭̻̯p̰̥͓̣̫̙̤͢t̳͍̳̖ͅi̶͈̝͙̼̙̹o̡͔n̙̺̹̖̩͝ͅ”̨̗͖͚̩.̯͓\n",
    "\n",
    "A few other places where dynamic character composition shows up in Unicode:\n",
    "\n",
    "    Vowel-pointing notation in Arabic and Hebrew. In these languages, words are normally spelled with some of their vowels left out. They then have diacritic notation to indicate the vowels (used in dictionaries, language-teaching materials, children’s books, and such). These diacritics are expressed with combining marks.\n",
    "    A Hebrew example, with niqqud:\tאֶת דַלְתִּי הֵזִיז הֵנִיעַ, קֶטֶב לִשְׁכַּתִּי יָשׁוֹד\n",
    "    Normal writing (no niqqud):\tאת דלתי הזיז הניע, קטב לשכתי ישוד\n",
    "\n",
    "    Devanagari, the script used to write Hindi, Sanskrit, and many other South Asian languages, expresses certain vowels as combining marks attached to consonant letters. For example, “ह” + “​ि” = “हि” (“h” + “i” = “hi”).\n",
    "\n",
    "    Korean characters stand for syllables, but they are composed of letters called jamo that stand for the vowels and consonants in the syllable. While there are code points for precomposed Korean syllables, it’s also possible to dynamically compose them by concatenating their jamo. For example, “ᄒ” + “ᅡ” + “ᆫ” = “한” (“h” + “a” + “n” = “han”).\n",
    "\n",
    "Canonical Equivalence\n",
    "\n",
    "In Unicode, precomposed characters exist alongside the dynamic composition system. A consequence of this is that there are multiple ways to express “the same” string—different sequences of code points that result in the same user-perceived characters. For example, as we saw earlier, we can express the character “Á” either as the single code point U+00C1, or as the string of two code points U+0041 U+0301.\n",
    "\n",
    "Another source of ambiguity is the ordering of multiple diacritics in a single character. Diacritic order matters visually when two diacritics apply to the same side of the base character, e.g. both above: “ǡ” (dot, then macron) is different from “ā̇” (macron, then dot). However, when diacritics apply to different sides of the character, e.g. one above and one below, then the order doesn’t affect rendering. Moreover, a character with multiple diacritics might have one of the diacritics precomposed and others expressed as combining marks.\n",
    "\n",
    "For example, the Vietnamese letter “ệ” can be expressed in five different ways:\n",
    "\n",
    "    Fully precomposed: U+1EC7 “ệ”\n",
    "    Partially precomposed: U+1EB9 “ẹ” + U+0302 “◌̂”\n",
    "    Partially precomposed: U+00EA “ê” + U+0323 “◌̣”\n",
    "    Fully decomposed: U+0065 “e” + U+0323 “◌̣” + U+0302 “◌̂”\n",
    "    Fully decomposed: U+0065 “e” + U+0302 “◌̂” + U+0323 “◌̣”\n",
    "\n",
    "Unicode refers to set of strings like this as “canonically equivalent”. Canonically equivalent strings are supposed to be treated as identical for purposes of searching, sorting, rendering, text selection, and so on. This has implications for how you implement operations on text. For example, if an app has a “find in file” operation and the user searches for “ệ”, it should, by default, find occurrences of any of the five versions of “ệ” above!\n",
    "Normalization Forms\n",
    "\n",
    "To address the problem of “how to handle canonically equivalent strings”, Unicode defines several normalization forms: ways of converting strings into a canonical form so that they can be compared code-point-by-code-point (or byte-by-byte).\n",
    "\n",
    "The “NFD” normalization form fully decomposes every character down to its component base and combining marks, taking apart any precomposed code points in the string. It also sorts the combining marks in each character according to their rendered position, so e.g. diacritics that go below the character come before the ones that go above the character. (It doesn’t reorder diacritics in the same rendered position, since their order matters visually, as previously mentioned.)\n",
    "\n",
    "The “NFC” form, conversely, puts things back together into precomposed code points as much as possible. If an unusual combination of diacritics is called for, there may not be any precomposed code point for it, in which case NFC still precomposes what it can and leaves any remaining combining marks in place (again ordered by rendered position, as in NFD).\n",
    "\n",
    "There are also forms called NFKD and NFKC. The “K” here refers to compatibility decompositions, which cover characters that are “similar” in some sense but not visually identical. However, I’m not going to cover that here.\n",
    "Grapheme Clusters\n",
    "\n",
    "As we’ve seen, Unicode contains various cases where a thing that a user thinks of as a single “character” might actually be made up of multiple code points under the hood. Unicode formalizes this using the notion of a grapheme cluster: a string of one or more code points that constitute a single “user-perceived character”.\n",
    "\n",
    "UAX #29 defines the rules for what, precisely, qualifies as a grapheme cluster. It’s approximately “a base code point followed by any number of combining marks”, but the actual definition is a bit more complicated; it accounts for things like Korean jamo, and emoji ZWJ sequences.\n",
    "\n",
    "The main thing grapheme clusters are used for is text editing: they’re often the most sensible unit for cursor placement and text selection boundaries. Using grapheme clusters for these purposes ensures that you can’t accidentally chop off some diacritics when you copy-and-paste text, that left/right arrow keys always move the cursor by one visible character, and so on.\n",
    "\n",
    "Another place where grapheme clusters are useful is in enforcing a string length limit—say, on a database field. While the true, underlying limit might be something like the byte length of the string in UTF-8, you wouldn’t want to enforce that by just truncating bytes. At a minimum, you’d want to “round down” to the nearest code point boundary; but even better, round down to the nearest grapheme cluster boundary. Otherwise, you might be corrupting the last character by cutting off a diacritic, or interrupting a jamo sequence or ZWJ sequence.\n",
    "And More…\n",
    "\n",
    "There’s much more that could be said about Unicode from a programmer’s perspective! I haven’t gotten into such fun topics as case mapping, collation, compatibility decompositions and confusables, Unicode-aware regexes, or bidirectional text. Nor have I said anything yet about implementation issues—how to efficiently store and look-up data about the sparsely-assigned code points, or how to optimize UTF-8 decoding, string comparison, or NFC normalization. Perhaps I’ll return to some of those things in future posts.\n",
    "\n",
    "Unicode is a fascinating and complex system. It has a many-to-one mapping between bytes and code points, and on top of that a many-to-one (or, under some circumstances, many-to-many) mapping between code points and “characters”. It has oddball special cases in every corner. But no one ever claimed that representing all written languages was going to be easy, and it’s clear that we’re never going back to the bad old days of a patchwork of incompatible encodings.\n",
    "\n",
    "Further reading:\n",
    "\n",
    "    The Unicode Standard\n",
    "    UTF-8 Everywhere Manifesto\n",
    "    Dark corners of Unicode by Eevee\n",
    "    ICU (International Components for Unicode)—C/C++/Java libraries implementing many Unicode algorithms and related things\n",
    "    Python 3 Unicode Howto\n",
    "    Google Noto Fonts—set of fonts intended to cover all assigned code points\n",
    "\n",
    "\"\"\""
   ]
  },
  {
   "cell_type": "code",
   "execution_count": 222,
   "id": "da43ae66-c646-45a7-b567-1a7451ab8898",
   "metadata": {},
   "outputs": [
    {
     "data": {
      "text/plain": [
       "'\\nＵｎｉｃｏｄｅ! 🅤🅝🅘🅒🅞🅓🅔‽ 🇺\\u200c🇳\\u200c🇮\\u200c🇨\\u200c🇴\\u200c🇩\\u200c🇪! 😄 The very name strikes fear and awe into the hearts of programmers worldwide. We all know we ought to “support Unicode” in our software (whatever that means—like using wchar_t for all the strings, right?). But Unicode can be abstruse, and diving into the thousand-page Unicode Standard plus its dozens of supplementary annexes, reports, and notes can be more than a little intimidating. I don’t blame programmers for still finding the whole thing mysterious, even 30 years after Unicode’s inception.\\n\\nA few months ago, I got interested in Unicode and decided to spend some time learning more about it in detail. In this article, I’ll give an introduction to it from a programmer’s point of view.\\n\\nI’m going to focus on the character set and what’s involved in working with strings and files of Unicode text. However, in this article I’m not going to talk about fonts, text layout/shaping/rendering, or localization in detail—those are separate issues, beyond my scope (and knowledge) here.\\n\\n    Diversity and Inherent Complexity\\n    The Unicode Codespace\\n        Codespace Allocation\\n        Scripts\\n        Usage Frequency\\n    Encodings\\n        UTF-8\\n        UTF-16\\n    Combining Marks\\n        Canonical Equivalence\\n        Normalization Forms\\n        Grapheme Clusters\\n    And More…\\n\\nDiversity and Inherent Complexity\\n\\nAs soon as you start to study Unicode, it becomes clear that it represents a large jump in complexity over character sets like ASCII that you may be more familiar with. It’s not just that Unicode contains a much larger number of characters, although that’s part of it. Unicode also has a great deal of internal structure, features, and special cases, making it much more than what one might expect a mere “character set” to be. We’ll see some of that later in this article.\\n\\nWhen confronting all this complexity, especially as an engineer, it’s hard not to find oneself asking, “Why do we need all this? Is this really necessary? Couldn’t it be simplified?”\\n\\nHowever, Unicode aims to faithfully represent the entire world’s writing systems. The Unicode Consortium’s stated goal is “enabling people around the world to use computers in any language”. And as you might imagine, the diversity of written languages is immense! To date, Unicode supports 135 different scripts, covering some 1100 languages, and there’s still a long tail of over 100 unsupported scripts, both modern and historical, which people are still working to add.\\n\\nGiven this enormous diversity, it’s inevitable that representing it is a complicated project. Unicode embraces that diversity, and accepts the complexity inherent in its mission to include all human writing systems. It doesn’t make a lot of trade-offs in the name of simplification, and it makes exceptions to its own rules where necessary to further its mission.\\n\\nMoreover, Unicode is committed not just to supporting texts in any single language, but also to letting multiple languages coexist within one text—which introduces even more complexity.\\n\\nMost programming languages have libraries available to handle the gory low-level details of text manipulation, but as a programmer, you’ll still need to know about certain Unicode features in order to know when and how to apply them. It may take some time to wrap your head around it all, but don’t be discouraged—think about the billions of people for whom your software will be more accessible through supporting text in their language. Embrace the complexity!\\nThe Unicode Codespace\\n\\nLet’s start with some general orientation. The basic elements of Unicode—its “characters”, although that term isn’t quite right—are called code points. Code points are identified by number, customarily written in hexadecimal with the prefix “U+”, such as U+0041 “A” latin capital letter a or U+03B8 “θ” greek small letter theta. Each code point also has a short name, and quite a few other properties, specified in the Unicode Character Database.\\n\\nThe set of all possible code points is called the codespace. The Unicode codespace consists of 1,114,112 code points. However, only 128,237 of them—about 12% of the codespace—are actually assigned, to date. There’s plenty of room for growth! Unicode also reserves an additional 137,468 code points as “private use” areas, which have no standardized meaning and are available for individual applications to define for their own purposes.\\nCodespace Allocation\\n\\nTo get a feel for how the codespace is laid out, it’s helpful to visualize it. Below is a map of the entire codespace, with one pixel per code point. It’s arranged in tiles for visual coherence; each small square is 16×16 = 256 code points, and each large square is a “plane” of 65,536 code points. There are 17 planes altogether.\\n\\nMap of the Unicode codespace (click to zoom)\\n\\nWhite represents unassigned space. Blue is assigned code points, green is private-use areas, and the small red area is surrogates (more about those later). As you can see, the assigned code points are distributed somewhat sparsely, but concentrated in the first three planes.\\n\\nPlane 0 is also known as the “Basic Multilingual Plane”, or BMP. The BMP contains essentially all the characters needed for modern text in any script, including Latin, Cyrillic, Greek, Han (Chinese), Japanese, Korean, Arabic, Hebrew, Devanagari (Indian), and many more.\\n\\n(In the past, the codespace was just the BMP and no more—Unicode was originally conceived as a straightforward 16-bit encoding, with only 65,536 code points. It was expanded to its current size in 1996. However, the vast majority of code points in modern text belong to the BMP.)\\n\\nPlane 1 contains historical scripts, such as Sumerian cuneiform and Egyptian hieroglyphs, as well as emoji and various other symbols. Plane 2 contains a large block of less-common and historical Han characters. The remaining planes are empty, except for a small number of rarely-used formatting characters in Plane 14; planes 15–16 are reserved entirely for private use.\\nScripts\\n\\nLet’s zoom in on the first three planes, since that’s where the action is:\\n\\nMap of scripts in Unicode planes 0–2 (click to zoom)\\n\\nThis map color-codes the 135 different scripts in Unicode. You can see how Han () and Korean () take up most of the range of the BMP (the left large square). By contrast, all of the European, Middle Eastern, and South Asian scripts fit into the first row of the BMP in this diagram.\\n\\nMany areas of the codespace are adapted or copied from earlier encodings. For example, the first 128 code points of Unicode are just a copy of ASCII. This has clear benefits for compatibility—it’s easy to losslessly convert texts from smaller encodings into Unicode (and the other direction too, as long as no characters outside the smaller encoding are used).\\nUsage Frequency\\n\\nOne more interesting way to visualize the codespace is to look at the distribution of usage—in other words, how often each code point is actually used in real-world texts. Below is a heat map of planes 0–2 based on a large sample of text from Wikipedia and Twitter (all languages). Frequency increases from black (never seen) through red and yellow to white.\\n\\nHeat map of code point usage frequency in Unicode planes 0–2 (click to zoom)\\n\\nYou can see that the vast majority of this text sample lies in the BMP, with only scattered usage of code points from planes 1–2. The biggest exception is emoji, which show up here as the several bright squares in the bottom row of plane 1.\\nEncodings\\n\\nWe’ve seen that Unicode code points are abstractly identified by their index in the codespace, ranging from U+0000 to U+10FFFF. But how do code points get represented as bytes, in memory or in a file?\\n\\nThe most convenient, computer-friendliest (and programmer-friendliest) thing to do would be to just store the code point index as a 32-bit integer. This works, but it consumes 4 bytes per code point, which is sort of a lot. Using 32-bit ints for Unicode will cost you a bunch of extra storage, memory, and performance in bandwidth-bound scenarios, if you work with a lot of text.\\n\\nConsequently, there are several more-compact encodings for Unicode. The 32-bit integer encoding is officially called UTF-32 (UTF = “Unicode Transformation Format”), but it’s rarely used for storage. At most, it comes up sometimes as a temporary internal representation, for examining or operating on the code points in a string.\\n\\nMuch more commonly, you’ll see Unicode text encoded as either UTF-8 or UTF-16. These are both variable-length encodings, made up of 8-bit or 16-bit units, respectively. In these schemes, code points with smaller index values take up fewer bytes, which saves a lot of memory for typical texts. The trade-off is that processing UTF-8/16 texts is more programmatically involved, and likely slower.\\nUTF-8\\n\\nIn UTF-8, each code point is stored using 1 to 4 bytes, based on its index value.\\n\\nUTF-8 uses a system of binary prefixes, in which the high bits of each byte mark whether it’s a single byte, the beginning of a multi-byte sequence, or a continuation byte; the remaining bits, concatenated, give the code point index. This table shows how it works:\\nUTF-8 (binary) \\tCode point (binary) \\tRange\\n0xxxxxxx \\txxxxxxx \\tU+0000–U+007F\\n110xxxxx 10yyyyyy \\txxxxxyyyyyy \\tU+0080–U+07FF\\n1110xxxx 10yyyyyy 10zzzzzz \\txxxxyyyyyyzzzzzz \\tU+0800–U+FFFF\\n11110xxx 10yyyyyy 10zzzzzz 10wwwwww \\txxxyyyyyyzzzzzzwwwwww \\tU+10000–U+10FFFF\\n\\nA handy property of UTF-8 is that code points below 128 (ASCII characters) are encoded as single bytes, and all non-ASCII code points are encoded using sequences of bytes 128–255. This has a couple of nice consequences. First, any strings or files out there that are already in ASCII can also be interpreted as UTF-8 without any conversion. Second, lots of widely-used string programming idioms—such as null termination, or delimiters (newlines, tabs, commas, slashes, etc.)—will just work on UTF-8 strings. ASCII bytes never occur inside the encoding of non-ASCII code points, so searching byte-wise for a null terminator or a delimiter will do the right thing.\\n\\nThanks to this convenience, it’s relatively simple to extend legacy ASCII programs and APIs to handle UTF-8 strings. UTF-8 is very widely used in the Unix/Linux and Web worlds, and many programmers argue UTF-8 should be the default encoding everywhere.\\n\\nHowever, UTF-8 isn’t a drop-in replacement for ASCII strings in all respects. For instance, code that iterates over the “characters” in a string will need to decode UTF-8 and iterate over code points (or maybe grapheme clusters—more about those later), not bytes. When you measure the “length” of a string, you’ll need to think about whether you want the length in bytes, the length in code points, the width of the text when rendered, or something else.\\nUTF-16\\n\\nThe other encoding that you’re likely to encounter is UTF-16. It uses 16-bit words, with each code point stored as either 1 or 2 words.\\n\\nLike UTF-8, we can express the UTF-16 encoding rules in the form of binary prefixes:\\nUTF-16 (binary) \\tCode point (binary) \\tRange\\nxxxxxxxxxxxxxxxx \\txxxxxxxxxxxxxxxx \\tU+0000–U+FFFF\\n110110xxxxxxxxxx 110111yyyyyyyyyy \\txxxxxxxxxxyyyyyyyyyy + 0x10000 \\tU+10000–U+10FFFF\\n\\nA more common way that people talk about UTF-16 encoding, though, is in terms of code points called “surrogates”. All the code points in the range U+D800–U+DFFF—or in other words, the code points that match the binary prefixes 110110 and 110111 in the table above—are reserved specifically for UTF-16 encoding, and don’t represent any valid characters on their own. They’re only meant to occur in the 2-word encoding pattern above, which is called a “surrogate pair”. Surrogate code points are illegal in any other context! They’re not allowed in UTF-8 or UTF-32 at all.\\n\\nHistorically, UTF-16 is a descendant of the original, pre-1996 versions of Unicode, in which there were only 65,536 code points. The original intention was that there would be no different “encodings”; Unicode was supposed to be a straightforward 16-bit character set. Later, the codespace was expanded to make room for a long tail of less-common (but still important) Han characters, which the Unicode designers didn’t originally plan for. Surrogates were then introduced, as—to put it bluntly—a kludge, allowing 16-bit encodings to access the new code points.\\n\\nToday, Javascript uses UTF-16 as its standard string representation: if you ask for the length of a string, or iterate over it, etc., the result will be in UTF-16 words, with any code points outside the BMP expressed as surrogate pairs. UTF-16 is also used by the Microsoft Win32 APIs; though Win32 supports either 8-bit or 16-bit strings, the 8-bit version unaccountably still doesn’t support UTF-8—only legacy code-page encodings, like ANSI. This leaves UTF-16 as the only way to get proper Unicode support in Windows. (Update: in Win10 version 1903, they finally added UTF-8 support to the 8-bit APIs! 😊)\\n\\nBy the way, UTF-16’s words can be stored either little-endian or big-endian. Unicode has no opinion on that issue, though it does encourage the convention of putting U+FEFF zero width no-break space at the top of a UTF-16 file as a byte-order mark, to disambiguate the endianness. (If the file doesn’t match the system’s endianness, the BOM will be decoded as U+FFFE, which isn’t a valid code point.)\\nCombining Marks\\n\\nIn the story so far, we’ve been focusing on code points. But in Unicode, a “character” can be more complicated than just an individual code point!\\n\\nUnicode includes a system for dynamically composing characters, by combining multiple code points together. This is used in various ways to gain flexibility without causing a huge combinatorial explosion in the number of code points.\\n\\nIn European languages, for example, this shows up in the application of diacritics to letters. Unicode supports a wide range of diacritics, including acute and grave accents, umlauts, cedillas, and many more. All these diacritics can be applied to any letter of any alphabet—and in fact, multiple diacritics can be used on a single letter.\\n\\nIf Unicode tried to assign a distinct code point to every possible combination of letter and diacritics, things would rapidly get out of hand. Instead, the dynamic composition system enables you to construct the character you want, by starting with a base code point (the letter) and appending additional code points, called “combining marks”, to specify the diacritics. When a text renderer sees a sequence like this in a string, it automatically stacks the diacritics over or under the base letter to create a composed character.\\n\\nFor example, the accented character “Á” can be expressed as a string of two code points: U+0041 “A” latin capital letter a plus U+0301 “◌́” combining acute accent. This string automatically gets rendered as a single character: “Á”.\\n\\nNow, Unicode does also include many “precomposed” code points, each representing a letter with some combination of diacritics already applied, such as U+00C1 “Á” latin capital letter a with acute or U+1EC7 “ệ” latin small letter e with circumflex and dot below. I suspect these are mostly inherited from older encodings that were assimilated into Unicode, and kept around for compatibility. In practice, there are precomposed code points for most of the common letter-with-diacritic combinations in European-script languages, so they don’t use dynamic composition that much in typical text.\\n\\nStill, the system of combining marks does allow for an arbitrary number of diacritics to be stacked on any base character. The reductio-ad-absurdum of this is Zalgo text, which works by ͖͟ͅr͞aṋ̫̠̖͈̗d͖̻̹óm̪͙͕̗̝ļ͇̰͓̳̫ý͓̥̟͍ ̕s̫t̫̱͕̗̰̼̘͜a̼̩͖͇̠͈̣͝c̙͍k̖̱̹͍͘i̢n̨̺̝͇͇̟͙ģ̫̮͎̻̟ͅ ̕n̼̺͈͞u̮͙m̺̭̟̗͞e̞͓̰̤͓̫r̵o̖ṷs҉̪͍̭̬̝̤ ̮͉̝̞̗̟͠d̴̟̜̱͕͚i͇̫̼̯̭̜͡ḁ͙̻̼c̲̲̹r̨̠̹̣̰̦i̱t̤̻̤͍͙̘̕i̵̜̭̤̱͎c̵s ͘o̱̲͈̙͖͇̲͢n͘ ̜͈e̬̲̠̩ac͕̺̠͉h̷̪ ̺̣͖̱ḻ̫̬̝̹ḙ̙̺͙̭͓̲t̞̞͇̲͉͍t̷͔̪͉̲̻̠͙e̦̻͈͉͇r͇̭̭̬͖,̖́ ̜͙͓̣̭s̘̘͈o̱̰̤̲ͅ ̛̬̜̙t̼̦͕̱̹͕̥h̳̲͈͝ͅa̦t̻̲ ̻̟̭̦̖t̛̰̩h̠͕̳̝̫͕e͈̤̘͖̞͘y҉̝͙ ̷͉͔̰̠o̞̰v͈͈̳̘͜er̶f̰͈͔ḻ͕̘̫̺̲o̲̭͙͠ͅw̱̳̺ ͜t̸h͇̭͕̳͍e̖̯̟̠ ͍̞̜͔̩̪͜ļ͎̪̲͚i̝̲̹̙̩̹n̨̦̩̖ḙ̼̲̼͢ͅ ̬͝s̼͚̘̞͝p͙̘̻a̙c҉͉̜̤͈̯̖i̥͡n̦̠̱͟g̸̗̻̦̭̮̟ͅ ̳̪̠͖̳̯̕a̫͜n͝d͡ ̣̦̙ͅc̪̗r̴͙̮̦̹̳e͇͚̞͔̹̫͟a̙̺̙ț͔͎̘̹ͅe̥̩͍ a͖̪̜̮͙̹n̢͉̝ ͇͉͓̦̼́a̳͖̪̤̱p̖͔͔̟͇͎͠p̱͍̺ę̲͎͈̰̲̤̫a̯͜r̨̮̫̣̘a̩̯͖n̹̦̰͎̣̞̞c̨̦̱͔͎͍͖e̬͓͘ ̤̰̩͙̤̬͙o̵̼̻̬̻͇̮̪f̴ ̡̙̭͓͖̪̤“̸͙̠̼c̳̗͜o͏̼͙͔̮r̞̫̺̞̥̬ru̺̻̯͉̭̻̯p̰̥͓̣̫̙̤͢t̳͍̳̖ͅi̶͈̝͙̼̙̹o̡͔n̙̺̹̖̩͝ͅ”̨̗͖͚̩.̯͓\\n\\nA few other places where dynamic character composition shows up in Unicode:\\n\\n    Vowel-pointing notation in Arabic and Hebrew. In these languages, words are normally spelled with some of their vowels left out. They then have diacritic notation to indicate the vowels (used in dictionaries, language-teaching materials, children’s books, and such). These diacritics are expressed with combining marks.\\n    A Hebrew example, with niqqud:\\tאֶת דַלְתִּי הֵזִיז הֵנִיעַ, קֶטֶב לִשְׁכַּתִּי יָשׁוֹד\\n    Normal writing (no niqqud):\\tאת דלתי הזיז הניע, קטב לשכתי ישוד\\n\\n    Devanagari, the script used to write Hindi, Sanskrit, and many other South Asian languages, expresses certain vowels as combining marks attached to consonant letters. For example, “ह” + “\\u200bि” = “हि” (“h” + “i” = “hi”).\\n\\n    Korean characters stand for syllables, but they are composed of letters called jamo that stand for the vowels and consonants in the syllable. While there are code points for precomposed Korean syllables, it’s also possible to dynamically compose them by concatenating their jamo. For example, “ᄒ” + “ᅡ” + “ᆫ” = “한” (“h” + “a” + “n” = “han”).\\n\\nCanonical Equivalence\\n\\nIn Unicode, precomposed characters exist alongside the dynamic composition system. A consequence of this is that there are multiple ways to express “the same” string—different sequences of code points that result in the same user-perceived characters. For example, as we saw earlier, we can express the character “Á” either as the single code point U+00C1, or as the string of two code points U+0041 U+0301.\\n\\nAnother source of ambiguity is the ordering of multiple diacritics in a single character. Diacritic order matters visually when two diacritics apply to the same side of the base character, e.g. both above: “ǡ” (dot, then macron) is different from “ā̇” (macron, then dot). However, when diacritics apply to different sides of the character, e.g. one above and one below, then the order doesn’t affect rendering. Moreover, a character with multiple diacritics might have one of the diacritics precomposed and others expressed as combining marks.\\n\\nFor example, the Vietnamese letter “ệ” can be expressed in five different ways:\\n\\n    Fully precomposed: U+1EC7 “ệ”\\n    Partially precomposed: U+1EB9 “ẹ” + U+0302 “◌̂”\\n    Partially precomposed: U+00EA “ê” + U+0323 “◌̣”\\n    Fully decomposed: U+0065 “e” + U+0323 “◌̣” + U+0302 “◌̂”\\n    Fully decomposed: U+0065 “e” + U+0302 “◌̂” + U+0323 “◌̣”\\n\\nUnicode refers to set of strings like this as “canonically equivalent”. Canonically equivalent strings are supposed to be treated as identical for purposes of searching, sorting, rendering, text selection, and so on. This has implications for how you implement operations on text. For example, if an app has a “find in file” operation and the user searches for “ệ”, it should, by default, find occurrences of any of the five versions of “ệ” above!\\nNormalization Forms\\n\\nTo address the problem of “how to handle canonically equivalent strings”, Unicode defines several normalization forms: ways of converting strings into a canonical form so that they can be compared code-point-by-code-point (or byte-by-byte).\\n\\nThe “NFD” normalization form fully decomposes every character down to its component base and combining marks, taking apart any precomposed code points in the string. It also sorts the combining marks in each character according to their rendered position, so e.g. diacritics that go below the character come before the ones that go above the character. (It doesn’t reorder diacritics in the same rendered position, since their order matters visually, as previously mentioned.)\\n\\nThe “NFC” form, conversely, puts things back together into precomposed code points as much as possible. If an unusual combination of diacritics is called for, there may not be any precomposed code point for it, in which case NFC still precomposes what it can and leaves any remaining combining marks in place (again ordered by rendered position, as in NFD).\\n\\nThere are also forms called NFKD and NFKC. The “K” here refers to compatibility decompositions, which cover characters that are “similar” in some sense but not visually identical. However, I’m not going to cover that here.\\nGrapheme Clusters\\n\\nAs we’ve seen, Unicode contains various cases where a thing that a user thinks of as a single “character” might actually be made up of multiple code points under the hood. Unicode formalizes this using the notion of a grapheme cluster: a string of one or more code points that constitute a single “user-perceived character”.\\n\\nUAX #29 defines the rules for what, precisely, qualifies as a grapheme cluster. It’s approximately “a base code point followed by any number of combining marks”, but the actual definition is a bit more complicated; it accounts for things like Korean jamo, and emoji ZWJ sequences.\\n\\nThe main thing grapheme clusters are used for is text editing: they’re often the most sensible unit for cursor placement and text selection boundaries. Using grapheme clusters for these purposes ensures that you can’t accidentally chop off some diacritics when you copy-and-paste text, that left/right arrow keys always move the cursor by one visible character, and so on.\\n\\nAnother place where grapheme clusters are useful is in enforcing a string length limit—say, on a database field. While the true, underlying limit might be something like the byte length of the string in UTF-8, you wouldn’t want to enforce that by just truncating bytes. At a minimum, you’d want to “round down” to the nearest code point boundary; but even better, round down to the nearest grapheme cluster boundary. Otherwise, you might be corrupting the last character by cutting off a diacritic, or interrupting a jamo sequence or ZWJ sequence.\\nAnd More…\\n\\nThere’s much more that could be said about Unicode from a programmer’s perspective! I haven’t gotten into such fun topics as case mapping, collation, compatibility decompositions and confusables, Unicode-aware regexes, or bidirectional text. Nor have I said anything yet about implementation issues—how to efficiently store and look-up data about the sparsely-assigned code points, or how to optimize UTF-8 decoding, string comparison, or NFC normalization. Perhaps I’ll return to some of those things in future posts.\\n\\nUnicode is a fascinating and complex system. It has a many-to-one mapping between bytes and code points, and on top of that a many-to-one (or, under some circumstances, many-to-many) mapping between code points and “characters”. It has oddball special cases in every corner. But no one ever claimed that representing all written languages was going to be easy, and it’s clear that we’re never going back to the bad old days of a patchwork of incompatible encodings.\\n\\nFurther reading:\\n\\n    The Unicode Standard\\n    UTF-8 Everywhere Manifesto\\n    Dark corners of Unicode by Eevee\\n    ICU (International Components for Unicode)—C/C++/Java libraries implementing many Unicode algorithms and related things\\n    Python 3 Unicode Howto\\n    Google Noto Fonts—set of fonts intended to cover all assigned code points\\n\\n'"
      ]
     },
     "execution_count": 222,
     "metadata": {},
     "output_type": "execute_result"
    }
   ],
   "source": [
    "rawtext"
   ]
  },
  {
   "cell_type": "code",
   "execution_count": 412,
   "id": "cf41e38f-6412-4541-9961-4e24512b9951",
   "metadata": {},
   "outputs": [
    {
     "name": "stdout",
     "output_type": "stream",
     "text": [
      "---\n",
      "\n",
      "Ｕｎｉｃｏｄｅ! 🅤🅝🅘🅒🅞🅓🅔‽ 🇺‌🇳‌🇮‌🇨‌🇴‌🇩‌🇪! 😄 The very name strikes fear and awe into the hearts of programmers worldwide. We all know we ought to “support Unicode” in our software (whatever that means—like using wchar_t for all the strings, right?). But Unicode can be abstruse, and diving into the thousand-page Unicode Standard plus its dozens of supplementary annexes, reports, and notes can be more than a little intimidating. I don’t blame programmers for still finding the whole thing mysterious, even 30 years after Unicode’s inception.\n",
      "\n",
      "A few months ago, I got interested in Unicode and decided to spend some time learning more about it in detail. In this article, I’ll give an introduction to it from a programmer’s point of view.\n",
      "\n",
      "I’m going to focus on the character set and what’s involved in working with strings and files of Unicode text. However, in this article I’m not going to talk about fonts, text layout/shaping/rendering, or localization in detail—those are separate issues, beyond my scope (and knowledge) here.\n",
      "\n",
      "    Diversity and Inherent Complexity\n",
      "    The Unicode Codespace\n",
      "        Codespace Allocation\n",
      "        Scripts\n",
      "        Usage Frequency\n",
      "    Encodings\n",
      "        UTF-8\n",
      "        UTF-16\n",
      "    Combining Marks\n",
      "        Canonical Equivalence\n",
      "        Normalization Forms\n",
      "        Grapheme Clusters\n",
      "    And More…\n",
      "\n",
      "Diversity and Inherent Complexity\n",
      "\n",
      "As soon as you start to study Unicode, it becomes clear that it represents a large jump in complexity over character sets like ASCII that you may be more familiar with. It’s not just that Unicode contains a much larger number of characters, although that’s part of it. Unicode also has a great deal of internal structure, features, and special cases, making it much more than what one might expect a mere “character set” to be. We’ll see some of that later in this article.\n",
      "\n",
      "When confronting all this complexity, especially as an engineer, it’s hard not to find oneself asking, “Why do we need all this? Is this really necessary? Couldn’t it be simplified?”\n",
      "\n",
      "However, Unicode aims to faithfully represent the entire world’s writing systems. The Unicode Consortium’s stated goal is “enabling people around the world to use computers in any language”. And as you might imagine, the diversity of written languages is immense! To date, Unicode supports 135 different scripts, covering some 1100 languages, and there’s still a long tail of over 100 unsupported scripts, both modern and historical, which people are still working to add.\n",
      "\n",
      "Given this enormous diversity, it’s inevitable that representing it is a complicated project. Unicode embraces that diversity, and accepts the complexity inherent in its mission to include all human writing systems. It doesn’t make a lot of trade-offs in the name of simplification, and it makes exceptions to its own rules where necessary to further its mission.\n",
      "\n",
      "Moreover, Unicode is committed not just to supporting texts in any single language, but also to letting multiple languages coexist within one text—which introduces even more complexity.\n",
      "\n",
      "Most programming languages have libraries available to handle the gory low-level details of text manipulation, but as a programmer, you’ll still need to know about certain Unicode features in order to know when and how to apply them. It may take some time to wrap your head around it all, but don’t be discouraged—think about the billions of people for whom your software will be more accessible through supporting text in their language. Embrace the complexity!\n",
      "The Unicode Codespace\n",
      "\n",
      "Let’s start with some general orientation. The basic elements of Unicode—its “characters”, although that term isn’t quite right—are called code points. Code points are identified by number, customarily written in hexadecimal with the prefix “U+”, such as U+0041 “A” latin capital letter a or U+03B8 “θ” greek small letter theta. Each code point also has a short name, and quite a few other properties, specified in the Unicode Character Database.\n",
      "\n",
      "The set of all possible code points is called the codespace. The Unicode codespace consists of 1,114,112 code points. However, only 128,237 of them—about 12% of the codespace—are actually assigned, to date. There’s plenty of room for growth! Unicode also reserves an additional 137,468 code points as “private use” areas, which have no standardized meaning and are available for individual applications to define for their own purposes.\n",
      "Codespace Allocation\n",
      "\n",
      "To get a feel for how the codespace is laid out, it’s helpful to visualize it. Below is a map of the entire codespace, with one pixel per code point. It’s arranged in tiles for visual coherence; each small square is 16×16 = 256 code points, and each large square is a “plane” of 65,536 code points. There are 17 planes altogether.\n",
      "\n",
      "Map of the Unicode codespace (click to zoom)\n",
      "\n",
      "White represents unassigned space. Blue is assigned code points, green is private-use areas, and the small red area is surrogates (more about those later). As you can see, the assigned code points are distributed somewhat sparsely, but concentrated in the first three planes.\n",
      "\n",
      "Plane 0 is also known as the “Basic Multilingual Plane”, or BMP. The BMP contains essentially all the characters needed for modern text in any script, including Latin, Cyrillic, Greek, Han (Chinese), Japanese, Korean, Arabic, Hebrew, Devanagari (Indian), and many more.\n",
      "\n",
      "(In the past, the codespace was just the BMP and no more—Unicode was originally conceived as a straightforward 16-bit encoding, with only 65,536 code points. It was expanded to its current size in 1996. However, the vast majority of code points in modern text belong to the BMP.)\n",
      "\n",
      "Plane 1 contains historical scripts, such as Sumerian cuneiform and Egyptian hieroglyphs, as well as emoji and various other symbols. Plane 2 contains a large block of less-common and historical Han characters. The remaining planes are empty, except for a small number of rarely-used formatting characters in Plane 14; planes 15–16 are reserved entirely for private use.\n",
      "Scripts\n",
      "\n",
      "Let’s zoom in on the first three planes, since that’s where the action is:\n",
      "\n",
      "Map of scripts in Unicode planes 0–2 (click to zoom)\n",
      "\n",
      "This map color-codes the 135 different scripts in Unicode. You can see how Han () and Korean () take up most of the range of the BMP (the left large square). By contrast, all of the European, Middle Eastern, and South Asian scripts fit into the first row of the BMP in this diagram.\n",
      "\n",
      "Many areas of the codespace are adapted or copied from earlier encodings. For example, the first 128 code points of Unicode are just a copy of ASCII. This has clear benefits for compatibility—it’s easy to losslessly convert texts from smaller encodings into Unicode (and the other direction too, as long as no characters outside the smaller encoding are used).\n",
      "Usage Frequency\n",
      "\n",
      "One more interesting way to visualize the codespace is to look at the distribution of usage—in other words, how often each code point is actually used in real-world texts. Below is a heat map of planes 0–2 based on a large sample of text from Wikipedia and Twitter (all languages). Frequency increases from black (never seen) through red and yellow to white.\n",
      "\n",
      "Heat map of code point usage frequency in Unicode planes 0–2 (click to zoom)\n",
      "\n",
      "You can see that the vast majority of this text sample lies in the BMP, with only scattered usage of code points from planes 1–2. The biggest exception is emoji, which show up here as the several bright squares in the bottom row of plane 1.\n",
      "Encodings\n",
      "\n",
      "We’ve seen that Unicode code points are abstractly identified by their index in the codespace, ranging from U+0000 to U+10FFFF. But how do code points get represented as bytes, in memory or in a file?\n",
      "\n",
      "The most convenient, computer-friendliest (and programmer-friendliest) thing to do would be to just store the code point index as a 32-bit integer. This works, but it consumes 4 bytes per code point, which is sort of a lot. Using 32-bit ints for Unicode will cost you a bunch of extra storage, memory, and performance in bandwidth-bound scenarios, if you work with a lot of text.\n",
      "\n",
      "Consequently, there are several more-compact encodings for Unicode. The 32-bit integer encoding is officially called UTF-32 (UTF = “Unicode Transformation Format”), but it’s rarely used for storage. At most, it comes up sometimes as a temporary internal representation, for examining or operating on the code points in a string.\n",
      "\n",
      "Much more commonly, you’ll see Unicode text encoded as either UTF-8 or UTF-16. These are both variable-length encodings, made up of 8-bit or 16-bit units, respectively. In these schemes, code points with smaller index values take up fewer bytes, which saves a lot of memory for typical texts. The trade-off is that processing UTF-8/16 texts is more programmatically involved, and likely slower.\n",
      "UTF-8\n",
      "\n",
      "In UTF-8, each code point is stored using 1 to 4 bytes, based on its index value.\n",
      "\n",
      "UTF-8 uses a system of binary prefixes, in which the high bits of each byte mark whether it’s a single byte, the beginning of a multi-byte sequence, or a continuation byte; the remaining bits, concatenated, give the code point index. This table shows how it works:\n",
      "UTF-8 (binary) \tCode point (binary) \tRange\n",
      "0xxxxxxx \txxxxxxx \tU+0000–U+007F\n",
      "110xxxxx 10yyyyyy \txxxxxyyyyyy \tU+0080–U+07FF\n",
      "1110xxxx 10yyyyyy 10zzzzzz \txxxxyyyyyyzzzzzz \tU+0800–U+FFFF\n",
      "11110xxx 10yyyyyy 10zzzzzz 10wwwwww \txxxyyyyyyzzzzzzwwwwww \tU+10000–U+10FFFF\n",
      "\n",
      "A handy property of UTF-8 is that code points below 128 (ASCII characters) are encoded as single bytes, and all non-ASCII code points are encoded using sequences of bytes 128–255. This has a couple of nice consequences. First, any strings or files out there that are already in ASCII can also be interpreted as UTF-8 without any conversion. Second, lots of widely-used string programming idioms—such as null termination, or delimiters (newlines, tabs, commas, slashes, etc.)—will just work on UTF-8 strings. ASCII bytes never occur inside the encoding of non-ASCII code points, so searching byte-wise for a null terminator or a delimiter will do the right thing.\n",
      "\n",
      "Thanks to this convenience, it’s relatively simple to extend legacy ASCII programs and APIs to handle UTF-8 strings. UTF-8 is very widely used in the Unix/Linux and Web worlds, and many programmers argue UTF-8 should be the default encoding everywhere.\n",
      "\n",
      "However, UTF-8 isn’t a drop-in replacement for ASCII strings in all respects. For instance, code that iterates over the “characters” in a string will need to decode UTF-8 and iterate over code points (or maybe grapheme clusters—more about those later), not bytes. When you measure the “length” of a string, you’ll need to think about whether you want the length in bytes, the length in code points, the width of the text when rendered, or something else.\n",
      "UTF-16\n",
      "\n",
      "The other encoding that you’re likely to encounter is UTF-16. It uses 16-bit words, with each code point stored as either 1 or 2 words.\n",
      "\n",
      "Like UTF-8, we can express the UTF-16 encoding rules in the form of binary prefixes:\n",
      "UTF-16 (binary) \tCode point (binary) \tRange\n",
      "xxxxxxxxxxxxxxxx \txxxxxxxxxxxxxxxx \tU+0000–U+FFFF\n",
      "110110xxxxxxxxxx 110111yyyyyyyyyy \txxxxxxxxxxyyyyyyyyyy + 0x10000 \tU+10000–U+10FFFF\n",
      "\n",
      "A more common way that people talk about UTF-16 encoding, though, is in terms of code points called “surrogates”. All the code points in the range U+D800–U+DFFF—or in other words, the code points that match the binary prefixes 110110 and 110111 in the table above—are reserved specifically for UTF-16 encoding, and don’t represent any valid characters on their own. They’re only meant to occur in the 2-word encoding pattern above, which is called a “surrogate pair”. Surrogate code points are illegal in any other context! They’re not allowed in UTF-8 or UTF-32 at all.\n",
      "\n",
      "Historically, UTF-16 is a descendant of the original, pre-1996 versions of Unicode, in which there were only 65,536 code points. The original intention was that there would be no different “encodings”; Unicode was supposed to be a straightforward 16-bit character set. Later, the codespace was expanded to make room for a long tail of less-common (but still important) Han characters, which the Unicode designers didn’t originally plan for. Surrogates were then introduced, as—to put it bluntly—a kludge, allowing 16-bit encodings to access the new code points.\n",
      "\n",
      "Today, Javascript uses UTF-16 as its standard string representation: if you ask for the length of a string, or iterate over it, etc., the result will be in UTF-16 words, with any code points outside the BMP expressed as surrogate pairs. UTF-16 is also used by the Microsoft Win32 APIs; though Win32 supports either 8-bit or 16-bit strings, the 8-bit version unaccountably still doesn’t support UTF-8—only legacy code-page encodings, like ANSI. This leaves UTF-16 as the only way to get proper Unicode support in Windows. (Update: in Win10 version 1903, they finally added UTF-8 support to the 8-bit APIs! 😊)\n",
      "\n",
      "By the way, UTF-16’s words can be stored either little-endian or big-endian. Unicode has no opinion on that issue, though it does encourage the convention of putting U+FEFF zero width no-break space at the top of a UTF-16 file as a byte-order mark, to disambiguate the endianness. (If the file doesn’t match the system’s endianness, the BOM will be decoded as U+FFFE, which isn’t a valid code point.)\n",
      "Combining Marks\n",
      "\n",
      "In the story so far, we’ve been focusing on code points. But in Unicode, a “character” can be more complicated than just an individual code point!\n",
      "\n",
      "Unicode includes a system for dynamically composing characters, by combining multiple code points together. This is used in various ways to gain flexibility without causing a huge combinatorial explosion in the number of code points.\n",
      "\n",
      "In European languages, for example, this shows up in the application of diacritics to letters. Unicode supports a wide range of diacritics, including acute and grave accents, umlauts, cedillas, and many more. All these diacritics can be applied to any letter of any alphabet—and in fact, multiple diacritics can be used on a single letter.\n",
      "\n",
      "If Unicode tried to assign a distinct code point to every possible combination of letter and diacritics, things would rapidly get out of hand. Instead, the dynamic composition system enables you to construct the character you want, by starting with a base code point (the letter) and appending additional code points, called “combining marks”, to specify the diacritics. When a text renderer sees a sequence like this in a string, it automatically stacks the diacritics over or under the base letter to create a composed character.\n",
      "\n",
      "For example, the accented character “Á” can be expressed as a string of two code points: U+0041 “A” latin capital letter a plus U+0301 “◌́” combining acute accent. This string automatically gets rendered as a single character: “Á”.\n",
      "\n",
      "Now, Unicode does also include many “precomposed” code points, each representing a letter with some combination of diacritics already applied, such as U+00C1 “Á” latin capital letter a with acute or U+1EC7 “ệ” latin small letter e with circumflex and dot below. I suspect these are mostly inherited from older encodings that were assimilated into Unicode, and kept around for compatibility. In practice, there are precomposed code points for most of the common letter-with-diacritic combinations in European-script languages, so they don’t use dynamic composition that much in typical text.\n",
      "\n",
      "Still, the system of combining marks does allow for an arbitrary number of diacritics to be stacked on any base character. The reductio-ad-absurdum of this is Zalgo text, which works by ͖͟ͅr͞aṋ̫̠̖͈̗d͖̻̹óm̪͙͕̗̝ļ͇̰͓̳̫ý͓̥̟͍ ̕s̫t̫̱͕̗̰̼̘͜a̼̩͖͇̠͈̣͝c̙͍k̖̱̹͍͘i̢n̨̺̝͇͇̟͙ģ̫̮͎̻̟ͅ ̕n̼̺͈͞u̮͙m̺̭̟̗͞e̞͓̰̤͓̫r̵o̖ṷs҉̪͍̭̬̝̤ ̮͉̝̞̗̟͠d̴̟̜̱͕͚i͇̫̼̯̭̜͡ḁ͙̻̼c̲̲̹r̨̠̹̣̰̦i̱t̤̻̤͍͙̘̕i̵̜̭̤̱͎c̵s ͘o̱̲͈̙͖͇̲͢n͘ ̜͈e̬̲̠̩ac͕̺̠͉h̷̪ ̺̣͖̱ḻ̫̬̝̹ḙ̙̺͙̭͓̲t̞̞͇̲͉͍t̷͔̪͉̲̻̠͙e̦̻͈͉͇r͇̭̭̬͖,̖́ ̜͙͓̣̭s̘̘͈o̱̰̤̲ͅ ̛̬̜̙t̼̦͕̱̹͕̥h̳̲͈͝ͅa̦t̻̲ ̻̟̭̦̖t̛̰̩h̠͕̳̝̫͕e͈̤̘͖̞͘y҉̝͙ ̷͉͔̰̠o̞̰v͈͈̳̘͜er̶f̰͈͔ḻ͕̘̫̺̲o̲̭͙͠ͅw̱̳̺ ͜t̸h͇̭͕̳͍e̖̯̟̠ ͍̞̜͔̩̪͜ļ͎̪̲͚i̝̲̹̙̩̹n̨̦̩̖ḙ̼̲̼͢ͅ ̬͝s̼͚̘̞͝p͙̘̻a̙c҉͉̜̤͈̯̖i̥͡n̦̠̱͟g̸̗̻̦̭̮̟ͅ ̳̪̠͖̳̯̕a̫͜n͝d͡ ̣̦̙ͅc̪̗r̴͙̮̦̹̳e͇͚̞͔̹̫͟a̙̺̙ț͔͎̘̹ͅe̥̩͍ a͖̪̜̮͙̹n̢͉̝ ͇͉͓̦̼́a̳͖̪̤̱p̖͔͔̟͇͎͠p̱͍̺ę̲͎͈̰̲̤̫a̯͜r̨̮̫̣̘a̩̯͖n̹̦̰͎̣̞̞c̨̦̱͔͎͍͖e̬͓͘ ̤̰̩͙̤̬͙o̵̼̻̬̻͇̮̪f̴ ̡̙̭͓͖̪̤“̸͙̠̼c̳̗͜o͏̼͙͔̮r̞̫̺̞̥̬ru̺̻̯͉̭̻̯p̰̥͓̣̫̙̤͢t̳͍̳̖ͅi̶͈̝͙̼̙̹o̡͔n̙̺̹̖̩͝ͅ”̨̗͖͚̩.̯͓\n",
      "\n",
      "A few other places where dynamic character composition shows up in Unicode:\n",
      "\n",
      "    Vowel-pointing notation in Arabic and Hebrew. In these languages, words are normally spelled with some of their vowels left out. They then have diacritic notation to indicate the vowels (used in dictionaries, language-teaching materials, children’s books, and such). These diacritics are expressed with combining marks.\n",
      "    A Hebrew example, with niqqud:\tאֶת דַלְתִּי הֵזִיז הֵנִיעַ, קֶטֶב לִשְׁכַּתִּי יָשׁוֹד\n",
      "    Normal writing (no niqqud):\tאת דלתי הזיז הניע, קטב לשכתי ישוד\n",
      "\n",
      "    Devanagari, the script used to write Hindi, Sanskrit, and many other South Asian languages, expresses certain vowels as combining marks attached to consonant letters. For example, “ह” + “​ि” = “हि” (“h” + “i” = “hi”).\n",
      "\n",
      "    Korean characters stand for syllables, but they are composed of letters called jamo that stand for the vowels and consonants in the syllable. While there are code points for precomposed Korean syllables, it’s also possible to dynamically compose them by concatenating their jamo. For example, “ᄒ” + “ᅡ” + “ᆫ” = “한” (“h” + “a” + “n” = “han”).\n",
      "\n",
      "Canonical Equivalence\n",
      "\n",
      "In Unicode, precomposed characters exist alongside the dynamic composition system. A consequence of this is that there are multiple ways to express “the same” string—different sequences of code points that result in the same user-perceived characters. For example, as we saw earlier, we can express the character “Á” either as the single code point U+00C1, or as the string of two code points U+0041 U+0301.\n",
      "\n",
      "Another source of ambiguity is the ordering of multiple diacritics in a single character. Diacritic order matters visually when two diacritics apply to the same side of the base character, e.g. both above: “ǡ” (dot, then macron) is different from “ā̇” (macron, then dot). However, when diacritics apply to different sides of the character, e.g. one above and one below, then the order doesn’t affect rendering. Moreover, a character with multiple diacritics might have one of the diacritics precomposed and others expressed as combining marks.\n",
      "\n",
      "For example, the Vietnamese letter “ệ” can be expressed in five different ways:\n",
      "\n",
      "    Fully precomposed: U+1EC7 “ệ”\n",
      "    Partially precomposed: U+1EB9 “ẹ” + U+0302 “◌̂”\n",
      "    Partially precomposed: U+00EA “ê” + U+0323 “◌̣”\n",
      "    Fully decomposed: U+0065 “e” + U+0323 “◌̣” + U+0302 “◌̂”\n",
      "    Fully decomposed: U+0065 “e” + U+0302 “◌̂” + U+0323 “◌̣”\n",
      "\n",
      "Unicode refers to set of strings like this as “canonically equivalent”. Canonically equivalent strings are supposed to be treated as identical for purposes of searching, sorting, rendering, text selection, and so on. This has implications for how you implement operations on text. For example, if an app has a “find in file” operation and the user searches for “ệ”, it should, by default, find occurrences of any of the five versions of “ệ” above!\n",
      "Normalization Forms\n",
      "\n",
      "To address the problem of “how to handle canonically equivalent strings”, Unicode defines several normalization forms: ways of converting strings into a canonical form so that they can be compared code-point-by-code-point (or byte-by-byte).\n",
      "\n",
      "The “NFD” normalization form fully decomposes every character down to its component base and combining marks, taking apart any precomposed code points in the string. It also sorts the combining marks in each character according to their rendered position, so e.g. diacritics that go below the character come before the ones that go above the character. (It doesn’t reorder diacritics in the same rendered position, since their order matters visually, as previously mentioned.)\n",
      "\n",
      "The “NFC” form, conversely, puts things back together into precomposed code points as much as possible. If an unusual combination of diacritics is called for, there may not be any precomposed code point for it, in which case NFC still precomposes what it can and leaves any remaining combining marks in place (again ordered by rendered position, as in NFD).\n",
      "\n",
      "There are also forms called NFKD and NFKC. The “K” here refers to compatibility decompositions, which cover characters that are “similar” in some sense but not visually identical. However, I’m not going to cover that here.\n",
      "Grapheme Clusters\n",
      "\n",
      "As we’ve seen, Unicode contains various cases where a thing that a user thinks of as a single “character” might actually be made up of multiple code points under the hood. Unicode formalizes this using the notion of a grapheme cluster: a string of one or more code points that constitute a single “user-perceived character”.\n",
      "\n",
      "UAX #29 defines the rules for what, precisely, qualifies as a grapheme cluster. It’s approximately “a base code point followed by any number of combining marks”, but the actual definition is a bit more complicated; it accounts for things like Korean jamo, and emoji ZWJ sequences.\n",
      "\n",
      "The main thing grapheme clusters are used for is text editing: they’re often the most sensible unit for cursor placement and text selection boundaries. Using grapheme clusters for these purposes ensures that you can’t accidentally chop off some diacritics when you copy-and-paste text, that left/right arrow keys always move the cursor by one visible character, and so on.\n",
      "\n",
      "Another place where grapheme clusters are useful is in enforcing a string length limit—say, on a database field. While the true, underlying limit might be something like the byte length of the string in UTF-8, you wouldn’t want to enforce that by just truncating bytes. At a minimum, you’d want to “round down” to the nearest code point boundary; but even better, round down to the nearest grapheme cluster boundary. Otherwise, you might be corrupting the last character by cutting off a diacritic, or interrupting a jamo sequence or ZWJ sequence.\n",
      "And More…\n",
      "\n",
      "There’s much more that could be said about Unicode from a programmer’s perspective! I haven’t gotten into such fun topics as case mapping, collation, compatibility decompositions and confusables, Unicode-aware regexes, or bidirectional text. Nor have I said anything yet about implementation issues—how to efficiently store and look-up data about the sparsely-assigned code points, or how to optimize UTF-8 decoding, string comparison, or NFC normalization. Perhaps I’ll return to some of those things in future posts.\n",
      "\n",
      "Unicode is a fascinating and complex system. It has a many-to-one mapping between bytes and code points, and on top of that a many-to-one (or, under some circumstances, many-to-many) mapping between code points and “characters”. It has oddball special cases in every corner. But no one ever claimed that representing all written languages was going to be easy, and it’s clear that we’re never going back to the bad old days of a patchwork of incompatible encodings.\n",
      "\n",
      "Further reading:\n",
      "\n",
      "    The Unicode Standard\n",
      "    UTF-8 Everywhere Manifesto\n",
      "    Dark corners of Unicode by Eevee\n",
      "    ICU (International Components for Unicode)—C/C++/Java libraries implementing many Unicode algorithms and related things\n",
      "    Python 3 Unicode Howto\n",
      "    Google Noto Fonts—set of fonts intended to cover all assigned code points\n",
      "\n",
      "\n",
      "length: 23441\n",
      "\n",
      "[10, 239, 188, 181, 239, 189, 142, 239, 189, 137, 239, 189, 131, 239, 189, 143, 239, 189, 132, 239, 189, 133, 33, 32, 240, 159, 133, 164, 240, 159, 133, 157, 240, 159, 133, 152, 240, 159, 133, 146, 240, 159, 133, 158, 240, 159, 133, 147, 240, 159, 133, 148, 226, 128, 189, 32, 240, 159, 135, 186, 226, 128, 140, 240, 159, 135, 179, 226, 128, 140, 240, 159, 135, 174, 226, 128, 140, 240, 159, 135, 168, 226, 128, 140, 240, 159, 135, 180, 226, 128, 140, 240, 159, 135, 169, 226, 128, 140, 240, 159, 135, 170, 33, 32, 240, 159, 152, 132, 32, 84, 104, 101, 32, 118, 101, 114, 121, 32, 110, 97, 109, 101, 32, 115, 116, 114, 105, 107, 101, 115, 32, 102, 101, 97, 114, 32, 97, 110, 100, 32, 97, 119, 101, 32, 105, 110, 116, 111, 32, 116, 104, 101, 32, 104, 101, 97, 114, 116, 115, 32, 111, 102, 32, 112, 114, 111, 103, 114, 97, 109, 109, 101, 114, 115, 32, 119, 111, 114, 108, 100, 119, 105, 100, 101, 46, 32, 87, 101, 32, 97, 108, 108, 32, 107, 110, 111, 119, 32, 119, 101, 32, 111, 117, 103, 104, 116, 32, 116, 111, 32, 226, 128, 156, 115, 117, 112, 112, 111, 114, 116, 32, 85, 110, 105, 99, 111, 100, 101, 226, 128, 157, 32, 105, 110, 32, 111, 117, 114, 32, 115, 111, 102, 116, 119, 97, 114, 101, 32, 40, 119, 104, 97, 116, 101, 118, 101, 114, 32, 116, 104, 97, 116, 32, 109, 101, 97, 110, 115, 226, 128, 148, 108, 105, 107, 101, 32, 117, 115, 105, 110, 103, 32, 119, 99, 104, 97, 114, 95, 116, 32, 102, 111, 114, 32, 97, 108, 108, 32, 116, 104, 101, 32, 115, 116, 114, 105, 110, 103, 115, 44, 32, 114, 105, 103, 104, 116, 63, 41, 46, 32, 66, 117, 116, 32, 85, 110, 105, 99, 111, 100, 101, 32, 99, 97, 110, 32, 98, 101, 32, 97, 98, 115, 116, 114, 117, 115, 101, 44, 32, 97, 110, 100, 32, 100, 105, 118, 105, 110, 103, 32, 105, 110, 116, 111, 32, 116, 104, 101, 32, 116, 104, 111, 117, 115, 97, 110, 100, 45, 112, 97, 103, 101, 32, 85, 110, 105, 99, 111, 100, 101, 32, 83, 116, 97, 110, 100, 97, 114, 100, 32, 112, 108, 117, 115, 32, 105, 116, 115, 32, 100, 111, 122, 101, 110, 115, 32, 111, 102, 32, 115, 117, 112, 112, 108, 101, 109, 101, 110, 116, 97, 114, 121, 32, 97, 110, 110, 101, 120, 101, 115, 44, 32, 114, 101, 112, 111, 114, 116, 115, 44, 32, 97, 110, 100, 32, 110, 111, 116, 101, 115, 32, 99, 97, 110, 32, 98, 101, 32, 109, 111, 114, 101, 32, 116, 104, 97, 110, 32, 97, 32, 108, 105, 116, 116, 108, 101, 32, 105, 110, 116, 105, 109, 105, 100, 97, 116, 105, 110, 103, 46, 32, 73, 32, 100, 111, 110, 226, 128, 153, 116, 32, 98, 108, 97, 109, 101, 32, 112, 114, 111, 103, 114, 97, 109, 109, 101, 114, 115, 32, 102, 111, 114, 32, 115, 116, 105, 108, 108, 32, 102, 105, 110, 100, 105, 110, 103, 32, 116, 104, 101, 32, 119, 104, 111, 108, 101, 32, 116, 104, 105, 110, 103, 32, 109, 121, 115, 116, 101, 114, 105, 111, 117, 115, 44, 32, 101, 118, 101, 110, 32, 51, 48, 32, 121, 101, 97, 114, 115, 32, 97, 102, 116, 101, 114, 32, 85, 110, 105, 99, 111, 100, 101, 226, 128, 153, 115, 32, 105, 110, 99, 101, 112, 116, 105, 111, 110, 46, 10, 10, 65, 32, 102, 101, 119, 32, 109, 111, 110, 116, 104, 115, 32, 97, 103, 111, 44, 32, 73, 32, 103, 111, 116, 32, 105, 110, 116, 101, 114, 101, 115, 116, 101, 100, 32, 105, 110, 32, 85, 110, 105, 99, 111, 100, 101, 32, 97, 110, 100, 32, 100, 101, 99, 105, 100, 101, 100, 32, 116, 111, 32, 115, 112, 101, 110, 100, 32, 115, 111, 109, 101, 32, 116, 105, 109, 101, 32, 108, 101, 97, 114, 110, 105, 110, 103, 32, 109, 111, 114, 101, 32, 97, 98, 111, 117, 116, 32, 105, 116, 32, 105, 110, 32, 100, 101, 116, 97, 105, 108, 46, 32, 73, 110, 32, 116, 104, 105, 115, 32, 97, 114, 116, 105, 99, 108, 101, 44, 32, 73, 226, 128, 153, 108, 108, 32, 103, 105, 118, 101, 32, 97, 110, 32, 105, 110, 116, 114, 111, 100, 117, 99, 116, 105, 111, 110, 32, 116, 111, 32, 105, 116, 32, 102, 114, 111, 109, 32, 97, 32, 112, 114, 111, 103, 114, 97, 109, 109, 101, 114, 226, 128, 153, 115, 32, 112, 111, 105, 110, 116, 32, 111, 102, 32, 118, 105, 101, 119, 46, 10, 10, 73, 226, 128, 153, 109, 32, 103, 111, 105, 110, 103, 32, 116, 111, 32, 102, 111, 99, 117, 115, 32, 111, 110, 32, 116, 104, 101, 32, 99, 104, 97, 114, 97, 99, 116, 101, 114, 32, 115, 101, 116, 32, 97, 110, 100, 32, 119, 104, 97, 116, 226, 128, 153, 115, 32, 105, 110, 118, 111, 108, 118, 101, 100, 32, 105, 110, 32, 119, 111, 114, 107, 105, 110, 103, 32, 119, 105, 116, 104, 32, 115, 116, 114, 105, 110, 103, 115, 32, 97, 110, 100, 32, 102, 105, 108, 101, 115, 32, 111, 102, 32, 85, 110, 105, 99, 111, 100, 101, 32, 116, 101, 120, 116, 46, 32, 72, 111, 119, 101, 118, 101, 114, 44, 32, 105, 110, 32, 116, 104, 105, 115, 32, 97, 114, 116, 105, 99, 108, 101, 32, 73, 226, 128, 153, 109, 32, 110, 111, 116, 32, 103, 111, 105, 110, 103, 32, 116, 111, 32, 116, 97, 108, 107, 32, 97, 98, 111, 117, 116, 32, 102, 111, 110, 116, 115, 44, 32, 116, 101, 120, 116, 32, 108, 97, 121, 111, 117, 116, 47, 115, 104, 97, 112, 105, 110, 103, 47, 114, 101, 110, 100, 101, 114, 105, 110, 103, 44, 32, 111, 114, 32, 108, 111, 99, 97, 108, 105, 122, 97, 116, 105, 111, 110, 32, 105, 110, 32, 100, 101, 116, 97, 105, 108, 226, 128, 148, 116, 104, 111, 115, 101, 32, 97, 114, 101, 32, 115, 101, 112, 97, 114, 97, 116, 101, 32, 105, 115, 115, 117, 101, 115, 44, 32, 98, 101, 121, 111, 110, 100, 32, 109, 121, 32, 115, 99, 111, 112, 101, 32, 40, 97, 110, 100, 32, 107, 110, 111, 119, 108, 101, 100, 103, 101, 41, 32, 104, 101, 114, 101, 46, 10, 10, 32, 32, 32, 32, 68, 105, 118, 101, 114, 115, 105, 116, 121, 32, 97, 110, 100, 32, 73, 110, 104, 101, 114, 101, 110, 116, 32, 67, 111, 109, 112, 108, 101, 120, 105, 116, 121, 10, 32, 32, 32, 32, 84, 104, 101, 32, 85, 110, 105, 99, 111, 100, 101, 32, 67, 111, 100, 101, 115, 112, 97, 99, 101, 10, 32, 32, 32, 32, 32, 32, 32, 32, 67, 111, 100, 101, 115, 112, 97, 99, 101, 32, 65, 108, 108, 111, 99, 97, 116, 105, 111, 110, 10, 32, 32, 32, 32, 32, 32, 32, 32, 83, 99, 114, 105, 112, 116, 115, 10, 32, 32, 32, 32, 32, 32, 32, 32, 85, 115, 97, 103, 101, 32, 70, 114, 101, 113, 117, 101, 110, 99, 121, 10, 32, 32, 32, 32, 69, 110, 99, 111, 100, 105, 110, 103, 115, 10, 32, 32, 32, 32, 32, 32, 32, 32, 85, 84, 70, 45, 56, 10, 32, 32, 32, 32, 32, 32, 32, 32, 85, 84, 70, 45, 49, 54, 10, 32, 32, 32, 32, 67, 111, 109, 98, 105, 110, 105, 110, 103, 32, 77, 97, 114, 107, 115, 10, 32, 32, 32, 32, 32, 32, 32, 32, 67, 97, 110, 111, 110, 105, 99, 97, 108, 32, 69, 113, 117, 105, 118, 97, 108, 101, 110, 99, 101, 10, 32, 32, 32, 32, 32, 32, 32, 32, 78, 111, 114, 109, 97, 108, 105, 122, 97, 116, 105, 111, 110, 32, 70, 111, 114, 109, 115, 10, 32, 32, 32, 32, 32, 32, 32, 32, 71, 114, 97, 112, 104, 101, 109, 101, 32, 67, 108, 117, 115, 116, 101, 114, 115, 10, 32, 32, 32, 32, 65, 110, 100, 32, 77, 111, 114, 101, 226, 128, 166, 10, 10, 68, 105, 118, 101, 114, 115, 105, 116, 121, 32, 97, 110, 100, 32, 73, 110, 104, 101, 114, 101, 110, 116, 32, 67, 111, 109, 112, 108, 101, 120, 105, 116, 121, 10, 10, 65, 115, 32, 115, 111, 111, 110, 32, 97, 115, 32, 121, 111, 117, 32, 115, 116, 97, 114, 116, 32, 116, 111, 32, 115, 116, 117, 100, 121, 32, 85, 110, 105, 99, 111, 100, 101, 44, 32, 105, 116, 32, 98, 101, 99, 111, 109, 101, 115, 32, 99, 108, 101, 97, 114, 32, 116, 104, 97, 116, 32, 105, 116, 32, 114, 101, 112, 114, 101, 115, 101, 110, 116, 115, 32, 97, 32, 108, 97, 114, 103, 101, 32, 106, 117, 109, 112, 32, 105, 110, 32, 99, 111, 109, 112, 108, 101, 120, 105, 116, 121, 32, 111, 118, 101, 114, 32, 99, 104, 97, 114, 97, 99, 116, 101, 114, 32, 115, 101, 116, 115, 32, 108, 105, 107, 101, 32, 65, 83, 67, 73, 73, 32, 116, 104, 97, 116, 32, 121, 111, 117, 32, 109, 97, 121, 32, 98, 101, 32, 109, 111, 114, 101, 32, 102, 97, 109, 105, 108, 105, 97, 114, 32, 119, 105, 116, 104, 46, 32, 73, 116, 226, 128, 153, 115, 32, 110, 111, 116, 32, 106, 117, 115, 116, 32, 116, 104, 97, 116, 32, 85, 110, 105, 99, 111, 100, 101, 32, 99, 111, 110, 116, 97, 105, 110, 115, 32, 97, 32, 109, 117, 99, 104, 32, 108, 97, 114, 103, 101, 114, 32, 110, 117, 109, 98, 101, 114, 32, 111, 102, 32, 99, 104, 97, 114, 97, 99, 116, 101, 114, 115, 44, 32, 97, 108, 116, 104, 111, 117, 103, 104, 32, 116, 104, 97, 116, 226, 128, 153, 115, 32, 112, 97, 114, 116, 32, 111, 102, 32, 105, 116, 46, 32, 85, 110, 105, 99, 111, 100, 101, 32, 97, 108, 115, 111, 32, 104, 97, 115, 32, 97, 32, 103, 114, 101, 97, 116, 32, 100, 101, 97, 108, 32, 111, 102, 32, 105, 110, 116, 101, 114, 110, 97, 108, 32, 115, 116, 114, 117, 99, 116, 117, 114, 101, 44, 32, 102, 101, 97, 116, 117, 114, 101, 115, 44, 32, 97, 110, 100, 32, 115, 112, 101, 99, 105, 97, 108, 32, 99, 97, 115, 101, 115, 44, 32, 109, 97, 107, 105, 110, 103, 32, 105, 116, 32, 109, 117, 99, 104, 32, 109, 111, 114, 101, 32, 116, 104, 97, 110, 32, 119, 104, 97, 116, 32, 111, 110, 101, 32, 109, 105, 103, 104, 116, 32, 101, 120, 112, 101, 99, 116, 32, 97, 32, 109, 101, 114, 101, 32, 226, 128, 156, 99, 104, 97, 114, 97, 99, 116, 101, 114, 32, 115, 101, 116, 226, 128, 157, 32, 116, 111, 32, 98, 101, 46, 32, 87, 101, 226, 128, 153, 108, 108, 32, 115, 101, 101, 32, 115, 111, 109, 101, 32, 111, 102, 32, 116, 104, 97, 116, 32, 108, 97, 116, 101, 114, 32, 105, 110, 32, 116, 104, 105, 115, 32, 97, 114, 116, 105, 99, 108, 101, 46, 10, 10, 87, 104, 101, 110, 32, 99, 111, 110, 102, 114, 111, 110, 116, 105, 110, 103, 32, 97, 108, 108, 32, 116, 104, 105, 115, 32, 99, 111, 109, 112, 108, 101, 120, 105, 116, 121, 44, 32, 101, 115, 112, 101, 99, 105, 97, 108, 108, 121, 32, 97, 115, 32, 97, 110, 32, 101, 110, 103, 105, 110, 101, 101, 114, 44, 32, 105, 116, 226, 128, 153, 115, 32, 104, 97, 114, 100, 32, 110, 111, 116, 32, 116, 111, 32, 102, 105, 110, 100, 32, 111, 110, 101, 115, 101, 108, 102, 32, 97, 115, 107, 105, 110, 103, 44, 32, 226, 128, 156, 87, 104, 121, 32, 100, 111, 32, 119, 101, 32, 110, 101, 101, 100, 32, 97, 108, 108, 32, 116, 104, 105, 115, 63, 32, 73, 115, 32, 116, 104, 105, 115, 32, 114, 101, 97, 108, 108, 121, 32, 110, 101, 99, 101, 115, 115, 97, 114, 121, 63, 32, 67, 111, 117, 108, 100, 110, 226, 128, 153, 116, 32, 105, 116, 32, 98, 101, 32, 115, 105, 109, 112, 108, 105, 102, 105, 101, 100, 63, 226, 128, 157, 10, 10, 72, 111, 119, 101, 118, 101, 114, 44, 32, 85, 110, 105, 99, 111, 100, 101, 32, 97, 105, 109, 115, 32, 116, 111, 32, 102, 97, 105, 116, 104, 102, 117, 108, 108, 121, 32, 114, 101, 112, 114, 101, 115, 101, 110, 116, 32, 116, 104, 101, 32, 101, 110, 116, 105, 114, 101, 32, 119, 111, 114, 108, 100, 226, 128, 153, 115, 32, 119, 114, 105, 116, 105, 110, 103, 32, 115, 121, 115, 116, 101, 109, 115, 46, 32, 84, 104, 101, 32, 85, 110, 105, 99, 111, 100, 101, 32, 67, 111, 110, 115, 111, 114, 116, 105, 117, 109, 226, 128, 153, 115, 32, 115, 116, 97, 116, 101, 100, 32, 103, 111, 97, 108, 32, 105, 115, 32, 226, 128, 156, 101, 110, 97, 98, 108, 105, 110, 103, 32, 112, 101, 111, 112, 108, 101, 32, 97, 114, 111, 117, 110, 100, 32, 116, 104, 101, 32, 119, 111, 114, 108, 100, 32, 116, 111, 32, 117, 115, 101, 32, 99, 111, 109, 112, 117, 116, 101, 114, 115, 32, 105, 110, 32, 97, 110, 121, 32, 108, 97, 110, 103, 117, 97, 103, 101, 226, 128, 157, 46, 32, 65, 110, 100, 32, 97, 115, 32, 121, 111, 117, 32, 109, 105, 103, 104, 116, 32, 105, 109, 97, 103, 105, 110, 101, 44, 32, 116, 104, 101, 32, 100, 105, 118, 101, 114, 115, 105, 116, 121, 32, 111, 102, 32, 119, 114, 105, 116, 116, 101, 110, 32, 108, 97, 110, 103, 117, 97, 103, 101, 115, 32, 105, 115, 32, 105, 109, 109, 101, 110, 115, 101, 33, 32, 84, 111, 32, 100, 97, 116, 101, 44, 32, 85, 110, 105, 99, 111, 100, 101, 32, 115, 117, 112, 112, 111, 114, 116, 115, 32, 49, 51, 53, 32, 100, 105, 102, 102, 101, 114, 101, 110, 116, 32, 115, 99, 114, 105, 112, 116, 115, 44, 32, 99, 111, 118, 101, 114, 105, 110, 103, 32, 115, 111, 109, 101, 32, 49, 49, 48, 48, 32, 108, 97, 110, 103, 117, 97, 103, 101, 115, 44, 32, 97, 110, 100, 32, 116, 104, 101, 114, 101, 226, 128, 153, 115, 32, 115, 116, 105, 108, 108, 32, 97, 32, 108, 111, 110, 103, 32, 116, 97, 105, 108, 32, 111, 102, 32, 111, 118, 101, 114, 32, 49, 48, 48, 32, 117, 110, 115, 117, 112, 112, 111, 114, 116, 101, 100, 32, 115, 99, 114, 105, 112, 116, 115, 44, 32, 98, 111, 116, 104, 32, 109, 111, 100, 101, 114, 110, 32, 97, 110, 100, 32, 104, 105, 115, 116, 111, 114, 105, 99, 97, 108, 44, 32, 119, 104, 105, 99, 104, 32, 112, 101, 111, 112, 108, 101, 32, 97, 114, 101, 32, 115, 116, 105, 108, 108, 32, 119, 111, 114, 107, 105, 110, 103, 32, 116, 111, 32, 97, 100, 100, 46, 10, 10, 71, 105, 118, 101, 110, 32, 116, 104, 105, 115, 32, 101, 110, 111, 114, 109, 111, 117, 115, 32, 100, 105, 118, 101, 114, 115, 105, 116, 121, 44, 32, 105, 116, 226, 128, 153, 115, 32, 105, 110, 101, 118, 105, 116, 97, 98, 108, 101, 32, 116, 104, 97, 116, 32, 114, 101, 112, 114, 101, 115, 101, 110, 116, 105, 110, 103, 32, 105, 116, 32, 105, 115, 32, 97, 32, 99, 111, 109, 112, 108, 105, 99, 97, 116, 101, 100, 32, 112, 114, 111, 106, 101, 99, 116, 46, 32, 85, 110, 105, 99, 111, 100, 101, 32, 101, 109, 98, 114, 97, 99, 101, 115, 32, 116, 104, 97, 116, 32, 100, 105, 118, 101, 114, 115, 105, 116, 121, 44, 32, 97, 110, 100, 32, 97, 99, 99, 101, 112, 116, 115, 32, 116, 104, 101, 32, 99, 111, 109, 112, 108, 101, 120, 105, 116, 121, 32, 105, 110, 104, 101, 114, 101, 110, 116, 32, 105, 110, 32, 105, 116, 115, 32, 109, 105, 115, 115, 105, 111, 110, 32, 116, 111, 32, 105, 110, 99, 108, 117, 100, 101, 32, 97, 108, 108, 32, 104, 117, 109, 97, 110, 32, 119, 114, 105, 116, 105, 110, 103, 32, 115, 121, 115, 116, 101, 109, 115, 46, 32, 73, 116, 32, 100, 111, 101, 115, 110, 226, 128, 153, 116, 32, 109, 97, 107, 101, 32, 97, 32, 108, 111, 116, 32, 111, 102, 32, 116, 114, 97, 100, 101, 45, 111, 102, 102, 115, 32, 105, 110, 32, 116, 104, 101, 32, 110, 97, 109, 101, 32, 111, 102, 32, 115, 105, 109, 112, 108, 105, 102, 105, 99, 97, 116, 105, 111, 110, 44, 32, 97, 110, 100, 32, 105, 116, 32, 109, 97, 107, 101, 115, 32, 101, 120, 99, 101, 112, 116, 105, 111, 110, 115, 32, 116, 111, 32, 105, 116, 115, 32, 111, 119, 110, 32, 114, 117, 108, 101, 115, 32, 119, 104, 101, 114, 101, 32, 110, 101, 99, 101, 115, 115, 97, 114, 121, 32, 116, 111, 32, 102, 117, 114, 116, 104, 101, 114, 32, 105, 116, 115, 32, 109, 105, 115, 115, 105, 111, 110, 46, 10, 10, 77, 111, 114, 101, 111, 118, 101, 114, 44, 32, 85, 110, 105, 99, 111, 100, 101, 32, 105, 115, 32, 99, 111, 109, 109, 105, 116, 116, 101, 100, 32, 110, 111, 116, 32, 106, 117, 115, 116, 32, 116, 111, 32, 115, 117, 112, 112, 111, 114, 116, 105, 110, 103, 32, 116, 101, 120, 116, 115, 32, 105, 110, 32, 97, 110, 121, 32, 115, 105, 110, 103, 108, 101, 32, 108, 97, 110, 103, 117, 97, 103, 101, 44, 32, 98, 117, 116, 32, 97, 108, 115, 111, 32, 116, 111, 32, 108, 101, 116, 116, 105, 110, 103, 32, 109, 117, 108, 116, 105, 112, 108, 101, 32, 108, 97, 110, 103, 117, 97, 103, 101, 115, 32, 99, 111, 101, 120, 105, 115, 116, 32, 119, 105, 116, 104, 105, 110, 32, 111, 110, 101, 32, 116, 101, 120, 116, 226, 128, 148, 119, 104, 105, 99, 104, 32, 105, 110, 116, 114, 111, 100, 117, 99, 101, 115, 32, 101, 118, 101, 110, 32, 109, 111, 114, 101, 32, 99, 111, 109, 112, 108, 101, 120, 105, 116, 121, 46, 10, 10, 77, 111, 115, 116, 32, 112, 114, 111, 103, 114, 97, 109, 109, 105, 110, 103, 32, 108, 97, 110, 103, 117, 97, 103, 101, 115, 32, 104, 97, 118, 101, 32, 108, 105, 98, 114, 97, 114, 105, 101, 115, 32, 97, 118, 97, 105, 108, 97, 98, 108, 101, 32, 116, 111, 32, 104, 97, 110, 100, 108, 101, 32, 116, 104, 101, 32, 103, 111, 114, 121, 32, 108, 111, 119, 45, 108, 101, 118, 101, 108, 32, 100, 101, 116, 97, 105, 108, 115, 32, 111, 102, 32, 116, 101, 120, 116, 32, 109, 97, 110, 105, 112, 117, 108, 97, 116, 105, 111, 110, 44, 32, 98, 117, 116, 32, 97, 115, 32, 97, 32, 112, 114, 111, 103, 114, 97, 109, 109, 101, 114, 44, 32, 121, 111, 117, 226, 128, 153, 108, 108, 32, 115, 116, 105, 108, 108, 32, 110, 101, 101, 100, 32, 116, 111, 32, 107, 110, 111, 119, 32, 97, 98, 111, 117, 116, 32, 99, 101, 114, 116, 97, 105, 110, 32, 85, 110, 105, 99, 111, 100, 101, 32, 102, 101, 97, 116, 117, 114, 101, 115, 32, 105, 110, 32, 111, 114, 100, 101, 114, 32, 116, 111, 32, 107, 110, 111, 119, 32, 119, 104, 101, 110, 32, 97, 110, 100, 32, 104, 111, 119, 32, 116, 111, 32, 97, 112, 112, 108, 121, 32, 116, 104, 101, 109, 46, 32, 73, 116, 32, 109, 97, 121, 32, 116, 97, 107, 101, 32, 115, 111, 109, 101, 32, 116, 105, 109, 101, 32, 116, 111, 32, 119, 114, 97, 112, 32, 121, 111, 117, 114, 32, 104, 101, 97, 100, 32, 97, 114, 111, 117, 110, 100, 32, 105, 116, 32, 97, 108, 108, 44, 32, 98, 117, 116, 32, 100, 111, 110, 226, 128, 153, 116, 32, 98, 101, 32, 100, 105, 115, 99, 111, 117, 114, 97, 103, 101, 100, 226, 128, 148, 116, 104, 105, 110, 107, 32, 97, 98, 111, 117, 116, 32, 116, 104, 101, 32, 98, 105, 108, 108, 105, 111, 110, 115, 32, 111, 102, 32, 112, 101, 111, 112, 108, 101, 32, 102, 111, 114, 32, 119, 104, 111, 109, 32, 121, 111, 117, 114, 32, 115, 111, 102, 116, 119, 97, 114, 101, 32, 119, 105, 108, 108, 32, 98, 101, 32, 109, 111, 114, 101, 32, 97, 99, 99, 101, 115, 115, 105, 98, 108, 101, 32, 116, 104, 114, 111, 117, 103, 104, 32, 115, 117, 112, 112, 111, 114, 116, 105, 110, 103, 32, 116, 101, 120, 116, 32, 105, 110, 32, 116, 104, 101, 105, 114, 32, 108, 97, 110, 103, 117, 97, 103, 101, 46, 32, 69, 109, 98, 114, 97, 99, 101, 32, 116, 104, 101, 32, 99, 111, 109, 112, 108, 101, 120, 105, 116, 121, 33, 10, 84, 104, 101, 32, 85, 110, 105, 99, 111, 100, 101, 32, 67, 111, 100, 101, 115, 112, 97, 99, 101, 10, 10, 76, 101, 116, 226, 128, 153, 115, 32, 115, 116, 97, 114, 116, 32, 119, 105, 116, 104, 32, 115, 111, 109, 101, 32, 103, 101, 110, 101, 114, 97, 108, 32, 111, 114, 105, 101, 110, 116, 97, 116, 105, 111, 110, 46, 32, 84, 104, 101, 32, 98, 97, 115, 105, 99, 32, 101, 108, 101, 109, 101, 110, 116, 115, 32, 111, 102, 32, 85, 110, 105, 99, 111, 100, 101, 226, 128, 148, 105, 116, 115, 32, 226, 128, 156, 99, 104, 97, 114, 97, 99, 116, 101, 114, 115, 226, 128, 157, 44, 32, 97, 108, 116, 104, 111, 117, 103, 104, 32, 116, 104, 97, 116, 32, 116, 101, 114, 109, 32, 105, 115, 110, 226, 128, 153, 116, 32, 113, 117, 105, 116, 101, 32, 114, 105, 103, 104, 116, 226, 128, 148, 97, 114, 101, 32, 99, 97, 108, 108, 101, 100, 32, 99, 111, 100, 101, 32, 112, 111, 105, 110, 116, 115, 46, 32, 67, 111, 100, 101, 32, 112, 111, 105, 110, 116, 115, 32, 97, 114, 101, 32, 105, 100, 101, 110, 116, 105, 102, 105, 101, 100, 32, 98, 121, 32, 110, 117, 109, 98, 101, 114, 44, 32, 99, 117, 115, 116, 111, 109, 97, 114, 105, 108, 121, 32, 119, 114, 105, 116, 116, 101, 110, 32, 105, 110, 32, 104, 101, 120, 97, 100, 101, 99, 105, 109, 97, 108, 32, 119, 105, 116, 104, 32, 116, 104, 101, 32, 112, 114, 101, 102, 105, 120, 32, 226, 128, 156, 85, 43, 226, 128, 157, 44, 32, 115, 117, 99, 104, 32, 97, 115, 32, 85, 43, 48, 48, 52, 49, 32, 226, 128, 156, 65, 226, 128, 157, 32, 108, 97, 116, 105, 110, 32, 99, 97, 112, 105, 116, 97, 108, 32, 108, 101, 116, 116, 101, 114, 32, 97, 32, 111, 114, 32, 85, 43, 48, 51, 66, 56, 32, 226, 128, 156, 206, 184, 226, 128, 157, 32, 103, 114, 101, 101, 107, 32, 115, 109, 97, 108, 108, 32, 108, 101, 116, 116, 101, 114, 32, 116, 104, 101, 116, 97, 46, 32, 69, 97, 99, 104, 32, 99, 111, 100, 101, 32, 112, 111, 105, 110, 116, 32, 97, 108, 115, 111, 32, 104, 97, 115, 32, 97, 32, 115, 104, 111, 114, 116, 32, 110, 97, 109, 101, 44, 32, 97, 110, 100, 32, 113, 117, 105, 116, 101, 32, 97, 32, 102, 101, 119, 32, 111, 116, 104, 101, 114, 32, 112, 114, 111, 112, 101, 114, 116, 105, 101, 115, 44, 32, 115, 112, 101, 99, 105, 102, 105, 101, 100, 32, 105, 110, 32, 116, 104, 101, 32, 85, 110, 105, 99, 111, 100, 101, 32, 67, 104, 97, 114, 97, 99, 116, 101, 114, 32, 68, 97, 116, 97, 98, 97, 115, 101, 46, 10, 10, 84, 104, 101, 32, 115, 101, 116, 32, 111, 102, 32, 97, 108, 108, 32, 112, 111, 115, 115, 105, 98, 108, 101, 32, 99, 111, 100, 101, 32, 112, 111, 105, 110, 116, 115, 32, 105, 115, 32, 99, 97, 108, 108, 101, 100, 32, 116, 104, 101, 32, 99, 111, 100, 101, 115, 112, 97, 99, 101, 46, 32, 84, 104, 101, 32, 85, 110, 105, 99, 111, 100, 101, 32, 99, 111, 100, 101, 115, 112, 97, 99, 101, 32, 99, 111, 110, 115, 105, 115, 116, 115, 32, 111, 102, 32, 49, 44, 49, 49, 52, 44, 49, 49, 50, 32, 99, 111, 100, 101, 32, 112, 111, 105, 110, 116, 115, 46, 32, 72, 111, 119, 101, 118, 101, 114, 44, 32, 111, 110, 108, 121, 32, 49, 50, 56, 44, 50, 51, 55, 32, 111, 102, 32, 116, 104, 101, 109, 226, 128, 148, 97, 98, 111, 117, 116, 32, 49, 50, 37, 32, 111, 102, 32, 116, 104, 101, 32, 99, 111, 100, 101, 115, 112, 97, 99, 101, 226, 128, 148, 97, 114, 101, 32, 97, 99, 116, 117, 97, 108, 108, 121, 32, 97, 115, 115, 105, 103, 110, 101, 100, 44, 32, 116, 111, 32, 100, 97, 116, 101, 46, 32, 84, 104, 101, 114, 101, 226, 128, 153, 115, 32, 112, 108, 101, 110, 116, 121, 32, 111, 102, 32, 114, 111, 111, 109, 32, 102, 111, 114, 32, 103, 114, 111, 119, 116, 104, 33, 32, 85, 110, 105, 99, 111, 100, 101, 32, 97, 108, 115, 111, 32, 114, 101, 115, 101, 114, 118, 101, 115, 32, 97, 110, 32, 97, 100, 100, 105, 116, 105, 111, 110, 97, 108, 32, 49, 51, 55, 44, 52, 54, 56, 32, 99, 111, 100, 101, 32, 112, 111, 105, 110, 116, 115, 32, 97, 115, 32, 226, 128, 156, 112, 114, 105, 118, 97, 116, 101, 32, 117, 115, 101, 226, 128, 157, 32, 97, 114, 101, 97, 115, 44, 32, 119, 104, 105, 99, 104, 32, 104, 97, 118, 101, 32, 110, 111, 32, 115, 116, 97, 110, 100, 97, 114, 100, 105, 122, 101, 100, 32, 109, 101, 97, 110, 105, 110, 103, 32, 97, 110, 100, 32, 97, 114, 101, 32, 97, 118, 97, 105, 108, 97, 98, 108, 101, 32, 102, 111, 114, 32, 105, 110, 100, 105, 118, 105, 100, 117, 97, 108, 32, 97, 112, 112, 108, 105, 99, 97, 116, 105, 111, 110, 115, 32, 116, 111, 32, 100, 101, 102, 105, 110, 101, 32, 102, 111, 114, 32, 116, 104, 101, 105, 114, 32, 111, 119, 110, 32, 112, 117, 114, 112, 111, 115, 101, 115, 46, 10, 67, 111, 100, 101, 115, 112, 97, 99, 101, 32, 65, 108, 108, 111, 99, 97, 116, 105, 111, 110, 10, 10, 84, 111, 32, 103, 101, 116, 32, 97, 32, 102, 101, 101, 108, 32, 102, 111, 114, 32, 104, 111, 119, 32, 116, 104, 101, 32, 99, 111, 100, 101, 115, 112, 97, 99, 101, 32, 105, 115, 32, 108, 97, 105, 100, 32, 111, 117, 116, 44, 32, 105, 116, 226, 128, 153, 115, 32, 104, 101, 108, 112, 102, 117, 108, 32, 116, 111, 32, 118, 105, 115, 117, 97, 108, 105, 122, 101, 32, 105, 116, 46, 32, 66, 101, 108, 111, 119, 32, 105, 115, 32, 97, 32, 109, 97, 112, 32, 111, 102, 32, 116, 104, 101, 32, 101, 110, 116, 105, 114, 101, 32, 99, 111, 100, 101, 115, 112, 97, 99, 101, 44, 32, 119, 105, 116, 104, 32, 111, 110, 101, 32, 112, 105, 120, 101, 108, 32, 112, 101, 114, 32, 99, 111, 100, 101, 32, 112, 111, 105, 110, 116, 46, 32, 73, 116, 226, 128, 153, 115, 32, 97, 114, 114, 97, 110, 103, 101, 100, 32, 105, 110, 32, 116, 105, 108, 101, 115, 32, 102, 111, 114, 32, 118, 105, 115, 117, 97, 108, 32, 99, 111, 104, 101, 114, 101, 110, 99, 101, 59, 32, 101, 97, 99, 104, 32, 115, 109, 97, 108, 108, 32, 115, 113, 117, 97, 114, 101, 32, 105, 115, 32, 49, 54, 195, 151, 49, 54, 32, 61, 32, 50, 53, 54, 32, 99, 111, 100, 101, 32, 112, 111, 105, 110, 116, 115, 44, 32, 97, 110, 100, 32, 101, 97, 99, 104, 32, 108, 97, 114, 103, 101, 32, 115, 113, 117, 97, 114, 101, 32, 105, 115, 32, 97, 32, 226, 128, 156, 112, 108, 97, 110, 101, 226, 128, 157, 32, 111, 102, 32, 54, 53, 44, 53, 51, 54, 32, 99, 111, 100, 101, 32, 112, 111, 105, 110, 116, 115, 46, 32, 84, 104, 101, 114, 101, 32, 97, 114, 101, 32, 49, 55, 32, 112, 108, 97, 110, 101, 115, 32, 97, 108, 116, 111, 103, 101, 116, 104, 101, 114, 46, 10, 10, 77, 97, 112, 32, 111, 102, 32, 116, 104, 101, 32, 85, 110, 105, 99, 111, 100, 101, 32, 99, 111, 100, 101, 115, 112, 97, 99, 101, 32, 40, 99, 108, 105, 99, 107, 32, 116, 111, 32, 122, 111, 111, 109, 41, 10, 10, 87, 104, 105, 116, 101, 32, 114, 101, 112, 114, 101, 115, 101, 110, 116, 115, 32, 117, 110, 97, 115, 115, 105, 103, 110, 101, 100, 32, 115, 112, 97, 99, 101, 46, 32, 66, 108, 117, 101, 32, 105, 115, 32, 97, 115, 115, 105, 103, 110, 101, 100, 32, 99, 111, 100, 101, 32, 112, 111, 105, 110, 116, 115, 44, 32, 103, 114, 101, 101, 110, 32, 105, 115, 32, 112, 114, 105, 118, 97, 116, 101, 45, 117, 115, 101, 32, 97, 114, 101, 97, 115, 44, 32, 97, 110, 100, 32, 116, 104, 101, 32, 115, 109, 97, 108, 108, 32, 114, 101, 100, 32, 97, 114, 101, 97, 32, 105, 115, 32, 115, 117, 114, 114, 111, 103, 97, 116, 101, 115, 32, 40, 109, 111, 114, 101, 32, 97, 98, 111, 117, 116, 32, 116, 104, 111, 115, 101, 32, 108, 97, 116, 101, 114, 41, 46, 32, 65, 115, 32, 121, 111, 117, 32, 99, 97, 110, 32, 115, 101, 101, 44, 32, 116, 104, 101, 32, 97, 115, 115, 105, 103, 110, 101, 100, 32, 99, 111, 100, 101, 32, 112, 111, 105, 110, 116, 115, 32, 97, 114, 101, 32, 100, 105, 115, 116, 114, 105, 98, 117, 116, 101, 100, 32, 115, 111, 109, 101, 119, 104, 97, 116, 32, 115, 112, 97, 114, 115, 101, 108, 121, 44, 32, 98, 117, 116, 32, 99, 111, 110, 99, 101, 110, 116, 114, 97, 116, 101, 100, 32, 105, 110, 32, 116, 104, 101, 32, 102, 105, 114, 115, 116, 32, 116, 104, 114, 101, 101, 32, 112, 108, 97, 110, 101, 115, 46, 10, 10, 80, 108, 97, 110, 101, 32, 48, 32, 105, 115, 32, 97, 108, 115, 111, 32, 107, 110, 111, 119, 110, 32, 97, 115, 32, 116, 104, 101, 32, 226, 128, 156, 66, 97, 115, 105, 99, 32, 77, 117, 108, 116, 105, 108, 105, 110, 103, 117, 97, 108, 32, 80, 108, 97, 110, 101, 226, 128, 157, 44, 32, 111, 114, 32, 66, 77, 80, 46, 32, 84, 104, 101, 32, 66, 77, 80, 32, 99, 111, 110, 116, 97, 105, 110, 115, 32, 101, 115, 115, 101, 110, 116, 105, 97, 108, 108, 121, 32, 97, 108, 108, 32, 116, 104, 101, 32, 99, 104, 97, 114, 97, 99, 116, 101, 114, 115, 32, 110, 101, 101, 100, 101, 100, 32, 102, 111, 114, 32, 109, 111, 100, 101, 114, 110, 32, 116, 101, 120, 116, 32, 105, 110, 32, 97, 110, 121, 32, 115, 99, 114, 105, 112, 116, 44, 32, 105, 110, 99, 108, 117, 100, 105, 110, 103, 32, 76, 97, 116, 105, 110, 44, 32, 67, 121, 114, 105, 108, 108, 105, 99, 44, 32, 71, 114, 101, 101, 107, 44, 32, 72, 97, 110, 32, 40, 67, 104, 105, 110, 101, 115, 101, 41, 44, 32, 74, 97, 112, 97, 110, 101, 115, 101, 44, 32, 75, 111, 114, 101, 97, 110, 44, 32, 65, 114, 97, 98, 105, 99, 44, 32, 72, 101, 98, 114, 101, 119, 44, 32, 68, 101, 118, 97, 110, 97, 103, 97, 114, 105, 32, 40, 73, 110, 100, 105, 97, 110, 41, 44, 32, 97, 110, 100, 32, 109, 97, 110, 121, 32, 109, 111, 114, 101, 46, 10, 10, 40, 73, 110, 32, 116, 104, 101, 32, 112, 97, 115, 116, 44, 32, 116, 104, 101, 32, 99, 111, 100, 101, 115, 112, 97, 99, 101, 32, 119, 97, 115, 32, 106, 117, 115, 116, 32, 116, 104, 101, 32, 66, 77, 80, 32, 97, 110, 100, 32, 110, 111, 32, 109, 111, 114, 101, 226, 128, 148, 85, 110, 105, 99, 111, 100, 101, 32, 119, 97, 115, 32, 111, 114, 105, 103, 105, 110, 97, 108, 108, 121, 32, 99, 111, 110, 99, 101, 105, 118, 101, 100, 32, 97, 115, 32, 97, 32, 115, 116, 114, 97, 105, 103, 104, 116, 102, 111, 114, 119, 97, 114, 100, 32, 49, 54, 45, 98, 105, 116, 32, 101, 110, 99, 111, 100, 105, 110, 103, 44, 32, 119, 105, 116, 104, 32, 111, 110, 108, 121, 32, 54, 53, 44, 53, 51, 54, 32, 99, 111, 100, 101, 32, 112, 111, 105, 110, 116, 115, 46, 32, 73, 116, 32, 119, 97, 115, 32, 101, 120, 112, 97, 110, 100, 101, 100, 32, 116, 111, 32, 105, 116, 115, 32, 99, 117, 114, 114, 101, 110, 116, 32, 115, 105, 122, 101, 32, 105, 110, 32, 49, 57, 57, 54, 46, 32, 72, 111, 119, 101, 118, 101, 114, 44, 32, 116, 104, 101, 32, 118, 97, 115, 116, 32, 109, 97, 106, 111, 114, 105, 116, 121, 32, 111, 102, 32, 99, 111, 100, 101, 32, 112, 111, 105, 110, 116, 115, 32, 105, 110, 32, 109, 111, 100, 101, 114, 110, 32, 116, 101, 120, 116, 32, 98, 101, 108, 111, 110, 103, 32, 116, 111, 32, 116, 104, 101, 32, 66, 77, 80, 46, 41, 10, 10, 80, 108, 97, 110, 101, 32, 49, 32, 99, 111, 110, 116, 97, 105, 110, 115, 32, 104, 105, 115, 116, 111, 114, 105, 99, 97, 108, 32, 115, 99, 114, 105, 112, 116, 115, 44, 32, 115, 117, 99, 104, 32, 97, 115, 32, 83, 117, 109, 101, 114, 105, 97, 110, 32, 99, 117, 110, 101, 105, 102, 111, 114, 109, 32, 97, 110, 100, 32, 69, 103, 121, 112, 116, 105, 97, 110, 32, 104, 105, 101, 114, 111, 103, 108, 121, 112, 104, 115, 44, 32, 97, 115, 32, 119, 101, 108, 108, 32, 97, 115, 32, 101, 109, 111, 106, 105, 32, 97, 110, 100, 32, 118, 97, 114, 105, 111, 117, 115, 32, 111, 116, 104, 101, 114, 32, 115, 121, 109, 98, 111, 108, 115, 46, 32, 80, 108, 97, 110, 101, 32, 50, 32, 99, 111, 110, 116, 97, 105, 110, 115, 32, 97, 32, 108, 97, 114, 103, 101, 32, 98, 108, 111, 99, 107, 32, 111, 102, 32, 108, 101, 115, 115, 45, 99, 111, 109, 109, 111, 110, 32, 97, 110, 100, 32, 104, 105, 115, 116, 111, 114, 105, 99, 97, 108, 32, 72, 97, 110, 32, 99, 104, 97, 114, 97, 99, 116, 101, 114, 115, 46, 32, 84, 104, 101, 32, 114, 101, 109, 97, 105, 110, 105, 110, 103, 32, 112, 108, 97, 110, 101, 115, 32, 97, 114, 101, 32, 101, 109, 112, 116, 121, 44, 32, 101, 120, 99, 101, 112, 116, 32, 102, 111, 114, 32, 97, 32, 115, 109, 97, 108, 108, 32, 110, 117, 109, 98, 101, 114, 32, 111, 102, 32, 114, 97, 114, 101, 108, 121, 45, 117, 115, 101, 100, 32, 102, 111, 114, 109, 97, 116, 116, 105, 110, 103, 32, 99, 104, 97, 114, 97, 99, 116, 101, 114, 115, 32, 105, 110, 32, 80, 108, 97, 110, 101, 32, 49, 52, 59, 32, 112, 108, 97, 110, 101, 115, 32, 49, 53, 226, 128, 147, 49, 54, 32, 97, 114, 101, 32, 114, 101, 115, 101, 114, 118, 101, 100, 32, 101, 110, 116, 105, 114, 101, 108, 121, 32, 102, 111, 114, 32, 112, 114, 105, 118, 97, 116, 101, 32, 117, 115, 101, 46, 10, 83, 99, 114, 105, 112, 116, 115, 10, 10, 76, 101, 116, 226, 128, 153, 115, 32, 122, 111, 111, 109, 32, 105, 110, 32, 111, 110, 32, 116, 104, 101, 32, 102, 105, 114, 115, 116, 32, 116, 104, 114, 101, 101, 32, 112, 108, 97, 110, 101, 115, 44, 32, 115, 105, 110, 99, 101, 32, 116, 104, 97, 116, 226, 128, 153, 115, 32, 119, 104, 101, 114, 101, 32, 116, 104, 101, 32, 97, 99, 116, 105, 111, 110, 32, 105, 115, 58, 10, 10, 77, 97, 112, 32, 111, 102, 32, 115, 99, 114, 105, 112, 116, 115, 32, 105, 110, 32, 85, 110, 105, 99, 111, 100, 101, 32, 112, 108, 97, 110, 101, 115, 32, 48, 226, 128, 147, 50, 32, 40, 99, 108, 105, 99, 107, 32, 116, 111, 32, 122, 111, 111, 109, 41, 10, 10, 84, 104, 105, 115, 32, 109, 97, 112, 32, 99, 111, 108, 111, 114, 45, 99, 111, 100, 101, 115, 32, 116, 104, 101, 32, 49, 51, 53, 32, 100, 105, 102, 102, 101, 114, 101, 110, 116, 32, 115, 99, 114, 105, 112, 116, 115, 32, 105, 110, 32, 85, 110, 105, 99, 111, 100, 101, 46, 32, 89, 111, 117, 32, 99, 97, 110, 32, 115, 101, 101, 32, 104, 111, 119, 32, 72, 97, 110, 32, 40, 41, 32, 97, 110, 100, 32, 75, 111, 114, 101, 97, 110, 32, 40, 41, 32, 116, 97, 107, 101, 32, 117, 112, 32, 109, 111, 115, 116, 32, 111, 102, 32, 116, 104, 101, 32, 114, 97, 110, 103, 101, 32, 111, 102, 32, 116, 104, 101, 32, 66, 77, 80, 32, 40, 116, 104, 101, 32, 108, 101, 102, 116, 32, 108, 97, 114, 103, 101, 32, 115, 113, 117, 97, 114, 101, 41, 46, 32, 66, 121, 32, 99, 111, 110, 116, 114, 97, 115, 116, 44, 32, 97, 108, 108, 32, 111, 102, 32, 116, 104, 101, 32, 69, 117, 114, 111, 112, 101, 97, 110, 44, 32, 77, 105, 100, 100, 108, 101, 32, 69, 97, 115, 116, 101, 114, 110, 44, 32, 97, 110, 100, 32, 83, 111, 117, 116, 104, 32, 65, 115, 105, 97, 110, 32, 115, 99, 114, 105, 112, 116, 115, 32, 102, 105, 116, 32, 105, 110, 116, 111, 32, 116, 104, 101, 32, 102, 105, 114, 115, 116, 32, 114, 111, 119, 32, 111, 102, 32, 116, 104, 101, 32, 66, 77, 80, 32, 105, 110, 32, 116, 104, 105, 115, 32, 100, 105, 97, 103, 114, 97, 109, 46, 10, 10, 77, 97, 110, 121, 32, 97, 114, 101, 97, 115, 32, 111, 102, 32, 116, 104, 101, 32, 99, 111, 100, 101, 115, 112, 97, 99, 101, 32, 97, 114, 101, 32, 97, 100, 97, 112, 116, 101, 100, 32, 111, 114, 32, 99, 111, 112, 105, 101, 100, 32, 102, 114, 111, 109, 32, 101, 97, 114, 108, 105, 101, 114, 32, 101, 110, 99, 111, 100, 105, 110, 103, 115, 46, 32, 70, 111, 114, 32, 101, 120, 97, 109, 112, 108, 101, 44, 32, 116, 104, 101, 32, 102, 105, 114, 115, 116, 32, 49, 50, 56, 32, 99, 111, 100, 101, 32, 112, 111, 105, 110, 116, 115, 32, 111, 102, 32, 85, 110, 105, 99, 111, 100, 101, 32, 97, 114, 101, 32, 106, 117, 115, 116, 32, 97, 32, 99, 111, 112, 121, 32, 111, 102, 32, 65, 83, 67, 73, 73, 46, 32, 84, 104, 105, 115, 32, 104, 97, 115, 32, 99, 108, 101, 97, 114, 32, 98, 101, 110, 101, 102, 105, 116, 115, 32, 102, 111, 114, 32, 99, 111, 109, 112, 97, 116, 105, 98, 105, 108, 105, 116, 121, 226, 128, 148, 105, 116, 226, 128, 153, 115, 32, 101, 97, 115, 121, 32, 116, 111, 32, 108, 111, 115, 115, 108, 101, 115, 115, 108, 121, 32, 99, 111, 110, 118, 101, 114, 116, 32, 116, 101, 120, 116, 115, 32, 102, 114, 111, 109, 32, 115, 109, 97, 108, 108, 101, 114, 32, 101, 110, 99, 111, 100, 105, 110, 103, 115, 32, 105, 110, 116, 111, 32, 85, 110, 105, 99, 111, 100, 101, 32, 40, 97, 110, 100, 32, 116, 104, 101, 32, 111, 116, 104, 101, 114, 32, 100, 105, 114, 101, 99, 116, 105, 111, 110, 32, 116, 111, 111, 44, 32, 97, 115, 32, 108, 111, 110, 103, 32, 97, 115, 32, 110, 111, 32, 99, 104, 97, 114, 97, 99, 116, 101, 114, 115, 32, 111, 117, 116, 115, 105, 100, 101, 32, 116, 104, 101, 32, 115, 109, 97, 108, 108, 101, 114, 32, 101, 110, 99, 111, 100, 105, 110, 103, 32, 97, 114, 101, 32, 117, 115, 101, 100, 41, 46, 10, 85, 115, 97, 103, 101, 32, 70, 114, 101, 113, 117, 101, 110, 99, 121, 10, 10, 79, 110, 101, 32, 109, 111, 114, 101, 32, 105, 110, 116, 101, 114, 101, 115, 116, 105, 110, 103, 32, 119, 97, 121, 32, 116, 111, 32, 118, 105, 115, 117, 97, 108, 105, 122, 101, 32, 116, 104, 101, 32, 99, 111, 100, 101, 115, 112, 97, 99, 101, 32, 105, 115, 32, 116, 111, 32, 108, 111, 111, 107, 32, 97, 116, 32, 116, 104, 101, 32, 100, 105, 115, 116, 114, 105, 98, 117, 116, 105, 111, 110, 32, 111, 102, 32, 117, 115, 97, 103, 101, 226, 128, 148, 105, 110, 32, 111, 116, 104, 101, 114, 32, 119, 111, 114, 100, 115, 44, 32, 104, 111, 119, 32, 111, 102, 116, 101, 110, 32, 101, 97, 99, 104, 32, 99, 111, 100, 101, 32, 112, 111, 105, 110, 116, 32, 105, 115, 32, 97, 99, 116, 117, 97, 108, 108, 121, 32, 117, 115, 101, 100, 32, 105, 110, 32, 114, 101, 97, 108, 45, 119, 111, 114, 108, 100, 32, 116, 101, 120, 116, 115, 46, 32, 66, 101, 108, 111, 119, 32, 105, 115, 32, 97, 32, 104, 101, 97, 116, 32, 109, 97, 112, 32, 111, 102, 32, 112, 108, 97, 110, 101, 115, 32, 48, 226, 128, 147, 50, 32, 98, 97, 115, 101, 100, 32, 111, 110, 32, 97, 32, 108, 97, 114, 103, 101, 32, 115, 97, 109, 112, 108, 101, 32, 111, 102, 32, 116, 101, 120, 116, 32, 102, 114, 111, 109, 32, 87, 105, 107, 105, 112, 101, 100, 105, 97, 32, 97, 110, 100, 32, 84, 119, 105, 116, 116, 101, 114, 32, 40, 97, 108, 108, 32, 108, 97, 110, 103, 117, 97, 103, 101, 115, 41, 46, 32, 70, 114, 101, 113, 117, 101, 110, 99, 121, 32, 105, 110, 99, 114, 101, 97, 115, 101, 115, 32, 102, 114, 111, 109, 32, 98, 108, 97, 99, 107, 32, 40, 110, 101, 118, 101, 114, 32, 115, 101, 101, 110, 41, 32, 116, 104, 114, 111, 117, 103, 104, 32, 114, 101, 100, 32, 97, 110, 100, 32, 121, 101, 108, 108, 111, 119, 32, 116, 111, 32, 119, 104, 105, 116, 101, 46, 10, 10, 72, 101, 97, 116, 32, 109, 97, 112, 32, 111, 102, 32, 99, 111, 100, 101, 32, 112, 111, 105, 110, 116, 32, 117, 115, 97, 103, 101, 32, 102, 114, 101, 113, 117, 101, 110, 99, 121, 32, 105, 110, 32, 85, 110, 105, 99, 111, 100, 101, 32, 112, 108, 97, 110, 101, 115, 32, 48, 226, 128, 147, 50, 32, 40, 99, 108, 105, 99, 107, 32, 116, 111, 32, 122, 111, 111, 109, 41, 10, 10, 89, 111, 117, 32, 99, 97, 110, 32, 115, 101, 101, 32, 116, 104, 97, 116, 32, 116, 104, 101, 32, 118, 97, 115, 116, 32, 109, 97, 106, 111, 114, 105, 116, 121, 32, 111, 102, 32, 116, 104, 105, 115, 32, 116, 101, 120, 116, 32, 115, 97, 109, 112, 108, 101, 32, 108, 105, 101, 115, 32, 105, 110, 32, 116, 104, 101, 32, 66, 77, 80, 44, 32, 119, 105, 116, 104, 32, 111, 110, 108, 121, 32, 115, 99, 97, 116, 116, 101, 114, 101, 100, 32, 117, 115, 97, 103, 101, 32, 111, 102, 32, 99, 111, 100, 101, 32, 112, 111, 105, 110, 116, 115, 32, 102, 114, 111, 109, 32, 112, 108, 97, 110, 101, 115, 32, 49, 226, 128, 147, 50, 46, 32, 84, 104, 101, 32, 98, 105, 103, 103, 101, 115, 116, 32, 101, 120, 99, 101, 112, 116, 105, 111, 110, 32, 105, 115, 32, 101, 109, 111, 106, 105, 44, 32, 119, 104, 105, 99, 104, 32, 115, 104, 111, 119, 32, 117, 112, 32, 104, 101, 114, 101, 32, 97, 115, 32, 116, 104, 101, 32, 115, 101, 118, 101, 114, 97, 108, 32, 98, 114, 105, 103, 104, 116, 32, 115, 113, 117, 97, 114, 101, 115, 32, 105, 110, 32, 116, 104, 101, 32, 98, 111, 116, 116, 111, 109, 32, 114, 111, 119, 32, 111, 102, 32, 112, 108, 97, 110, 101, 32, 49, 46, 10, 69, 110, 99, 111, 100, 105, 110, 103, 115, 10, 10, 87, 101, 226, 128, 153, 118, 101, 32, 115, 101, 101, 110, 32, 116, 104, 97, 116, 32, 85, 110, 105, 99, 111, 100, 101, 32, 99, 111, 100, 101, 32, 112, 111, 105, 110, 116, 115, 32, 97, 114, 101, 32, 97, 98, 115, 116, 114, 97, 99, 116, 108, 121, 32, 105, 100, 101, 110, 116, 105, 102, 105, 101, 100, 32, 98, 121, 32, 116, 104, 101, 105, 114, 32, 105, 110, 100, 101, 120, 32, 105, 110, 32, 116, 104, 101, 32, 99, 111, 100, 101, 115, 112, 97, 99, 101, 44, 32, 114, 97, 110, 103, 105, 110, 103, 32, 102, 114, 111, 109, 32, 85, 43, 48, 48, 48, 48, 32, 116, 111, 32, 85, 43, 49, 48, 70, 70, 70, 70, 46, 32, 66, 117, 116, 32, 104, 111, 119, 32, 100, 111, 32, 99, 111, 100, 101, 32, 112, 111, 105, 110, 116, 115, 32, 103, 101, 116, 32, 114, 101, 112, 114, 101, 115, 101, 110, 116, 101, 100, 32, 97, 115, 32, 98, 121, 116, 101, 115, 44, 32, 105, 110, 32, 109, 101, 109, 111, 114, 121, 32, 111, 114, 32, 105, 110, 32, 97, 32, 102, 105, 108, 101, 63, 10, 10, 84, 104, 101, 32, 109, 111, 115, 116, 32, 99, 111, 110, 118, 101, 110, 105, 101, 110, 116, 44, 32, 99, 111, 109, 112, 117, 116, 101, 114, 45, 102, 114, 105, 101, 110, 100, 108, 105, 101, 115, 116, 32, 40, 97, 110, 100, 32, 112, 114, 111, 103, 114, 97, 109, 109, 101, 114, 45, 102, 114, 105, 101, 110, 100, 108, 105, 101, 115, 116, 41, 32, 116, 104, 105, 110, 103, 32, 116, 111, 32, 100, 111, 32, 119, 111, 117, 108, 100, 32, 98, 101, 32, 116, 111, 32, 106, 117, 115, 116, 32, 115, 116, 111, 114, 101, 32, 116, 104, 101, 32, 99, 111, 100, 101, 32, 112, 111, 105, 110, 116, 32, 105, 110, 100, 101, 120, 32, 97, 115, 32, 97, 32, 51, 50, 45, 98, 105, 116, 32, 105, 110, 116, 101, 103, 101, 114, 46, 32, 84, 104, 105, 115, 32, 119, 111, 114, 107, 115, 44, 32, 98, 117, 116, 32, 105, 116, 32, 99, 111, 110, 115, 117, 109, 101, 115, 32, 52, 32, 98, 121, 116, 101, 115, 32, 112, 101, 114, 32, 99, 111, 100, 101, 32, 112, 111, 105, 110, 116, 44, 32, 119, 104, 105, 99, 104, 32, 105, 115, 32, 115, 111, 114, 116, 32, 111, 102, 32, 97, 32, 108, 111, 116, 46, 32, 85, 115, 105, 110, 103, 32, 51, 50, 45, 98, 105, 116, 32, 105, 110, 116, 115, 32, 102, 111, 114, 32, 85, 110, 105, 99, 111, 100, 101, 32, 119, 105, 108, 108, 32, 99, 111, 115, 116, 32, 121, 111, 117, 32, 97, 32, 98, 117, 110, 99, 104, 32, 111, 102, 32, 101, 120, 116, 114, 97, 32, 115, 116, 111, 114, 97, 103, 101, 44, 32, 109, 101, 109, 111, 114, 121, 44, 32, 97, 110, 100, 32, 112, 101, 114, 102, 111, 114, 109, 97, 110, 99, 101, 32, 105, 110, 32, 98, 97, 110, 100, 119, 105, 100, 116, 104, 45, 98, 111, 117, 110, 100, 32, 115, 99, 101, 110, 97, 114, 105, 111, 115, 44, 32, 105, 102, 32, 121, 111, 117, 32, 119, 111, 114, 107, 32, 119, 105, 116, 104, 32, 97, 32, 108, 111, 116, 32, 111, 102, 32, 116, 101, 120, 116, 46, 10, 10, 67, 111, 110, 115, 101, 113, 117, 101, 110, 116, 108, 121, 44, 32, 116, 104, 101, 114, 101, 32, 97, 114, 101, 32, 115, 101, 118, 101, 114, 97, 108, 32, 109, 111, 114, 101, 45, 99, 111, 109, 112, 97, 99, 116, 32, 101, 110, 99, 111, 100, 105, 110, 103, 115, 32, 102, 111, 114, 32, 85, 110, 105, 99, 111, 100, 101, 46, 32, 84, 104, 101, 32, 51, 50, 45, 98, 105, 116, 32, 105, 110, 116, 101, 103, 101, 114, 32, 101, 110, 99, 111, 100, 105, 110, 103, 32, 105, 115, 32, 111, 102, 102, 105, 99, 105, 97, 108, 108, 121, 32, 99, 97, 108, 108, 101, 100, 32, 85, 84, 70, 45, 51, 50, 32, 40, 85, 84, 70, 32, 61, 32, 226, 128, 156, 85, 110, 105, 99, 111, 100, 101, 32, 84, 114, 97, 110, 115, 102, 111, 114, 109, 97, 116, 105, 111, 110, 32, 70, 111, 114, 109, 97, 116, 226, 128, 157, 41, 44, 32, 98, 117, 116, 32, 105, 116, 226, 128, 153, 115, 32, 114, 97, 114, 101, 108, 121, 32, 117, 115, 101, 100, 32, 102, 111, 114, 32, 115, 116, 111, 114, 97, 103, 101, 46, 32, 65, 116, 32, 109, 111, 115, 116, 44, 32, 105, 116, 32, 99, 111, 109, 101, 115, 32, 117, 112, 32, 115, 111, 109, 101, 116, 105, 109, 101, 115, 32, 97, 115, 32, 97, 32, 116, 101, 109, 112, 111, 114, 97, 114, 121, 32, 105, 110, 116, 101, 114, 110, 97, 108, 32, 114, 101, 112, 114, 101, 115, 101, 110, 116, 97, 116, 105, 111, 110, 44, 32, 102, 111, 114, 32, 101, 120, 97, 109, 105, 110, 105, 110, 103, 32, 111, 114, 32, 111, 112, 101, 114, 97, 116, 105, 110, 103, 32, 111, 110, 32, 116, 104, 101, 32, 99, 111, 100, 101, 32, 112, 111, 105, 110, 116, 115, 32, 105, 110, 32, 97, 32, 115, 116, 114, 105, 110, 103, 46, 10, 10, 77, 117, 99, 104, 32, 109, 111, 114, 101, 32, 99, 111, 109, 109, 111, 110, 108, 121, 44, 32, 121, 111, 117, 226, 128, 153, 108, 108, 32, 115, 101, 101, 32, 85, 110, 105, 99, 111, 100, 101, 32, 116, 101, 120, 116, 32, 101, 110, 99, 111, 100, 101, 100, 32, 97, 115, 32, 101, 105, 116, 104, 101, 114, 32, 85, 84, 70, 45, 56, 32, 111, 114, 32, 85, 84, 70, 45, 49, 54, 46, 32, 84, 104, 101, 115, 101, 32, 97, 114, 101, 32, 98, 111, 116, 104, 32, 118, 97, 114, 105, 97, 98, 108, 101, 45, 108, 101, 110, 103, 116, 104, 32, 101, 110, 99, 111, 100, 105, 110, 103, 115, 44, 32, 109, 97, 100, 101, 32, 117, 112, 32, 111, 102, 32, 56, 45, 98, 105, 116, 32, 111, 114, 32, 49, 54, 45, 98, 105, 116, 32, 117, 110, 105, 116, 115, 44, 32, 114, 101, 115, 112, 101, 99, 116, 105, 118, 101, 108, 121, 46, 32, 73, 110, 32, 116, 104, 101, 115, 101, 32, 115, 99, 104, 101, 109, 101, 115, 44, 32, 99, 111, 100, 101, 32, 112, 111, 105, 110, 116, 115, 32, 119, 105, 116, 104, 32, 115, 109, 97, 108, 108, 101, 114, 32, 105, 110, 100, 101, 120, 32, 118, 97, 108, 117, 101, 115, 32, 116, 97, 107, 101, 32, 117, 112, 32, 102, 101, 119, 101, 114, 32, 98, 121, 116, 101, 115, 44, 32, 119, 104, 105, 99, 104, 32, 115, 97, 118, 101, 115, 32, 97, 32, 108, 111, 116, 32, 111, 102, 32, 109, 101, 109, 111, 114, 121, 32, 102, 111, 114, 32, 116, 121, 112, 105, 99, 97, 108, 32, 116, 101, 120, 116, 115, 46, 32, 84, 104, 101, 32, 116, 114, 97, 100, 101, 45, 111, 102, 102, 32, 105, 115, 32, 116, 104, 97, 116, 32, 112, 114, 111, 99, 101, 115, 115, 105, 110, 103, 32, 85, 84, 70, 45, 56, 47, 49, 54, 32, 116, 101, 120, 116, 115, 32, 105, 115, 32, 109, 111, 114, 101, 32, 112, 114, 111, 103, 114, 97, 109, 109, 97, 116, 105, 99, 97, 108, 108, 121, 32, 105, 110, 118, 111, 108, 118, 101, 100, 44, 32, 97, 110, 100, 32, 108, 105, 107, 101, 108, 121, 32, 115, 108, 111, 119, 101, 114, 46, 10, 85, 84, 70, 45, 56, 10, 10, 73, 110, 32, 85, 84, 70, 45, 56, 44, 32, 101, 97, 99, 104, 32, 99, 111, 100, 101, 32, 112, 111, 105, 110, 116, 32, 105, 115, 32, 115, 116, 111, 114, 101, 100, 32, 117, 115, 105, 110, 103, 32, 49, 32, 116, 111, 32, 52, 32, 98, 121, 116, 101, 115, 44, 32, 98, 97, 115, 101, 100, 32, 111, 110, 32, 105, 116, 115, 32, 105, 110, 100, 101, 120, 32, 118, 97, 108, 117, 101, 46, 10, 10, 85, 84, 70, 45, 56, 32, 117, 115, 101, 115, 32, 97, 32, 115, 121, 115, 116, 101, 109, 32, 111, 102, 32, 98, 105, 110, 97, 114, 121, 32, 112, 114, 101, 102, 105, 120, 101, 115, 44, 32, 105, 110, 32, 119, 104, 105, 99, 104, 32, 116, 104, 101, 32, 104, 105, 103, 104, 32, 98, 105, 116, 115, 32, 111, 102, 32, 101, 97, 99, 104, 32, 98, 121, 116, 101, 32, 109, 97, 114, 107, 32, 119, 104, 101, 116, 104, 101, 114, 32, 105, 116, 226, 128, 153, 115, 32, 97, 32, 115, 105, 110, 103, 108, 101, 32, 98, 121, 116, 101, 44, 32, 116, 104, 101, 32, 98, 101, 103, 105, 110, 110, 105, 110, 103, 32, 111, 102, 32, 97, 32, 109, 117, 108, 116, 105, 45, 98, 121, 116, 101, 32, 115, 101, 113, 117, 101, 110, 99, 101, 44, 32, 111, 114, 32, 97, 32, 99, 111, 110, 116, 105, 110, 117, 97, 116, 105, 111, 110, 32, 98, 121, 116, 101, 59, 32, 116, 104, 101, 32, 114, 101, 109, 97, 105, 110, 105, 110, 103, 32, 98, 105, 116, 115, 44, 32, 99, 111, 110, 99, 97, 116, 101, 110, 97, 116, 101, 100, 44, 32, 103, 105, 118, 101, 32, 116, 104, 101, 32, 99, 111, 100, 101, 32, 112, 111, 105, 110, 116, 32, 105, 110, 100, 101, 120, 46, 32, 84, 104, 105, 115, 32, 116, 97, 98, 108, 101, 32, 115, 104, 111, 119, 115, 32, 104, 111, 119, 32, 105, 116, 32, 119, 111, 114, 107, 115, 58, 10, 85, 84, 70, 45, 56, 32, 40, 98, 105, 110, 97, 114, 121, 41, 32, 9, 67, 111, 100, 101, 32, 112, 111, 105, 110, 116, 32, 40, 98, 105, 110, 97, 114, 121, 41, 32, 9, 82, 97, 110, 103, 101, 10, 48, 120, 120, 120, 120, 120, 120, 120, 32, 9, 120, 120, 120, 120, 120, 120, 120, 32, 9, 85, 43, 48, 48, 48, 48, 226, 128, 147, 85, 43, 48, 48, 55, 70, 10, 49, 49, 48, 120, 120, 120, 120, 120, 32, 49, 48, 121, 121, 121, 121, 121, 121, 32, 9, 120, 120, 120, 120, 120, 121, 121, 121, 121, 121, 121, 32, 9, 85, 43, 48, 48, 56, 48, 226, 128, 147, 85, 43, 48, 55, 70, 70, 10, 49, 49, 49, 48, 120, 120, 120, 120, 32, 49, 48, 121, 121, 121, 121, 121, 121, 32, 49, 48, 122, 122, 122, 122, 122, 122, 32, 9, 120, 120, 120, 120, 121, 121, 121, 121, 121, 121, 122, 122, 122, 122, 122, 122, 32, 9, 85, 43, 48, 56, 48, 48, 226, 128, 147, 85, 43, 70, 70, 70, 70, 10, 49, 49, 49, 49, 48, 120, 120, 120, 32, 49, 48, 121, 121, 121, 121, 121, 121, 32, 49, 48, 122, 122, 122, 122, 122, 122, 32, 49, 48, 119, 119, 119, 119, 119, 119, 32, 9, 120, 120, 120, 121, 121, 121, 121, 121, 121, 122, 122, 122, 122, 122, 122, 119, 119, 119, 119, 119, 119, 32, 9, 85, 43, 49, 48, 48, 48, 48, 226, 128, 147, 85, 43, 49, 48, 70, 70, 70, 70, 10, 10, 65, 32, 104, 97, 110, 100, 121, 32, 112, 114, 111, 112, 101, 114, 116, 121, 32, 111, 102, 32, 85, 84, 70, 45, 56, 32, 105, 115, 32, 116, 104, 97, 116, 32, 99, 111, 100, 101, 32, 112, 111, 105, 110, 116, 115, 32, 98, 101, 108, 111, 119, 32, 49, 50, 56, 32, 40, 65, 83, 67, 73, 73, 32, 99, 104, 97, 114, 97, 99, 116, 101, 114, 115, 41, 32, 97, 114, 101, 32, 101, 110, 99, 111, 100, 101, 100, 32, 97, 115, 32, 115, 105, 110, 103, 108, 101, 32, 98, 121, 116, 101, 115, 44, 32, 97, 110, 100, 32, 97, 108, 108, 32, 110, 111, 110, 45, 65, 83, 67, 73, 73, 32, 99, 111, 100, 101, 32, 112, 111, 105, 110, 116, 115, 32, 97, 114, 101, 32, 101, 110, 99, 111, 100, 101, 100, 32, 117, 115, 105, 110, 103, 32, 115, 101, 113, 117, 101, 110, 99, 101, 115, 32, 111, 102, 32, 98, 121, 116, 101, 115, 32, 49, 50, 56, 226, 128, 147, 50, 53, 53, 46, 32, 84, 104, 105, 115, 32, 104, 97, 115, 32, 97, 32, 99, 111, 117, 112, 108, 101, 32, 111, 102, 32, 110, 105, 99, 101, 32, 99, 111, 110, 115, 101, 113, 117, 101, 110, 99, 101, 115, 46, 32, 70, 105, 114, 115, 116, 44, 32, 97, 110, 121, 32, 115, 116, 114, 105, 110, 103, 115, 32, 111, 114, 32, 102, 105, 108, 101, 115, 32, 111, 117, 116, 32, 116, 104, 101, 114, 101, 32, 116, 104, 97, 116, 32, 97, 114, 101, 32, 97, 108, 114, 101, 97, 100, 121, 32, 105, 110, 32, 65, 83, 67, 73, 73, 32, 99, 97, 110, 32, 97, 108, 115, 111, 32, 98, 101, 32, 105, 110, 116, 101, 114, 112, 114, 101, 116, 101, 100, 32, 97, 115, 32, 85, 84, 70, 45, 56, 32, 119, 105, 116, 104, 111, 117, 116, 32, 97, 110, 121, 32, 99, 111, 110, 118, 101, 114, 115, 105, 111, 110, 46, 32, 83, 101, 99, 111, 110, 100, 44, 32, 108, 111, 116, 115, 32, 111, 102, 32, 119, 105, 100, 101, 108, 121, 45, 117, 115, 101, 100, 32, 115, 116, 114, 105, 110, 103, 32, 112, 114, 111, 103, 114, 97, 109, 109, 105, 110, 103, 32, 105, 100, 105, 111, 109, 115, 226, 128, 148, 115, 117, 99, 104, 32, 97, 115, 32, 110, 117, 108, 108, 32, 116, 101, 114, 109, 105, 110, 97, 116, 105, 111, 110, 44, 32, 111, 114, 32, 100, 101, 108, 105, 109, 105, 116, 101, 114, 115, 32, 40, 110, 101, 119, 108, 105, 110, 101, 115, 44, 32, 116, 97, 98, 115, 44, 32, 99, 111, 109, 109, 97, 115, 44, 32, 115, 108, 97, 115, 104, 101, 115, 44, 32, 101, 116, 99, 46, 41, 226, 128, 148, 119, 105, 108, 108, 32, 106, 117, 115, 116, 32, 119, 111, 114, 107, 32, 111, 110, 32, 85, 84, 70, 45, 56, 32, 115, 116, 114, 105, 110, 103, 115, 46, 32, 65, 83, 67, 73, 73, 32, 98, 121, 116, 101, 115, 32, 110, 101, 118, 101, 114, 32, 111, 99, 99, 117, 114, 32, 105, 110, 115, 105, 100, 101, 32, 116, 104, 101, 32, 101, 110, 99, 111, 100, 105, 110, 103, 32, 111, 102, 32, 110, 111, 110, 45, 65, 83, 67, 73, 73, 32, 99, 111, 100, 101, 32, 112, 111, 105, 110, 116, 115, 44, 32, 115, 111, 32, 115, 101, 97, 114, 99, 104, 105, 110, 103, 32, 98, 121, 116, 101, 45, 119, 105, 115, 101, 32, 102, 111, 114, 32, 97, 32, 110, 117, 108, 108, 32, 116, 101, 114, 109, 105, 110, 97, 116, 111, 114, 32, 111, 114, 32, 97, 32, 100, 101, 108, 105, 109, 105, 116, 101, 114, 32, 119, 105, 108, 108, 32, 100, 111, 32, 116, 104, 101, 32, 114, 105, 103, 104, 116, 32, 116, 104, 105, 110, 103, 46, 10, 10, 84, 104, 97, 110, 107, 115, 32, 116, 111, 32, 116, 104, 105, 115, 32, 99, 111, 110, 118, 101, 110, 105, 101, 110, 99, 101, 44, 32, 105, 116, 226, 128, 153, 115, 32, 114, 101, 108, 97, 116, 105, 118, 101, 108, 121, 32, 115, 105, 109, 112, 108, 101, 32, 116, 111, 32, 101, 120, 116, 101, 110, 100, 32, 108, 101, 103, 97, 99, 121, 32, 65, 83, 67, 73, 73, 32, 112, 114, 111, 103, 114, 97, 109, 115, 32, 97, 110, 100, 32, 65, 80, 73, 115, 32, 116, 111, 32, 104, 97, 110, 100, 108, 101, 32, 85, 84, 70, 45, 56, 32, 115, 116, 114, 105, 110, 103, 115, 46, 32, 85, 84, 70, 45, 56, 32, 105, 115, 32, 118, 101, 114, 121, 32, 119, 105, 100, 101, 108, 121, 32, 117, 115, 101, 100, 32, 105, 110, 32, 116, 104, 101, 32, 85, 110, 105, 120, 47, 76, 105, 110, 117, 120, 32, 97, 110, 100, 32, 87, 101, 98, 32, 119, 111, 114, 108, 100, 115, 44, 32, 97, 110, 100, 32, 109, 97, 110, 121, 32, 112, 114, 111, 103, 114, 97, 109, 109, 101, 114, 115, 32, 97, 114, 103, 117, 101, 32, 85, 84, 70, 45, 56, 32, 115, 104, 111, 117, 108, 100, 32, 98, 101, 32, 116, 104, 101, 32, 100, 101, 102, 97, 117, 108, 116, 32, 101, 110, 99, 111, 100, 105, 110, 103, 32, 101, 118, 101, 114, 121, 119, 104, 101, 114, 101, 46, 10, 10, 72, 111, 119, 101, 118, 101, 114, 44, 32, 85, 84, 70, 45, 56, 32, 105, 115, 110, 226, 128, 153, 116, 32, 97, 32, 100, 114, 111, 112, 45, 105, 110, 32, 114, 101, 112, 108, 97, 99, 101, 109, 101, 110, 116, 32, 102, 111, 114, 32, 65, 83, 67, 73, 73, 32, 115, 116, 114, 105, 110, 103, 115, 32, 105, 110, 32, 97, 108, 108, 32, 114, 101, 115, 112, 101, 99, 116, 115, 46, 32, 70, 111, 114, 32, 105, 110, 115, 116, 97, 110, 99, 101, 44, 32, 99, 111, 100, 101, 32, 116, 104, 97, 116, 32, 105, 116, 101, 114, 97, 116, 101, 115, 32, 111, 118, 101, 114, 32, 116, 104, 101, 32, 226, 128, 156, 99, 104, 97, 114, 97, 99, 116, 101, 114, 115, 226, 128, 157, 32, 105, 110, 32, 97, 32, 115, 116, 114, 105, 110, 103, 32, 119, 105, 108, 108, 32, 110, 101, 101, 100, 32, 116, 111, 32, 100, 101, 99, 111, 100, 101, 32, 85, 84, 70, 45, 56, 32, 97, 110, 100, 32, 105, 116, 101, 114, 97, 116, 101, 32, 111, 118, 101, 114, 32, 99, 111, 100, 101, 32, 112, 111, 105, 110, 116, 115, 32, 40, 111, 114, 32, 109, 97, 121, 98, 101, 32, 103, 114, 97, 112, 104, 101, 109, 101, 32, 99, 108, 117, 115, 116, 101, 114, 115, 226, 128, 148, 109, 111, 114, 101, 32, 97, 98, 111, 117, 116, 32, 116, 104, 111, 115, 101, 32, 108, 97, 116, 101, 114, 41, 44, 32, 110, 111, 116, 32, 98, 121, 116, 101, 115, 46, 32, 87, 104, 101, 110, 32, 121, 111, 117, 32, 109, 101, 97, 115, 117, 114, 101, 32, 116, 104, 101, 32, 226, 128, 156, 108, 101, 110, 103, 116, 104, 226, 128, 157, 32, 111, 102, 32, 97, 32, 115, 116, 114, 105, 110, 103, 44, 32, 121, 111, 117, 226, 128, 153, 108, 108, 32, 110, 101, 101, 100, 32, 116, 111, 32, 116, 104, 105, 110, 107, 32, 97, 98, 111, 117, 116, 32, 119, 104, 101, 116, 104, 101, 114, 32, 121, 111, 117, 32, 119, 97, 110, 116, 32, 116, 104, 101, 32, 108, 101, 110, 103, 116, 104, 32, 105, 110, 32, 98, 121, 116, 101, 115, 44, 32, 116, 104, 101, 32, 108, 101, 110, 103, 116, 104, 32, 105, 110, 32, 99, 111, 100, 101, 32, 112, 111, 105, 110, 116, 115, 44, 32, 116, 104, 101, 32, 119, 105, 100, 116, 104, 32, 111, 102, 32, 116, 104, 101, 32, 116, 101, 120, 116, 32, 119, 104, 101, 110, 32, 114, 101, 110, 100, 101, 114, 101, 100, 44, 32, 111, 114, 32, 115, 111, 109, 101, 116, 104, 105, 110, 103, 32, 101, 108, 115, 101, 46, 10, 85, 84, 70, 45, 49, 54, 10, 10, 84, 104, 101, 32, 111, 116, 104, 101, 114, 32, 101, 110, 99, 111, 100, 105, 110, 103, 32, 116, 104, 97, 116, 32, 121, 111, 117, 226, 128, 153, 114, 101, 32, 108, 105, 107, 101, 108, 121, 32, 116, 111, 32, 101, 110, 99, 111, 117, 110, 116, 101, 114, 32, 105, 115, 32, 85, 84, 70, 45, 49, 54, 46, 32, 73, 116, 32, 117, 115, 101, 115, 32, 49, 54, 45, 98, 105, 116, 32, 119, 111, 114, 100, 115, 44, 32, 119, 105, 116, 104, 32, 101, 97, 99, 104, 32, 99, 111, 100, 101, 32, 112, 111, 105, 110, 116, 32, 115, 116, 111, 114, 101, 100, 32, 97, 115, 32, 101, 105, 116, 104, 101, 114, 32, 49, 32, 111, 114, 32, 50, 32, 119, 111, 114, 100, 115, 46, 10, 10, 76, 105, 107, 101, 32, 85, 84, 70, 45, 56, 44, 32, 119, 101, 32, 99, 97, 110, 32, 101, 120, 112, 114, 101, 115, 115, 32, 116, 104, 101, 32, 85, 84, 70, 45, 49, 54, 32, 101, 110, 99, 111, 100, 105, 110, 103, 32, 114, 117, 108, 101, 115, 32, 105, 110, 32, 116, 104, 101, 32, 102, 111, 114, 109, 32, 111, 102, 32, 98, 105, 110, 97, 114, 121, 32, 112, 114, 101, 102, 105, 120, 101, 115, 58, 10, 85, 84, 70, 45, 49, 54, 32, 40, 98, 105, 110, 97, 114, 121, 41, 32, 9, 67, 111, 100, 101, 32, 112, 111, 105, 110, 116, 32, 40, 98, 105, 110, 97, 114, 121, 41, 32, 9, 82, 97, 110, 103, 101, 10, 120, 120, 120, 120, 120, 120, 120, 120, 120, 120, 120, 120, 120, 120, 120, 120, 32, 9, 120, 120, 120, 120, 120, 120, 120, 120, 120, 120, 120, 120, 120, 120, 120, 120, 32, 9, 85, 43, 48, 48, 48, 48, 226, 128, 147, 85, 43, 70, 70, 70, 70, 10, 49, 49, 48, 49, 49, 48, 120, 120, 120, 120, 120, 120, 120, 120, 120, 120, 32, 49, 49, 48, 49, 49, 49, 121, 121, 121, 121, 121, 121, 121, 121, 121, 121, 32, 9, 120, 120, 120, 120, 120, 120, 120, 120, 120, 120, 121, 121, 121, 121, 121, 121, 121, 121, 121, 121, 32, 43, 32, 48, 120, 49, 48, 48, 48, 48, 32, 9, 85, 43, 49, 48, 48, 48, 48, 226, 128, 147, 85, 43, 49, 48, 70, 70, 70, 70, 10, 10, 65, 32, 109, 111, 114, 101, 32, 99, 111, 109, 109, 111, 110, 32, 119, 97, 121, 32, 116, 104, 97, 116, 32, 112, 101, 111, 112, 108, 101, 32, 116, 97, 108, 107, 32, 97, 98, 111, 117, 116, 32, 85, 84, 70, 45, 49, 54, 32, 101, 110, 99, 111, 100, 105, 110, 103, 44, 32, 116, 104, 111, 117, 103, 104, 44, 32, 105, 115, 32, 105, 110, 32, 116, 101, 114, 109, 115, 32, 111, 102, 32, 99, 111, 100, 101, 32, 112, 111, 105, 110, 116, 115, 32, 99, 97, 108, 108, 101, 100, 32, 226, 128, 156, 115, 117, 114, 114, 111, 103, 97, 116, 101, 115, 226, 128, 157, 46, 32, 65, 108, 108, 32, 116, 104, 101, 32, 99, 111, 100, 101, 32, 112, 111, 105, 110, 116, 115, 32, 105, 110, 32, 116, 104, 101, 32, 114, 97, 110, 103, 101, 32, 85, 43, 68, 56, 48, 48, 226, 128, 147, 85, 43, 68, 70, 70, 70, 226, 128, 148, 111, 114, 32, 105, 110, 32, 111, 116, 104, 101, 114, 32, 119, 111, 114, 100, 115, 44, 32, 116, 104, 101, 32, 99, 111, 100, 101, 32, 112, 111, 105, 110, 116, 115, 32, 116, 104, 97, 116, 32, 109, 97, 116, 99, 104, 32, 116, 104, 101, 32, 98, 105, 110, 97, 114, 121, 32, 112, 114, 101, 102, 105, 120, 101, 115, 32, 49, 49, 48, 49, 49, 48, 32, 97, 110, 100, 32, 49, 49, 48, 49, 49, 49, 32, 105, 110, 32, 116, 104, 101, 32, 116, 97, 98, 108, 101, 32, 97, 98, 111, 118, 101, 226, 128, 148, 97, 114, 101, 32, 114, 101, 115, 101, 114, 118, 101, 100, 32, 115, 112, 101, 99, 105, 102, 105, 99, 97, 108, 108, 121, 32, 102, 111, 114, 32, 85, 84, 70, 45, 49, 54, 32, 101, 110, 99, 111, 100, 105, 110, 103, 44, 32, 97, 110, 100, 32, 100, 111, 110, 226, 128, 153, 116, 32, 114, 101, 112, 114, 101, 115, 101, 110, 116, 32, 97, 110, 121, 32, 118, 97, 108, 105, 100, 32, 99, 104, 97, 114, 97, 99, 116, 101, 114, 115, 32, 111, 110, 32, 116, 104, 101, 105, 114, 32, 111, 119, 110, 46, 32, 84, 104, 101, 121, 226, 128, 153, 114, 101, 32, 111, 110, 108, 121, 32, 109, 101, 97, 110, 116, 32, 116, 111, 32, 111, 99, 99, 117, 114, 32, 105, 110, 32, 116, 104, 101, 32, 50, 45, 119, 111, 114, 100, 32, 101, 110, 99, 111, 100, 105, 110, 103, 32, 112, 97, 116, 116, 101, 114, 110, 32, 97, 98, 111, 118, 101, 44, 32, 119, 104, 105, 99, 104, 32, 105, 115, 32, 99, 97, 108, 108, 101, 100, 32, 97, 32, 226, 128, 156, 115, 117, 114, 114, 111, 103, 97, 116, 101, 32, 112, 97, 105, 114, 226, 128, 157, 46, 32, 83, 117, 114, 114, 111, 103, 97, 116, 101, 32, 99, 111, 100, 101, 32, 112, 111, 105, 110, 116, 115, 32, 97, 114, 101, 32, 105, 108, 108, 101, 103, 97, 108, 32, 105, 110, 32, 97, 110, 121, 32, 111, 116, 104, 101, 114, 32, 99, 111, 110, 116, 101, 120, 116, 33, 32, 84, 104, 101, 121, 226, 128, 153, 114, 101, 32, 110, 111, 116, 32, 97, 108, 108, 111, 119, 101, 100, 32, 105, 110, 32, 85, 84, 70, 45, 56, 32, 111, 114, 32, 85, 84, 70, 45, 51, 50, 32, 97, 116, 32, 97, 108, 108, 46, 10, 10, 72, 105, 115, 116, 111, 114, 105, 99, 97, 108, 108, 121, 44, 32, 85, 84, 70, 45, 49, 54, 32, 105, 115, 32, 97, 32, 100, 101, 115, 99, 101, 110, 100, 97, 110, 116, 32, 111, 102, 32, 116, 104, 101, 32, 111, 114, 105, 103, 105, 110, 97, 108, 44, 32, 112, 114, 101, 45, 49, 57, 57, 54, 32, 118, 101, 114, 115, 105, 111, 110, 115, 32, 111, 102, 32, 85, 110, 105, 99, 111, 100, 101, 44, 32, 105, 110, 32, 119, 104, 105, 99, 104, 32, 116, 104, 101, 114, 101, 32, 119, 101, 114, 101, 32, 111, 110, 108, 121, 32, 54, 53, 44, 53, 51, 54, 32, 99, 111, 100, 101, 32, 112, 111, 105, 110, 116, 115, 46, 32, 84, 104, 101, 32, 111, 114, 105, 103, 105, 110, 97, 108, 32, 105, 110, 116, 101, 110, 116, 105, 111, 110, 32, 119, 97, 115, 32, 116, 104, 97, 116, 32, 116, 104, 101, 114, 101, 32, 119, 111, 117, 108, 100, 32, 98, 101, 32, 110, 111, 32, 100, 105, 102, 102, 101, 114, 101, 110, 116, 32, 226, 128, 156, 101, 110, 99, 111, 100, 105, 110, 103, 115, 226, 128, 157, 59, 32, 85, 110, 105, 99, 111, 100, 101, 32, 119, 97, 115, 32, 115, 117, 112, 112, 111, 115, 101, 100, 32, 116, 111, 32, 98, 101, 32, 97, 32, 115, 116, 114, 97, 105, 103, 104, 116, 102, 111, 114, 119, 97, 114, 100, 32, 49, 54, 45, 98, 105, 116, 32, 99, 104, 97, 114, 97, 99, 116, 101, 114, 32, 115, 101, 116, 46, 32, 76, 97, 116, 101, 114, 44, 32, 116, 104, 101, 32, 99, 111, 100, 101, 115, 112, 97, 99, 101, 32, 119, 97, 115, 32, 101, 120, 112, 97, 110, 100, 101, 100, 32, 116, 111, 32, 109, 97, 107, 101, 32, 114, 111, 111, 109, 32, 102, 111, 114, 32, 97, 32, 108, 111, 110, 103, 32, 116, 97, 105, 108, 32, 111, 102, 32, 108, 101, 115, 115, 45, 99, 111, 109, 109, 111, 110, 32, 40, 98, 117, 116, 32, 115, 116, 105, 108, 108, 32, 105, 109, 112, 111, 114, 116, 97, 110, 116, 41, 32, 72, 97, 110, 32, 99, 104, 97, 114, 97, 99, 116, 101, 114, 115, 44, 32, 119, 104, 105, 99, 104, 32, 116, 104, 101, 32, 85, 110, 105, 99, 111, 100, 101, 32, 100, 101, 115, 105, 103, 110, 101, 114, 115, 32, 100, 105, 100, 110, 226, 128, 153, 116, 32, 111, 114, 105, 103, 105, 110, 97, 108, 108, 121, 32, 112, 108, 97, 110, 32, 102, 111, 114, 46, 32, 83, 117, 114, 114, 111, 103, 97, 116, 101, 115, 32, 119, 101, 114, 101, 32, 116, 104, 101, 110, 32, 105, 110, 116, 114, 111, 100, 117, 99, 101, 100, 44, 32, 97, 115, 226, 128, 148, 116, 111, 32, 112, 117, 116, 32, 105, 116, 32, 98, 108, 117, 110, 116, 108, 121, 226, 128, 148, 97, 32, 107, 108, 117, 100, 103, 101, 44, 32, 97, 108, 108, 111, 119, 105, 110, 103, 32, 49, 54, 45, 98, 105, 116, 32, 101, 110, 99, 111, 100, 105, 110, 103, 115, 32, 116, 111, 32, 97, 99, 99, 101, 115, 115, 32, 116, 104, 101, 32, 110, 101, 119, 32, 99, 111, 100, 101, 32, 112, 111, 105, 110, 116, 115, 46, 10, 10, 84, 111, 100, 97, 121, 44, 32, 74, 97, 118, 97, 115, 99, 114, 105, 112, 116, 32, 117, 115, 101, 115, 32, 85, 84, 70, 45, 49, 54, 32, 97, 115, 32, 105, 116, 115, 32, 115, 116, 97, 110, 100, 97, 114, 100, 32, 115, 116, 114, 105, 110, 103, 32, 114, 101, 112, 114, 101, 115, 101, 110, 116, 97, 116, 105, 111, 110, 58, 32, 105, 102, 32, 121, 111, 117, 32, 97, 115, 107, 32, 102, 111, 114, 32, 116, 104, 101, 32, 108, 101, 110, 103, 116, 104, 32, 111, 102, 32, 97, 32, 115, 116, 114, 105, 110, 103, 44, 32, 111, 114, 32, 105, 116, 101, 114, 97, 116, 101, 32, 111, 118, 101, 114, 32, 105, 116, 44, 32, 101, 116, 99, 46, 44, 32, 116, 104, 101, 32, 114, 101, 115, 117, 108, 116, 32, 119, 105, 108, 108, 32, 98, 101, 32, 105, 110, 32, 85, 84, 70, 45, 49, 54, 32, 119, 111, 114, 100, 115, 44, 32, 119, 105, 116, 104, 32, 97, 110, 121, 32, 99, 111, 100, 101, 32, 112, 111, 105, 110, 116, 115, 32, 111, 117, 116, 115, 105, 100, 101, 32, 116, 104, 101, 32, 66, 77, 80, 32, 101, 120, 112, 114, 101, 115, 115, 101, 100, 32, 97, 115, 32, 115, 117, 114, 114, 111, 103, 97, 116, 101, 32, 112, 97, 105, 114, 115, 46, 32, 85, 84, 70, 45, 49, 54, 32, 105, 115, 32, 97, 108, 115, 111, 32, 117, 115, 101, 100, 32, 98, 121, 32, 116, 104, 101, 32, 77, 105, 99, 114, 111, 115, 111, 102, 116, 32, 87, 105, 110, 51, 50, 32, 65, 80, 73, 115, 59, 32, 116, 104, 111, 117, 103, 104, 32, 87, 105, 110, 51, 50, 32, 115, 117, 112, 112, 111, 114, 116, 115, 32, 101, 105, 116, 104, 101, 114, 32, 56, 45, 98, 105, 116, 32, 111, 114, 32, 49, 54, 45, 98, 105, 116, 32, 115, 116, 114, 105, 110, 103, 115, 44, 32, 116, 104, 101, 32, 56, 45, 98, 105, 116, 32, 118, 101, 114, 115, 105, 111, 110, 32, 117, 110, 97, 99, 99, 111, 117, 110, 116, 97, 98, 108, 121, 32, 115, 116, 105, 108, 108, 32, 100, 111, 101, 115, 110, 226, 128, 153, 116, 32, 115, 117, 112, 112, 111, 114, 116, 32, 85, 84, 70, 45, 56, 226, 128, 148, 111, 110, 108, 121, 32, 108, 101, 103, 97, 99, 121, 32, 99, 111, 100, 101, 45, 112, 97, 103, 101, 32, 101, 110, 99, 111, 100, 105, 110, 103, 115, 44, 32, 108, 105, 107, 101, 32, 65, 78, 83, 73, 46, 32, 84, 104, 105, 115, 32, 108, 101, 97, 118, 101, 115, 32, 85, 84, 70, 45, 49, 54, 32, 97, 115, 32, 116, 104, 101, 32, 111, 110, 108, 121, 32, 119, 97, 121, 32, 116, 111, 32, 103, 101, 116, 32, 112, 114, 111, 112, 101, 114, 32, 85, 110, 105, 99, 111, 100, 101, 32, 115, 117, 112, 112, 111, 114, 116, 32, 105, 110, 32, 87, 105, 110, 100, 111, 119, 115, 46, 32, 40, 85, 112, 100, 97, 116, 101, 58, 32, 105, 110, 32, 87, 105, 110, 49, 48, 32, 118, 101, 114, 115, 105, 111, 110, 32, 49, 57, 48, 51, 44, 32, 116, 104, 101, 121, 32, 102, 105, 110, 97, 108, 108, 121, 32, 97, 100, 100, 101, 100, 32, 85, 84, 70, 45, 56, 32, 115, 117, 112, 112, 111, 114, 116, 32, 116, 111, 32, 116, 104, 101, 32, 56, 45, 98, 105, 116, 32, 65, 80, 73, 115, 33, 32, 240, 159, 152, 138, 41, 10, 10, 66, 121, 32, 116, 104, 101, 32, 119, 97, 121, 44, 32, 85, 84, 70, 45, 49, 54, 226, 128, 153, 115, 32, 119, 111, 114, 100, 115, 32, 99, 97, 110, 32, 98, 101, 32, 115, 116, 111, 114, 101, 100, 32, 101, 105, 116, 104, 101, 114, 32, 108, 105, 116, 116, 108, 101, 45, 101, 110, 100, 105, 97, 110, 32, 111, 114, 32, 98, 105, 103, 45, 101, 110, 100, 105, 97, 110, 46, 32, 85, 110, 105, 99, 111, 100, 101, 32, 104, 97, 115, 32, 110, 111, 32, 111, 112, 105, 110, 105, 111, 110, 32, 111, 110, 32, 116, 104, 97, 116, 32, 105, 115, 115, 117, 101, 44, 32, 116, 104, 111, 117, 103, 104, 32, 105, 116, 32, 100, 111, 101, 115, 32, 101, 110, 99, 111, 117, 114, 97, 103, 101, 32, 116, 104, 101, 32, 99, 111, 110, 118, 101, 110, 116, 105, 111, 110, 32, 111, 102, 32, 112, 117, 116, 116, 105, 110, 103, 32, 85, 43, 70, 69, 70, 70, 32, 122, 101, 114, 111, 32, 119, 105, 100, 116, 104, 32, 110, 111, 45, 98, 114, 101, 97, 107, 32, 115, 112, 97, 99, 101, 32, 97, 116, 32, 116, 104, 101, 32, 116, 111, 112, 32, 111, 102, 32, 97, 32, 85, 84, 70, 45, 49, 54, 32, 102, 105, 108, 101, 32, 97, 115, 32, 97, 32, 98, 121, 116, 101, 45, 111, 114, 100, 101, 114, 32, 109, 97, 114, 107, 44, 32, 116, 111, 32, 100, 105, 115, 97, 109, 98, 105, 103, 117, 97, 116, 101, 32, 116, 104, 101, 32, 101, 110, 100, 105, 97, 110, 110, 101, 115, 115, 46, 32, 40, 73, 102, 32, 116, 104, 101, 32, 102, 105, 108, 101, 32, 100, 111, 101, 115, 110, 226, 128, 153, 116, 32, 109, 97, 116, 99, 104, 32, 116, 104, 101, 32, 115, 121, 115, 116, 101, 109, 226, 128, 153, 115, 32, 101, 110, 100, 105, 97, 110, 110, 101, 115, 115, 44, 32, 116, 104, 101, 32, 66, 79, 77, 32, 119, 105, 108, 108, 32, 98, 101, 32, 100, 101, 99, 111, 100, 101, 100, 32, 97, 115, 32, 85, 43, 70, 70, 70, 69, 44, 32, 119, 104, 105, 99, 104, 32, 105, 115, 110, 226, 128, 153, 116, 32, 97, 32, 118, 97, 108, 105, 100, 32, 99, 111, 100, 101, 32, 112, 111, 105, 110, 116, 46, 41, 10, 67, 111, 109, 98, 105, 110, 105, 110, 103, 32, 77, 97, 114, 107, 115, 10, 10, 73, 110, 32, 116, 104, 101, 32, 115, 116, 111, 114, 121, 32, 115, 111, 32, 102, 97, 114, 44, 32, 119, 101, 226, 128, 153, 118, 101, 32, 98, 101, 101, 110, 32, 102, 111, 99, 117, 115, 105, 110, 103, 32, 111, 110, 32, 99, 111, 100, 101, 32, 112, 111, 105, 110, 116, 115, 46, 32, 66, 117, 116, 32, 105, 110, 32, 85, 110, 105, 99, 111, 100, 101, 44, 32, 97, 32, 226, 128, 156, 99, 104, 97, 114, 97, 99, 116, 101, 114, 226, 128, 157, 32, 99, 97, 110, 32, 98, 101, 32, 109, 111, 114, 101, 32, 99, 111, 109, 112, 108, 105, 99, 97, 116, 101, 100, 32, 116, 104, 97, 110, 32, 106, 117, 115, 116, 32, 97, 110, 32, 105, 110, 100, 105, 118, 105, 100, 117, 97, 108, 32, 99, 111, 100, 101, 32, 112, 111, 105, 110, 116, 33, 10, 10, 85, 110, 105, 99, 111, 100, 101, 32, 105, 110, 99, 108, 117, 100, 101, 115, 32, 97, 32, 115, 121, 115, 116, 101, 109, 32, 102, 111, 114, 32, 100, 121, 110, 97, 109, 105, 99, 97, 108, 108, 121, 32, 99, 111, 109, 112, 111, 115, 105, 110, 103, 32, 99, 104, 97, 114, 97, 99, 116, 101, 114, 115, 44, 32, 98, 121, 32, 99, 111, 109, 98, 105, 110, 105, 110, 103, 32, 109, 117, 108, 116, 105, 112, 108, 101, 32, 99, 111, 100, 101, 32, 112, 111, 105, 110, 116, 115, 32, 116, 111, 103, 101, 116, 104, 101, 114, 46, 32, 84, 104, 105, 115, 32, 105, 115, 32, 117, 115, 101, 100, 32, 105, 110, 32, 118, 97, 114, 105, 111, 117, 115, 32, 119, 97, 121, 115, 32, 116, 111, 32, 103, 97, 105, 110, 32, 102, 108, 101, 120, 105, 98, 105, 108, 105, 116, 121, 32, 119, 105, 116, 104, 111, 117, 116, 32, 99, 97, 117, 115, 105, 110, 103, 32, 97, 32, 104, 117, 103, 101, 32, 99, 111, 109, 98, 105, 110, 97, 116, 111, 114, 105, 97, 108, 32, 101, 120, 112, 108, 111, 115, 105, 111, 110, 32, 105, 110, 32, 116, 104, 101, 32, 110, 117, 109, 98, 101, 114, 32, 111, 102, 32, 99, 111, 100, 101, 32, 112, 111, 105, 110, 116, 115, 46, 10, 10, 73, 110, 32, 69, 117, 114, 111, 112, 101, 97, 110, 32, 108, 97, 110, 103, 117, 97, 103, 101, 115, 44, 32, 102, 111, 114, 32, 101, 120, 97, 109, 112, 108, 101, 44, 32, 116, 104, 105, 115, 32, 115, 104, 111, 119, 115, 32, 117, 112, 32, 105, 110, 32, 116, 104, 101, 32, 97, 112, 112, 108, 105, 99, 97, 116, 105, 111, 110, 32, 111, 102, 32, 100, 105, 97, 99, 114, 105, 116, 105, 99, 115, 32, 116, 111, 32, 108, 101, 116, 116, 101, 114, 115, 46, 32, 85, 110, 105, 99, 111, 100, 101, 32, 115, 117, 112, 112, 111, 114, 116, 115, 32, 97, 32, 119, 105, 100, 101, 32, 114, 97, 110, 103, 101, 32, 111, 102, 32, 100, 105, 97, 99, 114, 105, 116, 105, 99, 115, 44, 32, 105, 110, 99, 108, 117, 100, 105, 110, 103, 32, 97, 99, 117, 116, 101, 32, 97, 110, 100, 32, 103, 114, 97, 118, 101, 32, 97, 99, 99, 101, 110, 116, 115, 44, 32, 117, 109, 108, 97, 117, 116, 115, 44, 32, 99, 101, 100, 105, 108, 108, 97, 115, 44, 32, 97, 110, 100, 32, 109, 97, 110, 121, 32, 109, 111, 114, 101, 46, 32, 65, 108, 108, 32, 116, 104, 101, 115, 101, 32, 100, 105, 97, 99, 114, 105, 116, 105, 99, 115, 32, 99, 97, 110, 32, 98, 101, 32, 97, 112, 112, 108, 105, 101, 100, 32, 116, 111, 32, 97, 110, 121, 32, 108, 101, 116, 116, 101, 114, 32, 111, 102, 32, 97, 110, 121, 32, 97, 108, 112, 104, 97, 98, 101, 116, 226, 128, 148, 97, 110, 100, 32, 105, 110, 32, 102, 97, 99, 116, 44, 32, 109, 117, 108, 116, 105, 112, 108, 101, 32, 100, 105, 97, 99, 114, 105, 116, 105, 99, 115, 32, 99, 97, 110, 32, 98, 101, 32, 117, 115, 101, 100, 32, 111, 110, 32, 97, 32, 115, 105, 110, 103, 108, 101, 32, 108, 101, 116, 116, 101, 114, 46, 10, 10, 73, 102, 32, 85, 110, 105, 99, 111, 100, 101, 32, 116, 114, 105, 101, 100, 32, 116, 111, 32, 97, 115, 115, 105, 103, 110, 32, 97, 32, 100, 105, 115, 116, 105, 110, 99, 116, 32, 99, 111, 100, 101, 32, 112, 111, 105, 110, 116, 32, 116, 111, 32, 101, 118, 101, 114, 121, 32, 112, 111, 115, 115, 105, 98, 108, 101, 32, 99, 111, 109, 98, 105, 110, 97, 116, 105, 111, 110, 32, 111, 102, 32, 108, 101, 116, 116, 101, 114, 32, 97, 110, 100, 32, 100, 105, 97, 99, 114, 105, 116, 105, 99, 115, 44, 32, 116, 104, 105, 110, 103, 115, 32, 119, 111, 117, 108, 100, 32, 114, 97, 112, 105, 100, 108, 121, 32, 103, 101, 116, 32, 111, 117, 116, 32, 111, 102, 32, 104, 97, 110, 100, 46, 32, 73, 110, 115, 116, 101, 97, 100, 44, 32, 116, 104, 101, 32, 100, 121, 110, 97, 109, 105, 99, 32, 99, 111, 109, 112, 111, 115, 105, 116, 105, 111, 110, 32, 115, 121, 115, 116, 101, 109, 32, 101, 110, 97, 98, 108, 101, 115, 32, 121, 111, 117, 32, 116, 111, 32, 99, 111, 110, 115, 116, 114, 117, 99, 116, 32, 116, 104, 101, 32, 99, 104, 97, 114, 97, 99, 116, 101, 114, 32, 121, 111, 117, 32, 119, 97, 110, 116, 44, 32, 98, 121, 32, 115, 116, 97, 114, 116, 105, 110, 103, 32, 119, 105, 116, 104, 32, 97, 32, 98, 97, 115, 101, 32, 99, 111, 100, 101, 32, 112, 111, 105, 110, 116, 32, 40, 116, 104, 101, 32, 108, 101, 116, 116, 101, 114, 41, 32, 97, 110, 100, 32, 97, 112, 112, 101, 110, 100, 105, 110, 103, 32, 97, 100, 100, 105, 116, 105, 111, 110, 97, 108, 32, 99, 111, 100, 101, 32, 112, 111, 105, 110, 116, 115, 44, 32, 99, 97, 108, 108, 101, 100, 32, 226, 128, 156, 99, 111, 109, 98, 105, 110, 105, 110, 103, 32, 109, 97, 114, 107, 115, 226, 128, 157, 44, 32, 116, 111, 32, 115, 112, 101, 99, 105, 102, 121, 32, 116, 104, 101, 32, 100, 105, 97, 99, 114, 105, 116, 105, 99, 115, 46, 32, 87, 104, 101, 110, 32, 97, 32, 116, 101, 120, 116, 32, 114, 101, 110, 100, 101, 114, 101, 114, 32, 115, 101, 101, 115, 32, 97, 32, 115, 101, 113, 117, 101, 110, 99, 101, 32, 108, 105, 107, 101, 32, 116, 104, 105, 115, 32, 105, 110, 32, 97, 32, 115, 116, 114, 105, 110, 103, 44, 32, 105, 116, 32, 97, 117, 116, 111, 109, 97, 116, 105, 99, 97, 108, 108, 121, 32, 115, 116, 97, 99, 107, 115, 32, 116, 104, 101, 32, 100, 105, 97, 99, 114, 105, 116, 105, 99, 115, 32, 111, 118, 101, 114, 32, 111, 114, 32, 117, 110, 100, 101, 114, 32, 116, 104, 101, 32, 98, 97, 115, 101, 32, 108, 101, 116, 116, 101, 114, 32, 116, 111, 32, 99, 114, 101, 97, 116, 101, 32, 97, 32, 99, 111, 109, 112, 111, 115, 101, 100, 32, 99, 104, 97, 114, 97, 99, 116, 101, 114, 46, 10, 10, 70, 111, 114, 32, 101, 120, 97, 109, 112, 108, 101, 44, 32, 116, 104, 101, 32, 97, 99, 99, 101, 110, 116, 101, 100, 32, 99, 104, 97, 114, 97, 99, 116, 101, 114, 32, 226, 128, 156, 195, 129, 226, 128, 157, 32, 99, 97, 110, 32, 98, 101, 32, 101, 120, 112, 114, 101, 115, 115, 101, 100, 32, 97, 115, 32, 97, 32, 115, 116, 114, 105, 110, 103, 32, 111, 102, 32, 116, 119, 111, 32, 99, 111, 100, 101, 32, 112, 111, 105, 110, 116, 115, 58, 32, 85, 43, 48, 48, 52, 49, 32, 226, 128, 156, 65, 226, 128, 157, 32, 108, 97, 116, 105, 110, 32, 99, 97, 112, 105, 116, 97, 108, 32, 108, 101, 116, 116, 101, 114, 32, 97, 32, 112, 108, 117, 115, 32, 85, 43, 48, 51, 48, 49, 32, 226, 128, 156, 226, 151, 140, 204, 129, 226, 128, 157, 32, 99, 111, 109, 98, 105, 110, 105, 110, 103, 32, 97, 99, 117, 116, 101, 32, 97, 99, 99, 101, 110, 116, 46, 32, 84, 104, 105, 115, 32, 115, 116, 114, 105, 110, 103, 32, 97, 117, 116, 111, 109, 97, 116, 105, 99, 97, 108, 108, 121, 32, 103, 101, 116, 115, 32, 114, 101, 110, 100, 101, 114, 101, 100, 32, 97, 115, 32, 97, 32, 115, 105, 110, 103, 108, 101, 32, 99, 104, 97, 114, 97, 99, 116, 101, 114, 58, 32, 226, 128, 156, 65, 204, 129, 226, 128, 157, 46, 10, 10, 78, 111, 119, 44, 32, 85, 110, 105, 99, 111, 100, 101, 32, 100, 111, 101, 115, 32, 97, 108, 115, 111, 32, 105, 110, 99, 108, 117, 100, 101, 32, 109, 97, 110, 121, 32, 226, 128, 156, 112, 114, 101, 99, 111, 109, 112, 111, 115, 101, 100, 226, 128, 157, 32, 99, 111, 100, 101, 32, 112, 111, 105, 110, 116, 115, 44, 32, 101, 97, 99, 104, 32, 114, 101, 112, 114, 101, 115, 101, 110, 116, 105, 110, 103, 32, 97, 32, 108, 101, 116, 116, 101, 114, 32, 119, 105, 116, 104, 32, 115, 111, 109, 101, 32, 99, 111, 109, 98, 105, 110, 97, 116, 105, 111, 110, 32, 111, 102, 32, 100, 105, 97, 99, 114, 105, 116, 105, 99, 115, 32, 97, 108, 114, 101, 97, 100, 121, 32, 97, 112, 112, 108, 105, 101, 100, 44, 32, 115, 117, 99, 104, 32, 97, 115, 32, 85, 43, 48, 48, 67, 49, 32, 226, 128, 156, 195, 129, 226, 128, 157, 32, 108, 97, 116, 105, 110, 32, 99, 97, 112, 105, 116, 97, 108, 32, 108, 101, 116, 116, 101, 114, 32, 97, 32, 119, 105, 116, 104, 32, 97, 99, 117, 116, 101, 32, 111, 114, 32, 85, 43, 49, 69, 67, 55, 32, 226, 128, 156, 225, 187, 135, 226, 128, 157, 32, 108, 97, 116, 105, 110, 32, 115, 109, 97, 108, 108, 32, 108, 101, 116, 116, 101, 114, 32, 101, 32, 119, 105, 116, 104, 32, 99, 105, 114, 99, 117, 109, 102, 108, 101, 120, 32, 97, 110, 100, 32, 100, 111, 116, 32, 98, 101, 108, 111, 119, 46, 32, 73, 32, 115, 117, 115, 112, 101, 99, 116, 32, 116, 104, 101, 115, 101, 32, 97, 114, 101, 32, 109, 111, 115, 116, 108, 121, 32, 105, 110, 104, 101, 114, 105, 116, 101, 100, 32, 102, 114, 111, 109, 32, 111, 108, 100, 101, 114, 32, 101, 110, 99, 111, 100, 105, 110, 103, 115, 32, 116, 104, 97, 116, 32, 119, 101, 114, 101, 32, 97, 115, 115, 105, 109, 105, 108, 97, 116, 101, 100, 32, 105, 110, 116, 111, 32, 85, 110, 105, 99, 111, 100, 101, 44, 32, 97, 110, 100, 32, 107, 101, 112, 116, 32, 97, 114, 111, 117, 110, 100, 32, 102, 111, 114, 32, 99, 111, 109, 112, 97, 116, 105, 98, 105, 108, 105, 116, 121, 46, 32, 73, 110, 32, 112, 114, 97, 99, 116, 105, 99, 101, 44, 32, 116, 104, 101, 114, 101, 32, 97, 114, 101, 32, 112, 114, 101, 99, 111, 109, 112, 111, 115, 101, 100, 32, 99, 111, 100, 101, 32, 112, 111, 105, 110, 116, 115, 32, 102, 111, 114, 32, 109, 111, 115, 116, 32, 111, 102, 32, 116, 104, 101, 32, 99, 111, 109, 109, 111, 110, 32, 108, 101, 116, 116, 101, 114, 45, 119, 105, 116, 104, 45, 100, 105, 97, 99, 114, 105, 116, 105, 99, 32, 99, 111, 109, 98, 105, 110, 97, 116, 105, 111, 110, 115, 32, 105, 110, 32, 69, 117, 114, 111, 112, 101, 97, 110, 45, 115, 99, 114, 105, 112, 116, 32, 108, 97, 110, 103, 117, 97, 103, 101, 115, 44, 32, 115, 111, 32, 116, 104, 101, 121, 32, 100, 111, 110, 226, 128, 153, 116, 32, 117, 115, 101, 32, 100, 121, 110, 97, 109, 105, 99, 32, 99, 111, 109, 112, 111, 115, 105, 116, 105, 111, 110, 32, 116, 104, 97, 116, 32, 109, 117, 99, 104, 32, 105, 110, 32, 116, 121, 112, 105, 99, 97, 108, 32, 116, 101, 120, 116, 46, 10, 10, 83, 116, 105, 108, 108, 44, 32, 116, 104, 101, 32, 115, 121, 115, 116, 101, 109, 32, 111, 102, 32, 99, 111, 109, 98, 105, 110, 105, 110, 103, 32, 109, 97, 114, 107, 115, 32, 100, 111, 101, 115, 32, 97, 108, 108, 111, 119, 32, 102, 111, 114, 32, 97, 110, 32, 97, 114, 98, 105, 116, 114, 97, 114, 121, 32, 110, 117, 109, 98, 101, 114, 32, 111, 102, 32, 100, 105, 97, 99, 114, 105, 116, 105, 99, 115, 32, 116, 111, 32, 98, 101, 32, 115, 116, 97, 99, 107, 101, 100, 32, 111, 110, 32, 97, 110, 121, 32, 98, 97, 115, 101, 32, 99, 104, 97, 114, 97, 99, 116, 101, 114, 46, 32, 84, 104, 101, 32, 114, 101, 100, 117, 99, 116, 105, 111, 45, 97, 100, 45, 97, 98, 115, 117, 114, 100, 117, 109, 32, 111, 102, 32, 116, 104, 105, 115, 32, 105, 115, 32, 90, 97, 108, 103, 111, 32, 116, 101, 120, 116, 44, 32, 119, 104, 105, 99, 104, 32, 119, 111, 114, 107, 115, 32, 98, 121, 32, 205, 159, 205, 133, 205, 150, 114, 205, 158, 97, 110, 204, 173, 204, 171, 204, 160, 204, 150, 205, 136, 204, 151, 100, 205, 150, 204, 187, 204, 185, 111, 205, 129, 109, 204, 170, 205, 153, 205, 149, 204, 151, 204, 157, 108, 204, 167, 205, 135, 204, 176, 205, 147, 204, 179, 204, 171, 121, 205, 129, 205, 147, 204, 165, 204, 159, 205, 141, 32, 204, 149, 115, 204, 171, 116, 205, 156, 204, 171, 204, 177, 205, 149, 204, 151, 204, 176, 204, 188, 204, 152, 97, 205, 157, 204, 188, 204, 169, 205, 150, 205, 135, 204, 160, 205, 136, 204, 163, 99, 204, 153, 205, 141, 107, 205, 152, 204, 150, 204, 177, 204, 185, 205, 141, 105, 204, 162, 110, 204, 168, 204, 186, 204, 157, 205, 135, 205, 135, 204, 159, 205, 153, 103, 204, 167, 204, 171, 204, 174, 205, 142, 205, 133, 204, 187, 204, 159, 32, 204, 149, 110, 205, 158, 204, 188, 204, 186, 205, 136, 117, 204, 174, 205, 153, 109, 205, 158, 204, 186, 204, 173, 204, 159, 204, 151, 101, 204, 158, 205, 147, 204, 176, 204, 164, 205, 147, 204, 171, 114, 204, 181, 111, 204, 150, 117, 204, 173, 115, 210, 137, 204, 170, 205, 141, 204, 173, 204, 172, 204, 157, 204, 164, 32, 205, 160, 204, 174, 205, 137, 204, 157, 204, 158, 204, 151, 204, 159, 100, 204, 180, 204, 159, 204, 156, 204, 177, 205, 149, 205, 154, 105, 205, 161, 205, 135, 204, 171, 204, 188, 204, 175, 204, 173, 204, 156, 97, 204, 165, 205, 153, 204, 187, 204, 188, 99, 204, 178, 204, 178, 204, 185, 114, 204, 168, 204, 160, 204, 185, 204, 163, 204, 176, 204, 166, 105, 204, 177, 116, 204, 149, 204, 164, 204, 187, 204, 164, 205, 141, 205, 153, 204, 152, 105, 204, 181, 204, 156, 204, 173, 204, 164, 204, 177, 205, 142, 99, 204, 181, 115, 32, 205, 152, 111, 205, 162, 204, 177, 204, 178, 205, 136, 204, 153, 205, 150, 205, 135, 204, 178, 110, 205, 152, 32, 204, 156, 205, 136, 101, 204, 172, 204, 178, 204, 160, 204, 169, 97, 99, 205, 149, 204, 186, 204, 160, 205, 137, 104, 204, 183, 204, 170, 32, 204, 186, 204, 163, 205, 150, 204, 177, 108, 204, 177, 204, 171, 204, 172, 204, 157, 204, 185, 101, 204, 173, 204, 153, 204, 186, 205, 153, 204, 173, 205, 147, 204, 178, 116, 204, 158, 204, 158, 205, 135, 204, 178, 205, 137, 205, 141, 116, 204, 183, 205, 148, 204, 170, 205, 137, 204, 178, 204, 187, 204, 160, 205, 153, 101, 204, 166, 204, 187, 205, 136, 205, 137, 205, 135, 114, 205, 135, 204, 173, 204, 173, 204, 172, 205, 150, 44, 205, 129, 204, 150, 32, 204, 156, 205, 153, 205, 147, 204, 163, 204, 173, 115, 204, 152, 204, 152, 205, 136, 111, 204, 177, 204, 176, 205, 133, 204, 164, 204, 178, 32, 204, 155, 204, 172, 204, 156, 204, 153, 116, 204, 188, 204, 166, 205, 149, 204, 177, 204, 185, 205, 149, 204, 165, 104, 205, 157, 204, 179, 204, 178, 205, 136, 205, 133, 97, 204, 166, 116, 204, 187, 204, 178, 32, 204, 187, 204, 159, 204, 173, 204, 166, 204, 150, 116, 204, 155, 204, 176, 204, 169, 104, 204, 160, 205, 149, 204, 179, 204, 157, 204, 171, 205, 149, 101, 205, 152, 205, 136, 204, 164, 204, 152, 205, 150, 204, 158, 121, 210, 137, 204, 157, 205, 153, 32, 204, 183, 205, 137, 205, 148, 204, 176, 204, 160, 111, 204, 158, 204, 176, 118, 205, 156, 205, 136, 205, 136, 204, 179, 204, 152, 101, 114, 204, 182, 102, 204, 176, 205, 136, 205, 148, 108, 204, 177, 205, 149, 204, 152, 204, 171, 204, 186, 204, 178, 111, 205, 160, 204, 178, 205, 133, 204, 173, 205, 153, 119, 204, 177, 204, 179, 204, 186, 32, 205, 156, 116, 204, 184, 104, 205, 135, 204, 173, 205, 149, 204, 179, 205, 141, 101, 204, 150, 204, 175, 204, 159, 204, 160, 32, 205, 156, 205, 141, 204, 158, 204, 156, 205, 148, 204, 169, 204, 170, 108, 204, 167, 205, 142, 204, 170, 204, 178, 205, 154, 105, 204, 157, 204, 178, 204, 185, 204, 153, 204, 169, 204, 185, 110, 204, 168, 204, 166, 204, 169, 204, 150, 101, 205, 162, 204, 173, 204, 188, 205, 133, 204, 178, 204, 188, 32, 205, 157, 204, 172, 115, 205, 157, 204, 188, 205, 154, 204, 152, 204, 158, 112, 205, 153, 204, 152, 204, 187, 97, 204, 153, 99, 210, 137, 205, 137, 204, 156, 204, 164, 205, 136, 204, 175, 204, 150, 105, 205, 161, 204, 165, 110, 205, 159, 204, 166, 204, 160, 204, 177, 103, 204, 184, 205, 133, 204, 151, 204, 187, 204, 166, 204, 173, 204, 174, 204, 159, 32, 204, 149, 204, 179, 204, 170, 204, 160, 205, 150, 204, 179, 204, 175, 97, 205, 156, 204, 171, 110, 205, 157, 100, 205, 161, 32, 204, 163, 204, 166, 205, 133, 204, 153, 99, 204, 170, 204, 151, 114, 204, 180, 205, 153, 204, 174, 204, 166, 204, 185, 204, 179, 101, 205, 159, 205, 135, 205, 154, 204, 158, 205, 148, 204, 185, 204, 171, 97, 204, 153, 204, 186, 204, 153, 116, 204, 166, 205, 148, 205, 142, 205, 133, 204, 152, 204, 185, 101, 204, 165, 204, 169, 205, 141, 32, 97, 205, 150, 204, 170, 204, 156, 204, 174, 205, 153, 204, 185, 110, 204, 162, 205, 137, 204, 157, 32, 205, 129, 205, 135, 205, 137, 205, 147, 204, 166, 204, 188, 97, 204, 179, 205, 150, 204, 170, 204, 164, 204, 177, 112, 205, 160, 204, 150, 205, 148, 205, 148, 204, 159, 205, 135, 205, 142, 112, 204, 177, 205, 141, 204, 186, 101, 204, 168, 204, 178, 205, 142, 205, 136, 204, 176, 204, 178, 204, 164, 204, 171, 97, 205, 156, 204, 175, 114, 204, 168, 204, 174, 204, 171, 204, 163, 204, 152, 97, 204, 169, 204, 175, 205, 150, 110, 204, 185, 204, 166, 204, 176, 205, 142, 204, 163, 204, 158, 204, 158, 99, 204, 168, 204, 166, 204, 177, 205, 148, 205, 142, 205, 141, 205, 150, 101, 205, 152, 204, 172, 205, 147, 32, 204, 164, 204, 176, 204, 169, 205, 153, 204, 164, 204, 172, 205, 153, 111, 204, 181, 204, 188, 204, 187, 204, 172, 204, 187, 205, 135, 204, 174, 204, 170, 102, 204, 180, 32, 204, 161, 204, 153, 204, 173, 205, 147, 205, 150, 204, 170, 204, 164, 226, 128, 156, 204, 184, 205, 153, 204, 160, 204, 188, 99, 205, 156, 204, 179, 204, 151, 111, 205, 143, 204, 188, 205, 153, 205, 148, 204, 174, 114, 204, 158, 204, 171, 204, 186, 204, 158, 204, 165, 204, 172, 114, 117, 204, 186, 204, 187, 204, 175, 205, 137, 204, 173, 204, 187, 204, 175, 112, 205, 162, 204, 176, 204, 165, 205, 147, 204, 163, 204, 171, 204, 153, 204, 164, 116, 205, 133, 204, 179, 205, 141, 204, 179, 204, 150, 105, 204, 182, 205, 136, 204, 157, 205, 153, 204, 188, 204, 153, 204, 185, 111, 204, 161, 205, 148, 110, 205, 157, 205, 133, 204, 153, 204, 186, 204, 185, 204, 150, 204, 169, 226, 128, 157, 204, 168, 204, 151, 205, 150, 205, 154, 204, 169, 46, 204, 175, 205, 147, 10, 10, 65, 32, 102, 101, 119, 32, 111, 116, 104, 101, 114, 32, 112, 108, 97, 99, 101, 115, 32, 119, 104, 101, 114, 101, 32, 100, 121, 110, 97, 109, 105, 99, 32, 99, 104, 97, 114, 97, 99, 116, 101, 114, 32, 99, 111, 109, 112, 111, 115, 105, 116, 105, 111, 110, 32, 115, 104, 111, 119, 115, 32, 117, 112, 32, 105, 110, 32, 85, 110, 105, 99, 111, 100, 101, 58, 10, 10, 32, 32, 32, 32, 86, 111, 119, 101, 108, 45, 112, 111, 105, 110, 116, 105, 110, 103, 32, 110, 111, 116, 97, 116, 105, 111, 110, 32, 105, 110, 32, 65, 114, 97, 98, 105, 99, 32, 97, 110, 100, 32, 72, 101, 98, 114, 101, 119, 46, 32, 73, 110, 32, 116, 104, 101, 115, 101, 32, 108, 97, 110, 103, 117, 97, 103, 101, 115, 44, 32, 119, 111, 114, 100, 115, 32, 97, 114, 101, 32, 110, 111, 114, 109, 97, 108, 108, 121, 32, 115, 112, 101, 108, 108, 101, 100, 32, 119, 105, 116, 104, 32, 115, 111, 109, 101, 32, 111, 102, 32, 116, 104, 101, 105, 114, 32, 118, 111, 119, 101, 108, 115, 32, 108, 101, 102, 116, 32, 111, 117, 116, 46, 32, 84, 104, 101, 121, 32, 116, 104, 101, 110, 32, 104, 97, 118, 101, 32, 100, 105, 97, 99, 114, 105, 116, 105, 99, 32, 110, 111, 116, 97, 116, 105, 111, 110, 32, 116, 111, 32, 105, 110, 100, 105, 99, 97, 116, 101, 32, 116, 104, 101, 32, 118, 111, 119, 101, 108, 115, 32, 40, 117, 115, 101, 100, 32, 105, 110, 32, 100, 105, 99, 116, 105, 111, 110, 97, 114, 105, 101, 115, 44, 32, 108, 97, 110, 103, 117, 97, 103, 101, 45, 116, 101, 97, 99, 104, 105, 110, 103, 32, 109, 97, 116, 101, 114, 105, 97, 108, 115, 44, 32, 99, 104, 105, 108, 100, 114, 101, 110, 226, 128, 153, 115, 32, 98, 111, 111, 107, 115, 44, 32, 97, 110, 100, 32, 115, 117, 99, 104, 41, 46, 32, 84, 104, 101, 115, 101, 32, 100, 105, 97, 99, 114, 105, 116, 105, 99, 115, 32, 97, 114, 101, 32, 101, 120, 112, 114, 101, 115, 115, 101, 100, 32, 119, 105, 116, 104, 32, 99, 111, 109, 98, 105, 110, 105, 110, 103, 32, 109, 97, 114, 107, 115, 46, 10, 32, 32, 32, 32, 65, 32, 72, 101, 98, 114, 101, 119, 32, 101, 120, 97, 109, 112, 108, 101, 44, 32, 119, 105, 116, 104, 32, 110, 105, 113, 113, 117, 100, 58, 9, 215, 144, 214, 182, 215, 170, 32, 215, 147, 214, 183, 215, 156, 214, 176, 215, 170, 214, 180, 214, 188, 215, 153, 32, 215, 148, 214, 181, 215, 150, 214, 180, 215, 153, 215, 150, 32, 215, 148, 214, 181, 215, 160, 214, 180, 215, 153, 215, 162, 214, 183, 44, 32, 215, 167, 214, 182, 215, 152, 214, 182, 215, 145, 32, 215, 156, 214, 180, 215, 169, 214, 176, 215, 129, 215, 155, 214, 183, 214, 188, 215, 170, 214, 180, 214, 188, 215, 153, 32, 215, 153, 214, 184, 215, 169, 215, 129, 215, 149, 214, 185, 215, 147, 10, 32, 32, 32, 32, 78, 111, 114, 109, 97, 108, 32, 119, 114, 105, 116, 105, 110, 103, 32, 40, 110, 111, 32, 110, 105, 113, 113, 117, 100, 41, 58, 9, 215, 144, 215, 170, 32, 215, 147, 215, 156, 215, 170, 215, 153, 32, 215, 148, 215, 150, 215, 153, 215, 150, 32, 215, 148, 215, 160, 215, 153, 215, 162, 44, 32, 215, 167, 215, 152, 215, 145, 32, 215, 156, 215, 169, 215, 155, 215, 170, 215, 153, 32, 215, 153, 215, 169, 215, 149, 215, 147, 10, 10, 32, 32, 32, 32, 68, 101, 118, 97, 110, 97, 103, 97, 114, 105, 44, 32, 116, 104, 101, 32, 115, 99, 114, 105, 112, 116, 32, 117, 115, 101, 100, 32, 116, 111, 32, 119, 114, 105, 116, 101, 32, 72, 105, 110, 100, 105, 44, 32, 83, 97, 110, 115, 107, 114, 105, 116, 44, 32, 97, 110, 100, 32, 109, 97, 110, 121, 32, 111, 116, 104, 101, 114, 32, 83, 111, 117, 116, 104, 32, 65, 115, 105, 97, 110, 32, 108, 97, 110, 103, 117, 97, 103, 101, 115, 44, 32, 101, 120, 112, 114, 101, 115, 115, 101, 115, 32, 99, 101, 114, 116, 97, 105, 110, 32, 118, 111, 119, 101, 108, 115, 32, 97, 115, 32, 99, 111, 109, 98, 105, 110, 105, 110, 103, 32, 109, 97, 114, 107, 115, 32, 97, 116, 116, 97, 99, 104, 101, 100, 32, 116, 111, 32, 99, 111, 110, 115, 111, 110, 97, 110, 116, 32, 108, 101, 116, 116, 101, 114, 115, 46, 32, 70, 111, 114, 32, 101, 120, 97, 109, 112, 108, 101, 44, 32, 226, 128, 156, 224, 164, 185, 226, 128, 157, 32, 43, 32, 226, 128, 156, 226, 128, 139, 224, 164, 191, 226, 128, 157, 32, 61, 32, 226, 128, 156, 224, 164, 185, 224, 164, 191, 226, 128, 157, 32, 40, 226, 128, 156, 104, 226, 128, 157, 32, 43, 32, 226, 128, 156, 105, 226, 128, 157, 32, 61, 32, 226, 128, 156, 104, 105, 226, 128, 157, 41, 46, 10, 10, 32, 32, 32, 32, 75, 111, 114, 101, 97, 110, 32, 99, 104, 97, 114, 97, 99, 116, 101, 114, 115, 32, 115, 116, 97, 110, 100, 32, 102, 111, 114, 32, 115, 121, 108, 108, 97, 98, 108, 101, 115, 44, 32, 98, 117, 116, 32, 116, 104, 101, 121, 32, 97, 114, 101, 32, 99, 111, 109, 112, 111, 115, 101, 100, 32, 111, 102, 32, 108, 101, 116, 116, 101, 114, 115, 32, 99, 97, 108, 108, 101, 100, 32, 106, 97, 109, 111, 32, 116, 104, 97, 116, 32, 115, 116, 97, 110, 100, 32, 102, 111, 114, 32, 116, 104, 101, 32, 118, 111, 119, 101, 108, 115, 32, 97, 110, 100, 32, 99, 111, 110, 115, 111, 110, 97, 110, 116, 115, 32, 105, 110, 32, 116, 104, 101, 32, 115, 121, 108, 108, 97, 98, 108, 101, 46, 32, 87, 104, 105, 108, 101, 32, 116, 104, 101, 114, 101, 32, 97, 114, 101, 32, 99, 111, 100, 101, 32, 112, 111, 105, 110, 116, 115, 32, 102, 111, 114, 32, 112, 114, 101, 99, 111, 109, 112, 111, 115, 101, 100, 32, 75, 111, 114, 101, 97, 110, 32, 115, 121, 108, 108, 97, 98, 108, 101, 115, 44, 32, 105, 116, 226, 128, 153, 115, 32, 97, 108, 115, 111, 32, 112, 111, 115, 115, 105, 98, 108, 101, 32, 116, 111, 32, 100, 121, 110, 97, 109, 105, 99, 97, 108, 108, 121, 32, 99, 111, 109, 112, 111, 115, 101, 32, 116, 104, 101, 109, 32, 98, 121, 32, 99, 111, 110, 99, 97, 116, 101, 110, 97, 116, 105, 110, 103, 32, 116, 104, 101, 105, 114, 32, 106, 97, 109, 111, 46, 32, 70, 111, 114, 32, 101, 120, 97, 109, 112, 108, 101, 44, 32, 226, 128, 156, 225, 132, 146, 226, 128, 157, 32, 43, 32, 226, 128, 156, 225, 133, 161, 226, 128, 157, 32, 43, 32, 226, 128, 156, 225, 134, 171, 226, 128, 157, 32, 61, 32, 226, 128, 156, 225, 132, 146, 225, 133, 161, 225, 134, 171, 226, 128, 157, 32, 40, 226, 128, 156, 104, 226, 128, 157, 32, 43, 32, 226, 128, 156, 97, 226, 128, 157, 32, 43, 32, 226, 128, 156, 110, 226, 128, 157, 32, 61, 32, 226, 128, 156, 104, 97, 110, 226, 128, 157, 41, 46, 10, 10, 67, 97, 110, 111, 110, 105, 99, 97, 108, 32, 69, 113, 117, 105, 118, 97, 108, 101, 110, 99, 101, 10, 10, 73, 110, 32, 85, 110, 105, 99, 111, 100, 101, 44, 32, 112, 114, 101, 99, 111, 109, 112, 111, 115, 101, 100, 32, 99, 104, 97, 114, 97, 99, 116, 101, 114, 115, 32, 101, 120, 105, 115, 116, 32, 97, 108, 111, 110, 103, 115, 105, 100, 101, 32, 116, 104, 101, 32, 100, 121, 110, 97, 109, 105, 99, 32, 99, 111, 109, 112, 111, 115, 105, 116, 105, 111, 110, 32, 115, 121, 115, 116, 101, 109, 46, 32, 65, 32, 99, 111, 110, 115, 101, 113, 117, 101, 110, 99, 101, 32, 111, 102, 32, 116, 104, 105, 115, 32, 105, 115, 32, 116, 104, 97, 116, 32, 116, 104, 101, 114, 101, 32, 97, 114, 101, 32, 109, 117, 108, 116, 105, 112, 108, 101, 32, 119, 97, 121, 115, 32, 116, 111, 32, 101, 120, 112, 114, 101, 115, 115, 32, 226, 128, 156, 116, 104, 101, 32, 115, 97, 109, 101, 226, 128, 157, 32, 115, 116, 114, 105, 110, 103, 226, 128, 148, 100, 105, 102, 102, 101, 114, 101, 110, 116, 32, 115, 101, 113, 117, 101, 110, 99, 101, 115, 32, 111, 102, 32, 99, 111, 100, 101, 32, 112, 111, 105, 110, 116, 115, 32, 116, 104, 97, 116, 32, 114, 101, 115, 117, 108, 116, 32, 105, 110, 32, 116, 104, 101, 32, 115, 97, 109, 101, 32, 117, 115, 101, 114, 45, 112, 101, 114, 99, 101, 105, 118, 101, 100, 32, 99, 104, 97, 114, 97, 99, 116, 101, 114, 115, 46, 32, 70, 111, 114, 32, 101, 120, 97, 109, 112, 108, 101, 44, 32, 97, 115, 32, 119, 101, 32, 115, 97, 119, 32, 101, 97, 114, 108, 105, 101, 114, 44, 32, 119, 101, 32, 99, 97, 110, 32, 101, 120, 112, 114, 101, 115, 115, 32, 116, 104, 101, 32, 99, 104, 97, 114, 97, 99, 116, 101, 114, 32, 226, 128, 156, 195, 129, 226, 128, 157, 32, 101, 105, 116, 104, 101, 114, 32, 97, 115, 32, 116, 104, 101, 32, 115, 105, 110, 103, 108, 101, 32, 99, 111, 100, 101, 32, 112, 111, 105, 110, 116, 32, 85, 43, 48, 48, 67, 49, 44, 32, 111, 114, 32, 97, 115, 32, 116, 104, 101, 32, 115, 116, 114, 105, 110, 103, 32, 111, 102, 32, 116, 119, 111, 32, 99, 111, 100, 101, 32, 112, 111, 105, 110, 116, 115, 32, 85, 43, 48, 48, 52, 49, 32, 85, 43, 48, 51, 48, 49, 46, 10, 10, 65, 110, 111, 116, 104, 101, 114, 32, 115, 111, 117, 114, 99, 101, 32, 111, 102, 32, 97, 109, 98, 105, 103, 117, 105, 116, 121, 32, 105, 115, 32, 116, 104, 101, 32, 111, 114, 100, 101, 114, 105, 110, 103, 32, 111, 102, 32, 109, 117, 108, 116, 105, 112, 108, 101, 32, 100, 105, 97, 99, 114, 105, 116, 105, 99, 115, 32, 105, 110, 32, 97, 32, 115, 105, 110, 103, 108, 101, 32, 99, 104, 97, 114, 97, 99, 116, 101, 114, 46, 32, 68, 105, 97, 99, 114, 105, 116, 105, 99, 32, 111, 114, 100, 101, 114, 32, 109, 97, 116, 116, 101, 114, 115, 32, 118, 105, 115, 117, 97, 108, 108, 121, 32, 119, 104, 101, 110, 32, 116, 119, 111, 32, 100, 105, 97, 99, 114, 105, 116, 105, 99, 115, 32, 97, 112, 112, 108, 121, 32, 116, 111, 32, 116, 104, 101, 32, 115, 97, 109, 101, 32, 115, 105, 100, 101, 32, 111, 102, 32, 116, 104, 101, 32, 98, 97, 115, 101, 32, 99, 104, 97, 114, 97, 99, 116, 101, 114, 44, 32, 101, 46, 103, 46, 32, 98, 111, 116, 104, 32, 97, 98, 111, 118, 101, 58, 32, 226, 128, 156, 199, 161, 226, 128, 157, 32, 40, 100, 111, 116, 44, 32, 116, 104, 101, 110, 32, 109, 97, 99, 114, 111, 110, 41, 32, 105, 115, 32, 100, 105, 102, 102, 101, 114, 101, 110, 116, 32, 102, 114, 111, 109, 32, 226, 128, 156, 196, 129, 204, 135, 226, 128, 157, 32, 40, 109, 97, 99, 114, 111, 110, 44, 32, 116, 104, 101, 110, 32, 100, 111, 116, 41, 46, 32, 72, 111, 119, 101, 118, 101, 114, 44, 32, 119, 104, 101, 110, 32, 100, 105, 97, 99, 114, 105, 116, 105, 99, 115, 32, 97, 112, 112, 108, 121, 32, 116, 111, 32, 100, 105, 102, 102, 101, 114, 101, 110, 116, 32, 115, 105, 100, 101, 115, 32, 111, 102, 32, 116, 104, 101, 32, 99, 104, 97, 114, 97, 99, 116, 101, 114, 44, 32, 101, 46, 103, 46, 32, 111, 110, 101, 32, 97, 98, 111, 118, 101, 32, 97, 110, 100, 32, 111, 110, 101, 32, 98, 101, 108, 111, 119, 44, 32, 116, 104, 101, 110, 32, 116, 104, 101, 32, 111, 114, 100, 101, 114, 32, 100, 111, 101, 115, 110, 226, 128, 153, 116, 32, 97, 102, 102, 101, 99, 116, 32, 114, 101, 110, 100, 101, 114, 105, 110, 103, 46, 32, 77, 111, 114, 101, 111, 118, 101, 114, 44, 32, 97, 32, 99, 104, 97, 114, 97, 99, 116, 101, 114, 32, 119, 105, 116, 104, 32, 109, 117, 108, 116, 105, 112, 108, 101, 32, 100, 105, 97, 99, 114, 105, 116, 105, 99, 115, 32, 109, 105, 103, 104, 116, 32, 104, 97, 118, 101, 32, 111, 110, 101, 32, 111, 102, 32, 116, 104, 101, 32, 100, 105, 97, 99, 114, 105, 116, 105, 99, 115, 32, 112, 114, 101, 99, 111, 109, 112, 111, 115, 101, 100, 32, 97, 110, 100, 32, 111, 116, 104, 101, 114, 115, 32, 101, 120, 112, 114, 101, 115, 115, 101, 100, 32, 97, 115, 32, 99, 111, 109, 98, 105, 110, 105, 110, 103, 32, 109, 97, 114, 107, 115, 46, 10, 10, 70, 111, 114, 32, 101, 120, 97, 109, 112, 108, 101, 44, 32, 116, 104, 101, 32, 86, 105, 101, 116, 110, 97, 109, 101, 115, 101, 32, 108, 101, 116, 116, 101, 114, 32, 226, 128, 156, 225, 187, 135, 226, 128, 157, 32, 99, 97, 110, 32, 98, 101, 32, 101, 120, 112, 114, 101, 115, 115, 101, 100, 32, 105, 110, 32, 102, 105, 118, 101, 32, 100, 105, 102, 102, 101, 114, 101, 110, 116, 32, 119, 97, 121, 115, 58, 10, 10, 32, 32, 32, 32, 70, 117, 108, 108, 121, 32, 112, 114, 101, 99, 111, 109, 112, 111, 115, 101, 100, 58, 32, 85, 43, 49, 69, 67, 55, 32, 226, 128, 156, 225, 187, 135, 226, 128, 157, 10, 32, 32, 32, 32, 80, 97, 114, 116, 105, 97, 108, 108, 121, 32, 112, 114, 101, 99, 111, 109, 112, 111, 115, 101, 100, 58, 32, 85, 43, 49, 69, 66, 57, 32, 226, 128, 156, 225, 186, 185, 226, 128, 157, 32, 43, 32, 85, 43, 48, 51, 48, 50, 32, 226, 128, 156, 226, 151, 140, 204, 130, 226, 128, 157, 10, 32, 32, 32, 32, 80, 97, 114, 116, 105, 97, 108, 108, 121, 32, 112, 114, 101, 99, 111, 109, 112, 111, 115, 101, 100, 58, 32, 85, 43, 48, 48, 69, 65, 32, 226, 128, 156, 195, 170, 226, 128, 157, 32, 43, 32, 85, 43, 48, 51, 50, 51, 32, 226, 128, 156, 226, 151, 140, 204, 163, 226, 128, 157, 10, 32, 32, 32, 32, 70, 117, 108, 108, 121, 32, 100, 101, 99, 111, 109, 112, 111, 115, 101, 100, 58, 32, 85, 43, 48, 48, 54, 53, 32, 226, 128, 156, 101, 226, 128, 157, 32, 43, 32, 85, 43, 48, 51, 50, 51, 32, 226, 128, 156, 226, 151, 140, 204, 163, 226, 128, 157, 32, 43, 32, 85, 43, 48, 51, 48, 50, 32, 226, 128, 156, 226, 151, 140, 204, 130, 226, 128, 157, 10, 32, 32, 32, 32, 70, 117, 108, 108, 121, 32, 100, 101, 99, 111, 109, 112, 111, 115, 101, 100, 58, 32, 85, 43, 48, 48, 54, 53, 32, 226, 128, 156, 101, 226, 128, 157, 32, 43, 32, 85, 43, 48, 51, 48, 50, 32, 226, 128, 156, 226, 151, 140, 204, 130, 226, 128, 157, 32, 43, 32, 85, 43, 48, 51, 50, 51, 32, 226, 128, 156, 226, 151, 140, 204, 163, 226, 128, 157, 10, 10, 85, 110, 105, 99, 111, 100, 101, 32, 114, 101, 102, 101, 114, 115, 32, 116, 111, 32, 115, 101, 116, 32, 111, 102, 32, 115, 116, 114, 105, 110, 103, 115, 32, 108, 105, 107, 101, 32, 116, 104, 105, 115, 32, 97, 115, 32, 226, 128, 156, 99, 97, 110, 111, 110, 105, 99, 97, 108, 108, 121, 32, 101, 113, 117, 105, 118, 97, 108, 101, 110, 116, 226, 128, 157, 46, 32, 67, 97, 110, 111, 110, 105, 99, 97, 108, 108, 121, 32, 101, 113, 117, 105, 118, 97, 108, 101, 110, 116, 32, 115, 116, 114, 105, 110, 103, 115, 32, 97, 114, 101, 32, 115, 117, 112, 112, 111, 115, 101, 100, 32, 116, 111, 32, 98, 101, 32, 116, 114, 101, 97, 116, 101, 100, 32, 97, 115, 32, 105, 100, 101, 110, 116, 105, 99, 97, 108, 32, 102, 111, 114, 32, 112, 117, 114, 112, 111, 115, 101, 115, 32, 111, 102, 32, 115, 101, 97, 114, 99, 104, 105, 110, 103, 44, 32, 115, 111, 114, 116, 105, 110, 103, 44, 32, 114, 101, 110, 100, 101, 114, 105, 110, 103, 44, 32, 116, 101, 120, 116, 32, 115, 101, 108, 101, 99, 116, 105, 111, 110, 44, 32, 97, 110, 100, 32, 115, 111, 32, 111, 110, 46, 32, 84, 104, 105, 115, 32, 104, 97, 115, 32, 105, 109, 112, 108, 105, 99, 97, 116, 105, 111, 110, 115, 32, 102, 111, 114, 32, 104, 111, 119, 32, 121, 111, 117, 32, 105, 109, 112, 108, 101, 109, 101, 110, 116, 32, 111, 112, 101, 114, 97, 116, 105, 111, 110, 115, 32, 111, 110, 32, 116, 101, 120, 116, 46, 32, 70, 111, 114, 32, 101, 120, 97, 109, 112, 108, 101, 44, 32, 105, 102, 32, 97, 110, 32, 97, 112, 112, 32, 104, 97, 115, 32, 97, 32, 226, 128, 156, 102, 105, 110, 100, 32, 105, 110, 32, 102, 105, 108, 101, 226, 128, 157, 32, 111, 112, 101, 114, 97, 116, 105, 111, 110, 32, 97, 110, 100, 32, 116, 104, 101, 32, 117, 115, 101, 114, 32, 115, 101, 97, 114, 99, 104, 101, 115, 32, 102, 111, 114, 32, 226, 128, 156, 225, 187, 135, 226, 128, 157, 44, 32, 105, 116, 32, 115, 104, 111, 117, 108, 100, 44, 32, 98, 121, 32, 100, 101, 102, 97, 117, 108, 116, 44, 32, 102, 105, 110, 100, 32, 111, 99, 99, 117, 114, 114, 101, 110, 99, 101, 115, 32, 111, 102, 32, 97, 110, 121, 32, 111, 102, 32, 116, 104, 101, 32, 102, 105, 118, 101, 32, 118, 101, 114, 115, 105, 111, 110, 115, 32, 111, 102, 32, 226, 128, 156, 225, 187, 135, 226, 128, 157, 32, 97, 98, 111, 118, 101, 33, 10, 78, 111, 114, 109, 97, 108, 105, 122, 97, 116, 105, 111, 110, 32, 70, 111, 114, 109, 115, 10, 10, 84, 111, 32, 97, 100, 100, 114, 101, 115, 115, 32, 116, 104, 101, 32, 112, 114, 111, 98, 108, 101, 109, 32, 111, 102, 32, 226, 128, 156, 104, 111, 119, 32, 116, 111, 32, 104, 97, 110, 100, 108, 101, 32, 99, 97, 110, 111, 110, 105, 99, 97, 108, 108, 121, 32, 101, 113, 117, 105, 118, 97, 108, 101, 110, 116, 32, 115, 116, 114, 105, 110, 103, 115, 226, 128, 157, 44, 32, 85, 110, 105, 99, 111, 100, 101, 32, 100, 101, 102, 105, 110, 101, 115, 32, 115, 101, 118, 101, 114, 97, 108, 32, 110, 111, 114, 109, 97, 108, 105, 122, 97, 116, 105, 111, 110, 32, 102, 111, 114, 109, 115, 58, 32, 119, 97, 121, 115, 32, 111, 102, 32, 99, 111, 110, 118, 101, 114, 116, 105, 110, 103, 32, 115, 116, 114, 105, 110, 103, 115, 32, 105, 110, 116, 111, 32, 97, 32, 99, 97, 110, 111, 110, 105, 99, 97, 108, 32, 102, 111, 114, 109, 32, 115, 111, 32, 116, 104, 97, 116, 32, 116, 104, 101, 121, 32, 99, 97, 110, 32, 98, 101, 32, 99, 111, 109, 112, 97, 114, 101, 100, 32, 99, 111, 100, 101, 45, 112, 111, 105, 110, 116, 45, 98, 121, 45, 99, 111, 100, 101, 45, 112, 111, 105, 110, 116, 32, 40, 111, 114, 32, 98, 121, 116, 101, 45, 98, 121, 45, 98, 121, 116, 101, 41, 46, 10, 10, 84, 104, 101, 32, 226, 128, 156, 78, 70, 68, 226, 128, 157, 32, 110, 111, 114, 109, 97, 108, 105, 122, 97, 116, 105, 111, 110, 32, 102, 111, 114, 109, 32, 102, 117, 108, 108, 121, 32, 100, 101, 99, 111, 109, 112, 111, 115, 101, 115, 32, 101, 118, 101, 114, 121, 32, 99, 104, 97, 114, 97, 99, 116, 101, 114, 32, 100, 111, 119, 110, 32, 116, 111, 32, 105, 116, 115, 32, 99, 111, 109, 112, 111, 110, 101, 110, 116, 32, 98, 97, 115, 101, 32, 97, 110, 100, 32, 99, 111, 109, 98, 105, 110, 105, 110, 103, 32, 109, 97, 114, 107, 115, 44, 32, 116, 97, 107, 105, 110, 103, 32, 97, 112, 97, 114, 116, 32, 97, 110, 121, 32, 112, 114, 101, 99, 111, 109, 112, 111, 115, 101, 100, 32, 99, 111, 100, 101, 32, 112, 111, 105, 110, 116, 115, 32, 105, 110, 32, 116, 104, 101, 32, 115, 116, 114, 105, 110, 103, 46, 32, 73, 116, 32, 97, 108, 115, 111, 32, 115, 111, 114, 116, 115, 32, 116, 104, 101, 32, 99, 111, 109, 98, 105, 110, 105, 110, 103, 32, 109, 97, 114, 107, 115, 32, 105, 110, 32, 101, 97, 99, 104, 32, 99, 104, 97, 114, 97, 99, 116, 101, 114, 32, 97, 99, 99, 111, 114, 100, 105, 110, 103, 32, 116, 111, 32, 116, 104, 101, 105, 114, 32, 114, 101, 110, 100, 101, 114, 101, 100, 32, 112, 111, 115, 105, 116, 105, 111, 110, 44, 32, 115, 111, 32, 101, 46, 103, 46, 32, 100, 105, 97, 99, 114, 105, 116, 105, 99, 115, 32, 116, 104, 97, 116, 32, 103, 111, 32, 98, 101, 108, 111, 119, 32, 116, 104, 101, 32, 99, 104, 97, 114, 97, 99, 116, 101, 114, 32, 99, 111, 109, 101, 32, 98, 101, 102, 111, 114, 101, 32, 116, 104, 101, 32, 111, 110, 101, 115, 32, 116, 104, 97, 116, 32, 103, 111, 32, 97, 98, 111, 118, 101, 32, 116, 104, 101, 32, 99, 104, 97, 114, 97, 99, 116, 101, 114, 46, 32, 40, 73, 116, 32, 100, 111, 101, 115, 110, 226, 128, 153, 116, 32, 114, 101, 111, 114, 100, 101, 114, 32, 100, 105, 97, 99, 114, 105, 116, 105, 99, 115, 32, 105, 110, 32, 116, 104, 101, 32, 115, 97, 109, 101, 32, 114, 101, 110, 100, 101, 114, 101, 100, 32, 112, 111, 115, 105, 116, 105, 111, 110, 44, 32, 115, 105, 110, 99, 101, 32, 116, 104, 101, 105, 114, 32, 111, 114, 100, 101, 114, 32, 109, 97, 116, 116, 101, 114, 115, 32, 118, 105, 115, 117, 97, 108, 108, 121, 44, 32, 97, 115, 32, 112, 114, 101, 118, 105, 111, 117, 115, 108, 121, 32, 109, 101, 110, 116, 105, 111, 110, 101, 100, 46, 41, 10, 10, 84, 104, 101, 32, 226, 128, 156, 78, 70, 67, 226, 128, 157, 32, 102, 111, 114, 109, 44, 32, 99, 111, 110, 118, 101, 114, 115, 101, 108, 121, 44, 32, 112, 117, 116, 115, 32, 116, 104, 105, 110, 103, 115, 32, 98, 97, 99, 107, 32, 116, 111, 103, 101, 116, 104, 101, 114, 32, 105, 110, 116, 111, 32, 112, 114, 101, 99, 111, 109, 112, 111, 115, 101, 100, 32, 99, 111, 100, 101, 32, 112, 111, 105, 110, 116, 115, 32, 97, 115, 32, 109, 117, 99, 104, 32, 97, 115, 32, 112, 111, 115, 115, 105, 98, 108, 101, 46, 32, 73, 102, 32, 97, 110, 32, 117, 110, 117, 115, 117, 97, 108, 32, 99, 111, 109, 98, 105, 110, 97, 116, 105, 111, 110, 32, 111, 102, 32, 100, 105, 97, 99, 114, 105, 116, 105, 99, 115, 32, 105, 115, 32, 99, 97, 108, 108, 101, 100, 32, 102, 111, 114, 44, 32, 116, 104, 101, 114, 101, 32, 109, 97, 121, 32, 110, 111, 116, 32, 98, 101, 32, 97, 110, 121, 32, 112, 114, 101, 99, 111, 109, 112, 111, 115, 101, 100, 32, 99, 111, 100, 101, 32, 112, 111, 105, 110, 116, 32, 102, 111, 114, 32, 105, 116, 44, 32, 105, 110, 32, 119, 104, 105, 99, 104, 32, 99, 97, 115, 101, 32, 78, 70, 67, 32, 115, 116, 105, 108, 108, 32, 112, 114, 101, 99, 111, 109, 112, 111, 115, 101, 115, 32, 119, 104, 97, 116, 32, 105, 116, 32, 99, 97, 110, 32, 97, 110, 100, 32, 108, 101, 97, 118, 101, 115, 32, 97, 110, 121, 32, 114, 101, 109, 97, 105, 110, 105, 110, 103, 32, 99, 111, 109, 98, 105, 110, 105, 110, 103, 32, 109, 97, 114, 107, 115, 32, 105, 110, 32, 112, 108, 97, 99, 101, 32, 40, 97, 103, 97, 105, 110, 32, 111, 114, 100, 101, 114, 101, 100, 32, 98, 121, 32, 114, 101, 110, 100, 101, 114, 101, 100, 32, 112, 111, 115, 105, 116, 105, 111, 110, 44, 32, 97, 115, 32, 105, 110, 32, 78, 70, 68, 41, 46, 10, 10, 84, 104, 101, 114, 101, 32, 97, 114, 101, 32, 97, 108, 115, 111, 32, 102, 111, 114, 109, 115, 32, 99, 97, 108, 108, 101, 100, 32, 78, 70, 75, 68, 32, 97, 110, 100, 32, 78, 70, 75, 67, 46, 32, 84, 104, 101, 32, 226, 128, 156, 75, 226, 128, 157, 32, 104, 101, 114, 101, 32, 114, 101, 102, 101, 114, 115, 32, 116, 111, 32, 99, 111, 109, 112, 97, 116, 105, 98, 105, 108, 105, 116, 121, 32, 100, 101, 99, 111, 109, 112, 111, 115, 105, 116, 105, 111, 110, 115, 44, 32, 119, 104, 105, 99, 104, 32, 99, 111, 118, 101, 114, 32, 99, 104, 97, 114, 97, 99, 116, 101, 114, 115, 32, 116, 104, 97, 116, 32, 97, 114, 101, 32, 226, 128, 156, 115, 105, 109, 105, 108, 97, 114, 226, 128, 157, 32, 105, 110, 32, 115, 111, 109, 101, 32, 115, 101, 110, 115, 101, 32, 98, 117, 116, 32, 110, 111, 116, 32, 118, 105, 115, 117, 97, 108, 108, 121, 32, 105, 100, 101, 110, 116, 105, 99, 97, 108, 46, 32, 72, 111, 119, 101, 118, 101, 114, 44, 32, 73, 226, 128, 153, 109, 32, 110, 111, 116, 32, 103, 111, 105, 110, 103, 32, 116, 111, 32, 99, 111, 118, 101, 114, 32, 116, 104, 97, 116, 32, 104, 101, 114, 101, 46, 10, 71, 114, 97, 112, 104, 101, 109, 101, 32, 67, 108, 117, 115, 116, 101, 114, 115, 10, 10, 65, 115, 32, 119, 101, 226, 128, 153, 118, 101, 32, 115, 101, 101, 110, 44, 32, 85, 110, 105, 99, 111, 100, 101, 32, 99, 111, 110, 116, 97, 105, 110, 115, 32, 118, 97, 114, 105, 111, 117, 115, 32, 99, 97, 115, 101, 115, 32, 119, 104, 101, 114, 101, 32, 97, 32, 116, 104, 105, 110, 103, 32, 116, 104, 97, 116, 32, 97, 32, 117, 115, 101, 114, 32, 116, 104, 105, 110, 107, 115, 32, 111, 102, 32, 97, 115, 32, 97, 32, 115, 105, 110, 103, 108, 101, 32, 226, 128, 156, 99, 104, 97, 114, 97, 99, 116, 101, 114, 226, 128, 157, 32, 109, 105, 103, 104, 116, 32, 97, 99, 116, 117, 97, 108, 108, 121, 32, 98, 101, 32, 109, 97, 100, 101, 32, 117, 112, 32, 111, 102, 32, 109, 117, 108, 116, 105, 112, 108, 101, 32, 99, 111, 100, 101, 32, 112, 111, 105, 110, 116, 115, 32, 117, 110, 100, 101, 114, 32, 116, 104, 101, 32, 104, 111, 111, 100, 46, 32, 85, 110, 105, 99, 111, 100, 101, 32, 102, 111, 114, 109, 97, 108, 105, 122, 101, 115, 32, 116, 104, 105, 115, 32, 117, 115, 105, 110, 103, 32, 116, 104, 101, 32, 110, 111, 116, 105, 111, 110, 32, 111, 102, 32, 97, 32, 103, 114, 97, 112, 104, 101, 109, 101, 32, 99, 108, 117, 115, 116, 101, 114, 58, 32, 97, 32, 115, 116, 114, 105, 110, 103, 32, 111, 102, 32, 111, 110, 101, 32, 111, 114, 32, 109, 111, 114, 101, 32, 99, 111, 100, 101, 32, 112, 111, 105, 110, 116, 115, 32, 116, 104, 97, 116, 32, 99, 111, 110, 115, 116, 105, 116, 117, 116, 101, 32, 97, 32, 115, 105, 110, 103, 108, 101, 32, 226, 128, 156, 117, 115, 101, 114, 45, 112, 101, 114, 99, 101, 105, 118, 101, 100, 32, 99, 104, 97, 114, 97, 99, 116, 101, 114, 226, 128, 157, 46, 10, 10, 85, 65, 88, 32, 35, 50, 57, 32, 100, 101, 102, 105, 110, 101, 115, 32, 116, 104, 101, 32, 114, 117, 108, 101, 115, 32, 102, 111, 114, 32, 119, 104, 97, 116, 44, 32, 112, 114, 101, 99, 105, 115, 101, 108, 121, 44, 32, 113, 117, 97, 108, 105, 102, 105, 101, 115, 32, 97, 115, 32, 97, 32, 103, 114, 97, 112, 104, 101, 109, 101, 32, 99, 108, 117, 115, 116, 101, 114, 46, 32, 73, 116, 226, 128, 153, 115, 32, 97, 112, 112, 114, 111, 120, 105, 109, 97, 116, 101, 108, 121, 32, 226, 128, 156, 97, 32, 98, 97, 115, 101, 32, 99, 111, 100, 101, 32, 112, 111, 105, 110, 116, 32, 102, 111, 108, 108, 111, 119, 101, 100, 32, 98, 121, 32, 97, 110, 121, 32, 110, 117, 109, 98, 101, 114, 32, 111, 102, 32, 99, 111, 109, 98, 105, 110, 105, 110, 103, 32, 109, 97, 114, 107, 115, 226, 128, 157, 44, 32, 98, 117, 116, 32, 116, 104, 101, 32, 97, 99, 116, 117, 97, 108, 32, 100, 101, 102, 105, 110, 105, 116, 105, 111, 110, 32, 105, 115, 32, 97, 32, 98, 105, 116, 32, 109, 111, 114, 101, 32, 99, 111, 109, 112, 108, 105, 99, 97, 116, 101, 100, 59, 32, 105, 116, 32, 97, 99, 99, 111, 117, 110, 116, 115, 32, 102, 111, 114, 32, 116, 104, 105, 110, 103, 115, 32, 108, 105, 107, 101, 32, 75, 111, 114, 101, 97, 110, 32, 106, 97, 109, 111, 44, 32, 97, 110, 100, 32, 101, 109, 111, 106, 105, 32, 90, 87, 74, 32, 115, 101, 113, 117, 101, 110, 99, 101, 115, 46, 10, 10, 84, 104, 101, 32, 109, 97, 105, 110, 32, 116, 104, 105, 110, 103, 32, 103, 114, 97, 112, 104, 101, 109, 101, 32, 99, 108, 117, 115, 116, 101, 114, 115, 32, 97, 114, 101, 32, 117, 115, 101, 100, 32, 102, 111, 114, 32, 105, 115, 32, 116, 101, 120, 116, 32, 101, 100, 105, 116, 105, 110, 103, 58, 32, 116, 104, 101, 121, 226, 128, 153, 114, 101, 32, 111, 102, 116, 101, 110, 32, 116, 104, 101, 32, 109, 111, 115, 116, 32, 115, 101, 110, 115, 105, 98, 108, 101, 32, 117, 110, 105, 116, 32, 102, 111, 114, 32, 99, 117, 114, 115, 111, 114, 32, 112, 108, 97, 99, 101, 109, 101, 110, 116, 32, 97, 110, 100, 32, 116, 101, 120, 116, 32, 115, 101, 108, 101, 99, 116, 105, 111, 110, 32, 98, 111, 117, 110, 100, 97, 114, 105, 101, 115, 46, 32, 85, 115, 105, 110, 103, 32, 103, 114, 97, 112, 104, 101, 109, 101, 32, 99, 108, 117, 115, 116, 101, 114, 115, 32, 102, 111, 114, 32, 116, 104, 101, 115, 101, 32, 112, 117, 114, 112, 111, 115, 101, 115, 32, 101, 110, 115, 117, 114, 101, 115, 32, 116, 104, 97, 116, 32, 121, 111, 117, 32, 99, 97, 110, 226, 128, 153, 116, 32, 97, 99, 99, 105, 100, 101, 110, 116, 97, 108, 108, 121, 32, 99, 104, 111, 112, 32, 111, 102, 102, 32, 115, 111, 109, 101, 32, 100, 105, 97, 99, 114, 105, 116, 105, 99, 115, 32, 119, 104, 101, 110, 32, 121, 111, 117, 32, 99, 111, 112, 121, 45, 97, 110, 100, 45, 112, 97, 115, 116, 101, 32, 116, 101, 120, 116, 44, 32, 116, 104, 97, 116, 32, 108, 101, 102, 116, 47, 114, 105, 103, 104, 116, 32, 97, 114, 114, 111, 119, 32, 107, 101, 121, 115, 32, 97, 108, 119, 97, 121, 115, 32, 109, 111, 118, 101, 32, 116, 104, 101, 32, 99, 117, 114, 115, 111, 114, 32, 98, 121, 32, 111, 110, 101, 32, 118, 105, 115, 105, 98, 108, 101, 32, 99, 104, 97, 114, 97, 99, 116, 101, 114, 44, 32, 97, 110, 100, 32, 115, 111, 32, 111, 110, 46, 10, 10, 65, 110, 111, 116, 104, 101, 114, 32, 112, 108, 97, 99, 101, 32, 119, 104, 101, 114, 101, 32, 103, 114, 97, 112, 104, 101, 109, 101, 32, 99, 108, 117, 115, 116, 101, 114, 115, 32, 97, 114, 101, 32, 117, 115, 101, 102, 117, 108, 32, 105, 115, 32, 105, 110, 32, 101, 110, 102, 111, 114, 99, 105, 110, 103, 32, 97, 32, 115, 116, 114, 105, 110, 103, 32, 108, 101, 110, 103, 116, 104, 32, 108, 105, 109, 105, 116, 226, 128, 148, 115, 97, 121, 44, 32, 111, 110, 32, 97, 32, 100, 97, 116, 97, 98, 97, 115, 101, 32, 102, 105, 101, 108, 100, 46, 32, 87, 104, 105, 108, 101, 32, 116, 104, 101, 32, 116, 114, 117, 101, 44, 32, 117, 110, 100, 101, 114, 108, 121, 105, 110, 103, 32, 108, 105, 109, 105, 116, 32, 109, 105, 103, 104, 116, 32, 98, 101, 32, 115, 111, 109, 101, 116, 104, 105, 110, 103, 32, 108, 105, 107, 101, 32, 116, 104, 101, 32, 98, 121, 116, 101, 32, 108, 101, 110, 103, 116, 104, 32, 111, 102, 32, 116, 104, 101, 32, 115, 116, 114, 105, 110, 103, 32, 105, 110, 32, 85, 84, 70, 45, 56, 44, 32, 121, 111, 117, 32, 119, 111, 117, 108, 100, 110, 226, 128, 153, 116, 32, 119, 97, 110, 116, 32, 116, 111, 32, 101, 110, 102, 111, 114, 99, 101, 32, 116, 104, 97, 116, 32, 98, 121, 32, 106, 117, 115, 116, 32, 116, 114, 117, 110, 99, 97, 116, 105, 110, 103, 32, 98, 121, 116, 101, 115, 46, 32, 65, 116, 32, 97, 32, 109, 105, 110, 105, 109, 117, 109, 44, 32, 121, 111, 117, 226, 128, 153, 100, 32, 119, 97, 110, 116, 32, 116, 111, 32, 226, 128, 156, 114, 111, 117, 110, 100, 32, 100, 111, 119, 110, 226, 128, 157, 32, 116, 111, 32, 116, 104, 101, 32, 110, 101, 97, 114, 101, 115, 116, 32, 99, 111, 100, 101, 32, 112, 111, 105, 110, 116, 32, 98, 111, 117, 110, 100, 97, 114, 121, 59, 32, 98, 117, 116, 32, 101, 118, 101, 110, 32, 98, 101, 116, 116, 101, 114, 44, 32, 114, 111, 117, 110, 100, 32, 100, 111, 119, 110, 32, 116, 111, 32, 116, 104, 101, 32, 110, 101, 97, 114, 101, 115, 116, 32, 103, 114, 97, 112, 104, 101, 109, 101, 32, 99, 108, 117, 115, 116, 101, 114, 32, 98, 111, 117, 110, 100, 97, 114, 121, 46, 32, 79, 116, 104, 101, 114, 119, 105, 115, 101, 44, 32, 121, 111, 117, 32, 109, 105, 103, 104, 116, 32, 98, 101, 32, 99, 111, 114, 114, 117, 112, 116, 105, 110, 103, 32, 116, 104, 101, 32, 108, 97, 115, 116, 32, 99, 104, 97, 114, 97, 99, 116, 101, 114, 32, 98, 121, 32, 99, 117, 116, 116, 105, 110, 103, 32, 111, 102, 102, 32, 97, 32, 100, 105, 97, 99, 114, 105, 116, 105, 99, 44, 32, 111, 114, 32, 105, 110, 116, 101, 114, 114, 117, 112, 116, 105, 110, 103, 32, 97, 32, 106, 97, 109, 111, 32, 115, 101, 113, 117, 101, 110, 99, 101, 32, 111, 114, 32, 90, 87, 74, 32, 115, 101, 113, 117, 101, 110, 99, 101, 46, 10, 65, 110, 100, 32, 77, 111, 114, 101, 226, 128, 166, 10, 10, 84, 104, 101, 114, 101, 226, 128, 153, 115, 32, 109, 117, 99, 104, 32, 109, 111, 114, 101, 32, 116, 104, 97, 116, 32, 99, 111, 117, 108, 100, 32, 98, 101, 32, 115, 97, 105, 100, 32, 97, 98, 111, 117, 116, 32, 85, 110, 105, 99, 111, 100, 101, 32, 102, 114, 111, 109, 32, 97, 32, 112, 114, 111, 103, 114, 97, 109, 109, 101, 114, 226, 128, 153, 115, 32, 112, 101, 114, 115, 112, 101, 99, 116, 105, 118, 101, 33, 32, 73, 32, 104, 97, 118, 101, 110, 226, 128, 153, 116, 32, 103, 111, 116, 116, 101, 110, 32, 105, 110, 116, 111, 32, 115, 117, 99, 104, 32, 102, 117, 110, 32, 116, 111, 112, 105, 99, 115, 32, 97, 115, 32, 99, 97, 115, 101, 32, 109, 97, 112, 112, 105, 110, 103, 44, 32, 99, 111, 108, 108, 97, 116, 105, 111, 110, 44, 32, 99, 111, 109, 112, 97, 116, 105, 98, 105, 108, 105, 116, 121, 32, 100, 101, 99, 111, 109, 112, 111, 115, 105, 116, 105, 111, 110, 115, 32, 97, 110, 100, 32, 99, 111, 110, 102, 117, 115, 97, 98, 108, 101, 115, 44, 32, 85, 110, 105, 99, 111, 100, 101, 45, 97, 119, 97, 114, 101, 32, 114, 101, 103, 101, 120, 101, 115, 44, 32, 111, 114, 32, 98, 105, 100, 105, 114, 101, 99, 116, 105, 111, 110, 97, 108, 32, 116, 101, 120, 116, 46, 32, 78, 111, 114, 32, 104, 97, 118, 101, 32, 73, 32, 115, 97, 105, 100, 32, 97, 110, 121, 116, 104, 105, 110, 103, 32, 121, 101, 116, 32, 97, 98, 111, 117, 116, 32, 105, 109, 112, 108, 101, 109, 101, 110, 116, 97, 116, 105, 111, 110, 32, 105, 115, 115, 117, 101, 115, 226, 128, 148, 104, 111, 119, 32, 116, 111, 32, 101, 102, 102, 105, 99, 105, 101, 110, 116, 108, 121, 32, 115, 116, 111, 114, 101, 32, 97, 110, 100, 32, 108, 111, 111, 107, 45, 117, 112, 32, 100, 97, 116, 97, 32, 97, 98, 111, 117, 116, 32, 116, 104, 101, 32, 115, 112, 97, 114, 115, 101, 108, 121, 45, 97, 115, 115, 105, 103, 110, 101, 100, 32, 99, 111, 100, 101, 32, 112, 111, 105, 110, 116, 115, 44, 32, 111, 114, 32, 104, 111, 119, 32, 116, 111, 32, 111, 112, 116, 105, 109, 105, 122, 101, 32, 85, 84, 70, 45, 56, 32, 100, 101, 99, 111, 100, 105, 110, 103, 44, 32, 115, 116, 114, 105, 110, 103, 32, 99, 111, 109, 112, 97, 114, 105, 115, 111, 110, 44, 32, 111, 114, 32, 78, 70, 67, 32, 110, 111, 114, 109, 97, 108, 105, 122, 97, 116, 105, 111, 110, 46, 32, 80, 101, 114, 104, 97, 112, 115, 32, 73, 226, 128, 153, 108, 108, 32, 114, 101, 116, 117, 114, 110, 32, 116, 111, 32, 115, 111, 109, 101, 32, 111, 102, 32, 116, 104, 111, 115, 101, 32, 116, 104, 105, 110, 103, 115, 32, 105, 110, 32, 102, 117, 116, 117, 114, 101, 32, 112, 111, 115, 116, 115, 46, 10, 10, 85, 110, 105, 99, 111, 100, 101, 32, 105, 115, 32, 97, 32, 102, 97, 115, 99, 105, 110, 97, 116, 105, 110, 103, 32, 97, 110, 100, 32, 99, 111, 109, 112, 108, 101, 120, 32, 115, 121, 115, 116, 101, 109, 46, 32, 73, 116, 32, 104, 97, 115, 32, 97, 32, 109, 97, 110, 121, 45, 116, 111, 45, 111, 110, 101, 32, 109, 97, 112, 112, 105, 110, 103, 32, 98, 101, 116, 119, 101, 101, 110, 32, 98, 121, 116, 101, 115, 32, 97, 110, 100, 32, 99, 111, 100, 101, 32, 112, 111, 105, 110, 116, 115, 44, 32, 97, 110, 100, 32, 111, 110, 32, 116, 111, 112, 32, 111, 102, 32, 116, 104, 97, 116, 32, 97, 32, 109, 97, 110, 121, 45, 116, 111, 45, 111, 110, 101, 32, 40, 111, 114, 44, 32, 117, 110, 100, 101, 114, 32, 115, 111, 109, 101, 32, 99, 105, 114, 99, 117, 109, 115, 116, 97, 110, 99, 101, 115, 44, 32, 109, 97, 110, 121, 45, 116, 111, 45, 109, 97, 110, 121, 41, 32, 109, 97, 112, 112, 105, 110, 103, 32, 98, 101, 116, 119, 101, 101, 110, 32, 99, 111, 100, 101, 32, 112, 111, 105, 110, 116, 115, 32, 97, 110, 100, 32, 226, 128, 156, 99, 104, 97, 114, 97, 99, 116, 101, 114, 115, 226, 128, 157, 46, 32, 73, 116, 32, 104, 97, 115, 32, 111, 100, 100, 98, 97, 108, 108, 32, 115, 112, 101, 99, 105, 97, 108, 32, 99, 97, 115, 101, 115, 32, 105, 110, 32, 101, 118, 101, 114, 121, 32, 99, 111, 114, 110, 101, 114, 46, 32, 66, 117, 116, 32, 110, 111, 32, 111, 110, 101, 32, 101, 118, 101, 114, 32, 99, 108, 97, 105, 109, 101, 100, 32, 116, 104, 97, 116, 32, 114, 101, 112, 114, 101, 115, 101, 110, 116, 105, 110, 103, 32, 97, 108, 108, 32, 119, 114, 105, 116, 116, 101, 110, 32, 108, 97, 110, 103, 117, 97, 103, 101, 115, 32, 119, 97, 115, 32, 103, 111, 105, 110, 103, 32, 116, 111, 32, 98, 101, 32, 101, 97, 115, 121, 44, 32, 97, 110, 100, 32, 105, 116, 226, 128, 153, 115, 32, 99, 108, 101, 97, 114, 32, 116, 104, 97, 116, 32, 119, 101, 226, 128, 153, 114, 101, 32, 110, 101, 118, 101, 114, 32, 103, 111, 105, 110, 103, 32, 98, 97, 99, 107, 32, 116, 111, 32, 116, 104, 101, 32, 98, 97, 100, 32, 111, 108, 100, 32, 100, 97, 121, 115, 32, 111, 102, 32, 97, 32, 112, 97, 116, 99, 104, 119, 111, 114, 107, 32, 111, 102, 32, 105, 110, 99, 111, 109, 112, 97, 116, 105, 98, 108, 101, 32, 101, 110, 99, 111, 100, 105, 110, 103, 115, 46, 10, 10, 70, 117, 114, 116, 104, 101, 114, 32, 114, 101, 97, 100, 105, 110, 103, 58, 10, 10, 32, 32, 32, 32, 84, 104, 101, 32, 85, 110, 105, 99, 111, 100, 101, 32, 83, 116, 97, 110, 100, 97, 114, 100, 10, 32, 32, 32, 32, 85, 84, 70, 45, 56, 32, 69, 118, 101, 114, 121, 119, 104, 101, 114, 101, 32, 77, 97, 110, 105, 102, 101, 115, 116, 111, 10, 32, 32, 32, 32, 68, 97, 114, 107, 32, 99, 111, 114, 110, 101, 114, 115, 32, 111, 102, 32, 85, 110, 105, 99, 111, 100, 101, 32, 98, 121, 32, 69, 101, 118, 101, 101, 10, 32, 32, 32, 32, 73, 67, 85, 32, 40, 73, 110, 116, 101, 114, 110, 97, 116, 105, 111, 110, 97, 108, 32, 67, 111, 109, 112, 111, 110, 101, 110, 116, 115, 32, 102, 111, 114, 32, 85, 110, 105, 99, 111, 100, 101, 41, 226, 128, 148, 67, 47, 67, 43, 43, 47, 74, 97, 118, 97, 32, 108, 105, 98, 114, 97, 114, 105, 101, 115, 32, 105, 109, 112, 108, 101, 109, 101, 110, 116, 105, 110, 103, 32, 109, 97, 110, 121, 32, 85, 110, 105, 99, 111, 100, 101, 32, 97, 108, 103, 111, 114, 105, 116, 104, 109, 115, 32, 97, 110, 100, 32, 114, 101, 108, 97, 116, 101, 100, 32, 116, 104, 105, 110, 103, 115, 10, 32, 32, 32, 32, 80, 121, 116, 104, 111, 110, 32, 51, 32, 85, 110, 105, 99, 111, 100, 101, 32, 72, 111, 119, 116, 111, 10, 32, 32, 32, 32, 71, 111, 111, 103, 108, 101, 32, 78, 111, 116, 111, 32, 70, 111, 110, 116, 115, 226, 128, 148, 115, 101, 116, 32, 111, 102, 32, 102, 111, 110, 116, 115, 32, 105, 110, 116, 101, 110, 100, 101, 100, 32, 116, 111, 32, 99, 111, 118, 101, 114, 32, 97, 108, 108, 32, 97, 115, 115, 105, 103, 110, 101, 100, 32, 99, 111, 100, 101, 32, 112, 111, 105, 110, 116, 115, 10, 10]\n",
      "length: 24703\n"
     ]
    }
   ],
   "source": [
    "# from \"A programmers introduction to unicode\"\n",
    "ogtext = rawtext\n",
    "tokens= ogtext.encode(\"utf-8\") # raw bytes\n",
    "#tokens = list(tokens)\n",
    "tokens = list(map(int,tokens)) # convert to a list of integers in range from 0 to 255 -> for convenience\n",
    "print('---')\n",
    "print(ogtext)\n",
    "print('length:', len(ogtext))\n",
    "print()\n",
    "print(tokens)\n",
    "print('length:', len(tokens))\n",
    "og_tokens = list(tokens)\n",
    "# NOTE that the length of tokens is longer in some cases because some special characters take up two byte sequences"
   ]
  },
  {
   "cell_type": "code",
   "execution_count": null,
   "id": "fd259619-3a4d-4b7b-85a9-139d54fad8d5",
   "metadata": {},
   "outputs": [],
   "source": []
  },
  {
   "cell_type": "code",
   "execution_count": 264,
   "id": "50ea5de9-2432-406a-b855-c91afdc5d008",
   "metadata": {},
   "outputs": [],
   "source": [
    "def merge(ids, locs, idx):\n",
    "    iflag = 0\n",
    "    tokout = []\n",
    "    for i in range(len(ids)):\n",
    "        if iflag > 0:\n",
    "            iflag -= 1\n",
    "        else:\n",
    "            if i in locs:\n",
    "                iflag=1\n",
    "                tokout.append(idx)\n",
    "            else:\n",
    "                tokout.append(ids[i])\n",
    "    return tokout"
   ]
  },
  {
   "cell_type": "code",
   "execution_count": 410,
   "id": "8430f656-a946-47dd-85af-d853c23e9060",
   "metadata": {},
   "outputs": [
    {
     "name": "stdout",
     "output_type": "stream",
     "text": [
      "max token value used: 276\n",
      "max tokens at end: 17376\n"
     ]
    }
   ],
   "source": [
    "maxfreq=len(tokens)\n",
    "#maxnum=max(tokens)\n",
    "maxnum=255\n",
    "tokenized_values = {}\n",
    "vocab_size = 276 # limit to just 20 merges\n",
    "\n",
    "while maxfreq > 1 and maxnum < vocab_size:\n",
    "    tokcount={}\n",
    "    tokloc={}\n",
    "    \n",
    "    for i in range(len(tokens)-1):\n",
    "        tokcount[str(tokens[i]) + '_' + str(tokens[i+1])] = tokcount.get(str(tokens[i]) + '_' + str(tokens[i+1]), 0) + 1\n",
    "        tokloc[str(tokens[i]) + '_' + str(tokens[i+1])] = tokloc.get(str(tokens[i]) + '_' + str(tokens[i+1]), []) + [i] \n",
    "    \n",
    "    maxfreq = max(tokcount.values())\n",
    "    if maxfreq==1:\n",
    "        break\n",
    "        \n",
    "    maxnum +=1\n",
    "    tokout=[]\n",
    "    \n",
    "    maxloc = tokloc[max(tokcount, key=tokcount.get)]\n",
    "    new_token = [int(k) for k in max(tokcount, key=tokcount.get).split('_')]\n",
    "    tokenized_values[maxnum] = new_token\n",
    "    #print([chr(int(k)) for k in new_token])\n",
    "    \n",
    "    iflag=0\n",
    "\n",
    "    # totally cool pythonic alternative:\n",
    "    tokout = merge(tokens, maxloc, maxnum)\n",
    "    \n",
    "    \n",
    "    tokens = tokout\n",
    "        \n",
    "            \n",
    "print(\"max token value used:\", max(tokens))\n",
    "print(\"max tokens at end:\", len(tokens))\n"
   ]
  },
  {
   "cell_type": "code",
   "execution_count": 270,
   "id": "0879e909-e1f6-4a2b-b52a-9f4d75a5941a",
   "metadata": {},
   "outputs": [
    {
     "name": "stdout",
     "output_type": "stream",
     "text": [
      "\n",
      "ï¼µï½ï½ï½ï½ï½ï½",
      "! ð",
      "¤ð",
      "ð",
      "ð",
      "ð",
      "ð",
      "ð",
      "ć½ ðºćð³ćð®ćð¨ćð´ćð©ćðª! ð ThĀvĄĐnamĀstrikeĂfeČ ĉċawĀātĔĒheČtĂof programmĄĂwĊldwide. WĀđl know wĀoughĆtĔćsuppĊĆUniďeć ā our softwČĀ(whatevĄ ăaĆmeĉsćlikĀusĎ wchČ_ĆfĊ đl ĒstrĎsĈright?). BuĆUniďĀcĉ bĀabstruseĈĉċdivĎ ātĔĒăousĉd-pagĀUniďĀStĉdČċpluĂitĂdozčĂof supplemčtČĐĉnexesĈrepĊtsĈĉċnoteĂcĉ bĀmĊĀăĉ a littlĀātimidatĎ. I dēćĆblamĀprogrammĄĂfĊ still fādĎ ĒwholĀăĎ mystĄiousĈevč 30 yeČĂaftĄ UniďećĂāceptiē.\n",
      "\n",
      "A few mēăĂagoĈI goĆātĄesteċā UniďĀĉċdecideċtĔspčċsomĀtimĀleČnĎ mĊĀabouĆiĆā detail. In ăiĂČticleĈIćll givĀĉ ātroductiē tĔiĆfrom a programmĄćĂpoāĆof view.\n",
      "\n",
      "Ićm goĎ tĔfocuĂē ĒchČactĄ seĆĉċwhatćĂāvolveċā wĊkĎ wiă strĎĂĉċfileĂof UniďĀtext. HowevĄĈā ăiĂČticlĀIćm noĆgoĎ tĔtđk abouĆfētsĈtexĆlayout/shapĎ/rčdĄĎĈĊ locđizatiē ā detailćăosĀČĀsepČatĀissuesĈbeyēċmĐsąpĀ(ĉċknowledge) hĄe.\n",
      "\n",
      "    DivĄsitĐĉċInhĄčĆComplexity\n",
      "    ThĀUniďĀCodespace\n",
      "        CodespacĀAllocatiē\n",
      "        Scripts\n",
      "        UsagĀFrequčcy\n",
      "    EnďĎs\n",
      "        UTF-8\n",
      "        UTF-16\n",
      "    CombāĎ MČks\n",
      "        Cĉēicđ Equivđčce\n",
      "        NĊmđizatiē FĊms\n",
      "        GraphemĀClustĄs\n",
      "    AnċMĊeć¦\n",
      "\n",
      "DivĄsitĐĉċInhĄčĆComplexity\n",
      "\n",
      "AĂsoē aĂyou stČĆtĔstudĐUniďeĈiĆbeąmeĂcleČ ăaĆiĆrepresčtĂa lČgĀjump ā ąmplexitĐovĄ chČactĄ setĂlikĀASCII ăaĆyou maĐbĀmĊĀfamiliČ wiă. ItćĂnoĆjusĆăaĆUniďĀąntaāĂa much lČgĄ numbĄ of chČactĄsĈđăough ăatćĂpČĆof it. UniďĀđsĔhaĂa greaĆdeđ of ātĄnđ structureĈfeaturesĈĉċspeciđ casesĈmakĎ iĆmuch mĊĀăĉ whaĆēĀmighĆexpecĆa mĄĀćchČactĄ setć tĔbe. Wećll seĀsomĀof ăaĆlatĄ ā ăiĂČticle.\n",
      "\n",
      "Whč ąnfrētĎ đl ăiĂąmplexityĈespeciđlĐaĂĉ čgāeĄĈitćĂhČċnoĆtĔfāċēeself askĎĈćWhĐdĔwĀneeċđl ăis? IĂăiĂređlĐnecessČy? CouldnćĆiĆbĀsimplified?ć\n",
      "\n",
      "HowevĄĈUniďĀaimĂtĔfaiăfullĐrepresčĆĒčtirĀwĊldćĂwritĎ systems. ThĀUniďĀCēsĊtiumćĂstateċgođ iĂćčablĎ peoplĀČounċĒwĊlċtĔusĀąmputĄĂā ĉĐlĉguageć. AnċaĂyou mighĆimagāeĈĒdivĄsitĐof writtč lĉguageĂiĂimmčse! TĔdateĈUniďĀsuppĊtĂ135 diffĄčĆscriptsĈąvĄĎ somĀ1100 lĉguagesĈĉċăĄećĂstill a lēg tail of ovĄ 100 unsuppĊteċscriptsĈboă modĄn ĉċhistĊicđĈwhich peoplĀČĀstill wĊkĎ tĔadd.\n",
      "\n",
      "Givč ăiĂčĊmouĂdivĄsityĈitćĂāevitablĀăaĆrepresčtĎ iĆiĂa ąmplicateċproject. UniďĀembraceĂăaĆdivĄsityĈĉċacceptĂĒąmplexitĐāhĄčĆā itĂmissiē tĔācludĀđl humĉ writĎ systems. IĆdoesnćĆmakĀa loĆof trade-offĂā ĒnamĀof simplificatiēĈĉċiĆmakeĂexceptiēĂtĔitĂown ruleĂwhĄĀnecessČĐtĔfurăĄ itĂmissiē.\n",
      "\n",
      "MĊeovĄĈUniďĀiĂąmmitteċnoĆjusĆtĔsuppĊtĎ textĂā ĉĐsĎlĀlĉguageĈbuĆđsĔtĔlettĎ multiplĀlĉguageĂąexisĆwiăā ēĀtextćwhich ātroduceĂevč mĊĀąmplexity.\n",
      "\n",
      "MosĆprogrammĎ lĉguageĂhavĀlibrČieĂavailablĀtĔhĉdlĀĒgĊĐlow-level detailĂof texĆmĉipulatiēĈbuĆaĂa programmĄĈyoućll still neeċtĔknow abouĆcĄtaā UniďĀfeatureĂā ĊdĄ tĔknow whč ĉċhow tĔapplĐăem. IĆmaĐtakĀsomĀtimĀtĔwrap your heaċČounċiĆđlĈbuĆdēćĆbĀdisąuragedćăāk abouĆĒbilliēĂof peoplĀfĊ whom your softwČĀwill bĀmĊĀaccessiblĀărough suppĊtĎ texĆā ăeir lĉguage. EmbracĀĒąmplexity!\n",
      "ThĀUniďĀCodespace\n",
      "\n",
      "LetćĂstČĆwiă somĀgčĄđ Ċičtatiē. ThĀbasic elemčtĂof UniďećitĂćchČactĄsćĈđăough ăaĆtĄm isnćĆquitĀrightćČĀcđleċďĀpoāts. CodĀpoātĂČĀidčtifieċbĐnumbĄĈcustomČilĐwrittč ā hexadecimđ wiă Ēprefix ćU+ćĈsuch aĂU+0041 ćAć latā capitđ lettĄ a Ċ U+03B8 ćÎ¸ć greek smđl lettĄ ăeta. Each ďĀpoāĆđsĔhaĂa shĊĆnameĈĉċquitĀa few oăĄ propĄtiesĈspecifieċā ĒUniďĀChČactĄ Database.\n",
      "\n",
      "ThĀseĆof đl possiblĀďĀpoātĂiĂcđleċĒďespace. ThĀUniďĀďespacĀąnsistĂof 1,114,112 ďĀpoāts. HowevĄĈēlĐ128,237 of ăemćabouĆ12% of ĒďespacećČĀactuđlĐassignedĈtĔdate. ThĄećĂplčtĐof room fĊ growă! UniďĀđsĔresĄveĂĉ additiēđ 137,468 ďĀpoātĂaĂćprivatĀuseć ČeasĈwhich havĀnĔstĉdČdizeċmeĉĎ ĉċČĀavailablĀfĊ ādividuđ applicatiēĂtĔdefāĀfĊ ăeir own purposes.\n",
      "CodespacĀAllocatiē\n",
      "\n",
      "TĔgeĆa feel fĊ how ĒďespacĀiĂlaiċoutĈitćĂhelpful tĔvisuđizĀit. Below iĂa map of ĒčtirĀďespaceĈwiă ēĀpixel pĄ ďĀpoāt. ItćĂČrĉgeċā tileĂfĊ visuđ ąhĄčce; each smđl squČĀiĂ16Ã16 = 256 ďĀpoātsĈĉċeach lČgĀsquČĀiĂa ćplĉeć of 65,536 ďĀpoāts. ThĄĀČĀ17 plĉeĂđtogeăĄ.\n",
      "\n",
      "Map of ĒUniďĀďespacĀ(click tĔzoom)\n",
      "\n",
      "WhitĀrepresčtĂunassigneċspace. BluĀiĂassigneċďĀpoātsĈgreč iĂprivate-usĀČeasĈĉċĒsmđl reċČea iĂsurrogateĂ(mĊĀabouĆăosĀlatĄ). AĂyou cĉ seeĈĒassigneċďĀpoātĂČĀdistributeċsomewhaĆspČselyĈbuĆąncčtrateċā ĒfirsĆăreĀplĉes.\n",
      "\n",
      "PlĉĀ0 iĂđsĔknown aĂĒćBasic MultilĎuđ PlĉećĈĊ BMP. ThĀBMP ąntaāĂessčtiđlĐđl ĒchČactĄĂneedeċfĊ modĄn texĆā ĉĐscriptĈācludĎ LatāĈCyrillicĈGreekĈHĉ (Chāese)ĈJapĉeseĈKĊeĉĈArabicĈHebrewĈDevĉagČi (Indiĉ)ĈĉċmĉĐmĊe.\n",
      "\n",
      "(In ĒpastĈĒďespacĀwaĂjusĆĒBMP ĉċnĔmĊećUniďĀwaĂĊigāđlĐąnceiveċaĂa straightfĊwČċ16-biĆčďĎĈwiă ēlĐ65,536 ďĀpoāts. IĆwaĂexpĉdeċtĔitĂcurrčĆsizĀā 1996. HowevĄĈĒvasĆmajĊitĐof ďĀpoātĂā modĄn texĆbelēg tĔĒBMP.)\n",
      "\n",
      "PlĉĀ1 ąntaāĂhistĊicđ scriptsĈsuch aĂSumĄiĉ cuneifĊm ĉċEgyptiĉ hiĄoglyphsĈaĂwell aĂemoji ĉċvČiouĂoăĄ symbols. PlĉĀ2 ąntaāĂa lČgĀblock of less-ąmmē ĉċhistĊicđ Hĉ chČactĄs. ThĀremaāĎ plĉeĂČĀemptyĈexcepĆfĊ a smđl numbĄ of rČely-useċfĊmattĎ chČactĄĂā PlĉĀ14; plĉeĂ15ć16 ČĀresĄveċčtirelĐfĊ privatĀuse.\n",
      "Scripts\n",
      "\n",
      "LetćĂzoom ā ē ĒfirsĆăreĀplĉesĈsācĀăatćĂwhĄĀĒactiē is:\n",
      "\n",
      "Map of scriptĂā UniďĀplĉeĂ0ć2 (click tĔzoom)\n",
      "\n",
      "ThiĂmap ąlĊ-ďeĂĒ135 diffĄčĆscriptĂā Uniďe. You cĉ seĀhow Hĉ () ĉċKĊeĉ () takĀup mosĆof ĒrĉgĀof ĒBMP (ĒlefĆlČgĀsquČe). BĐąntrastĈđl of ĒEuropeĉĈMiddlĀEastĄnĈĉċSouă Asiĉ scriptĂfiĆātĔĒfirsĆrow of ĒBMP ā ăiĂdiagram.\n",
      "\n",
      "MĉĐČeaĂof ĒďespacĀČĀadapteċĊ ąpieċfrom eČliĄ čďĎs. FĊ exampleĈĒfirsĆ128 ďĀpoātĂof UniďĀČĀjusĆa ąpĐof ASCII. ThiĂhaĂcleČ bčefitĂfĊ ąmpatibilityćitćĂeasĐtĔlosslesslĐąnvĄĆtextĂfrom smđlĄ čďĎĂātĔUniďĀ(ĉċĒoăĄ directiē tooĈaĂlēg aĂnĔchČactĄĂoutsidĀĒsmđlĄ čďĎ ČĀused).\n",
      "UsagĀFrequčcy\n",
      "\n",
      "OnĀmĊĀātĄestĎ waĐtĔvisuđizĀĒďespacĀiĂtĔlook aĆĒdistributiē of usagećā oăĄ wĊdsĈhow oftč each ďĀpoāĆiĂactuđlĐuseċā ređ-wĊlċtexts. Below iĂa heaĆmap of plĉeĂ0ć2 baseċē a lČgĀsamplĀof texĆfrom Wikipedia ĉċTwittĄ (đl lĉguages). FrequčcĐācreaseĂfrom black (nevĄ seč) ărough reċĉċyellow tĔwhite.\n",
      "\n",
      "HeaĆmap of ďĀpoāĆusagĀfrequčcĐā UniďĀplĉeĂ0ć2 (click tĔzoom)\n",
      "\n",
      "You cĉ seĀăaĆĒvasĆmajĊitĐof ăiĂtexĆsamplĀlieĂā ĒBMPĈwiă ēlĐscattĄeċusagĀof ďĀpoātĂfrom plĉeĂ1ć2. ThĀbiggesĆexceptiē iĂemojiĈwhich show up hĄĀaĂĒsevĄđ brighĆsquČeĂā Ēbottom row of plĉĀ1.\n",
      "EnďĎs\n",
      "\n",
      "WećvĀseč ăaĆUniďĀďĀpoātĂČĀabstractlĐidčtifieċbĐăeir ādex ā ĒďespaceĈrĉgĎ from U+0000 tĔU+10FFFF. BuĆhow dĔďĀpoātĂgeĆrepresčteċaĂbytesĈā memĊĐĊ ā a file?\n",
      "\n",
      "ThĀmosĆąnvčičtĈąmputĄ-fričdliesĆ(ĉċprogrammĄ-fričdliest) ăĎ tĔdĔwoulċbĀtĔjusĆstĊĀĒďĀpoāĆādex aĂa 32-biĆātegĄ. ThiĂwĊksĈbuĆiĆąnsumeĂ4 byteĂpĄ ďĀpoātĈwhich iĂsĊĆof a lot. UsĎ 32-biĆātĂfĊ UniďĀwill ąsĆyou a bunch of extra stĊageĈmemĊyĈĉċpĄfĊmĉcĀā bĉdwidă-bounċscčČiosĈif you wĊk wiă a loĆof text.\n",
      "\n",
      "CēsequčtlyĈăĄĀČĀsevĄđ mĊe-ąmpacĆčďĎĂfĊ Uniďe. ThĀ32-biĆātegĄ čďĎ iĂofficiđlĐcđleċUTF-32 (UTF = ćUniďĀTrĉsfĊmatiē FĊmatć)ĈbuĆitćĂrČelĐuseċfĊ stĊage. AĆmostĈiĆąmeĂup sometimeĂaĂa tempĊČĐātĄnđ represčtatiēĈfĊ examāĎ Ċ opĄatĎ ē ĒďĀpoātĂā a strĎ.\n",
      "\n",
      "Much mĊĀąmmēlyĈyoućll seĀUniďĀtexĆčďeċaĂeiăĄ UTF-8 Ċ UTF-16. ThesĀČĀboă vČiable-lčgă čďĎsĈmadĀup of 8-biĆĊ 16-biĆunitsĈrespectively. In ăesĀschemesĈďĀpoātĂwiă smđlĄ ādex vđueĂtakĀup fewĄ bytesĈwhich saveĂa loĆof memĊĐfĊ typicđ texts. ThĀtrade-off iĂăaĆprocessĎ UTF-8/16 textĂiĂmĊĀprogrammaticđlĐāvolvedĈĉċlikelĐslowĄ.\n",
      "UTF-8\n",
      "\n",
      "In UTF-8Ĉeach ďĀpoāĆiĂstĊeċusĎ 1 tĔ4 bytesĈbaseċē itĂādex vđue.\n",
      "\n",
      "UTF-8 useĂa system of bāČĐprefixesĈā which Ēhigh bitĂof each bytĀmČk wheăĄ itćĂa sĎlĀbyteĈĒbegānĎ of a multi-bytĀsequčceĈĊ a ąntāuatiē byte; ĒremaāĎ bitsĈąncatčatedĈgivĀĒďĀpoāĆādex. ThiĂtablĀshowĂhow iĆwĊks:\n",
      "UTF-8 (bāČy) \tCodĀpoāĆ(bāČy) \tRĉge\n",
      "0xxxxxxx \txxxxxxx \tU+0000ćU+007F\n",
      "110xxxxx 10yyyyyĐ\txxxxxyyyyyĐ\tU+0080ćU+07FF\n",
      "1110xxxx 10yyyyyĐ10zzzzzz \txxxxyyyyyyzzzzzz \tU+0800ćU+FFFF\n",
      "11110xxx 10yyyyyĐ10zzzzzz 10wwwwww \txxxyyyyyyzzzzzzwwwwww \tU+10000ćU+10FFFF\n",
      "\n",
      "A hĉdĐpropĄtĐof UTF-8 iĂăaĆďĀpoātĂbelow 128 (ASCII chČactĄs) ČĀčďeċaĂsĎlĀbytesĈĉċđl nē-ASCII ďĀpoātĂČĀčďeċusĎ sequčceĂof byteĂ128ć255. ThiĂhaĂa ąuplĀof nicĀąnsequčces. FirstĈĉĐstrĎĂĊ fileĂouĆăĄĀăaĆČĀđreadĐā ASCII cĉ đsĔbĀātĄpreteċaĂUTF-8 wiăouĆĉĐąnvĄsiē. SeąndĈlotĂof widely-useċstrĎ programmĎ idiomsćsuch aĂnull tĄmāatiēĈĊ delimitĄĂ(newlāesĈtabsĈąmmasĈslashesĈetc.)ćwill jusĆwĊk ē UTF-8 strĎs. ASCII byteĂnevĄ occur āsidĀĒčďĎ of nē-ASCII ďĀpoātsĈsĔseČchĎ byte-wisĀfĊ a null tĄmāatĊ Ċ a delimitĄ will dĔĒrighĆăĎ.\n",
      "\n",
      "ThĉkĂtĔăiĂąnvčičceĈitćĂrelativelĐsimplĀtĔextčċlegacĐASCII programĂĉċAPIĂtĔhĉdlĀUTF-8 strĎs. UTF-8 iĂvĄĐwidelĐuseċā ĒUnix/Lāux ĉċWeb wĊldsĈĉċmĉĐprogrammĄĂČguĀUTF-8 shoulċbĀĒdefaulĆčďĎ evĄywhĄe.\n",
      "\n",
      "HowevĄĈUTF-8 isnćĆa drop-ā replacemčĆfĊ ASCII strĎĂā đl respects. FĊ āstĉceĈďĀăaĆitĄateĂovĄ ĒćchČactĄsć ā a strĎ will neeċtĔdeďĀUTF-8 ĉċitĄatĀovĄ ďĀpoātĂ(Ċ maybĀgraphemĀclustĄsćmĊĀabouĆăosĀlatĄ)ĈnoĆbytes. Whč you measurĀĒćlčgăć of a strĎĈyoućll neeċtĔăāk abouĆwheăĄ you wĉĆĒlčgă ā bytesĈĒlčgă ā ďĀpoātsĈĒwidă of ĒtexĆwhč rčdĄedĈĊ someăĎ else.\n",
      "UTF-16\n",
      "\n",
      "ThĀoăĄ čďĎ ăaĆyoućrĀlikelĐtĔčąuntĄ iĂUTF-16. IĆuseĂ16-biĆwĊdsĈwiă each ďĀpoāĆstĊeċaĂeiăĄ 1 Ċ 2 wĊds.\n",
      "\n",
      "LikĀUTF-8ĈwĀcĉ expresĂĒUTF-16 čďĎ ruleĂā ĒfĊm of bāČĐprefixes:\n",
      "UTF-16 (bāČy) \tCodĀpoāĆ(bāČy) \tRĉge\n",
      "xxxxxxxxxxxxxxxx \txxxxxxxxxxxxxxxx \tU+0000ćU+FFFF\n",
      "110110xxxxxxxxxx 110111yyyyyyyyyĐ\txxxxxxxxxxyyyyyyyyyĐ+ 0x10000 \tU+10000ćU+10FFFF\n",
      "\n",
      "A mĊĀąmmē waĐăaĆpeoplĀtđk abouĆUTF-16 čďĎĈăoughĈiĂā tĄmĂof ďĀpoātĂcđleċćsurrogatesć. All ĒďĀpoātĂā ĒrĉgĀU+D800ćU+DFFFćĊ ā oăĄ wĊdsĈĒďĀpoātĂăaĆmatch ĒbāČĐprefixeĂ110110 ĉċ110111 ā ĒtablĀabovećČĀresĄveċspecificđlĐfĊ UTF-16 čďĎĈĉċdēćĆrepresčĆĉĐvđiċchČactĄĂē ăeir own. TheyćrĀēlĐmeĉĆtĔoccur ā Ē2-wĊċčďĎ pattĄn aboveĈwhich iĂcđleċa ćsurrogatĀpairć. SurrogatĀďĀpoātĂČĀillegđ ā ĉĐoăĄ ąntext! TheyćrĀnoĆđloweċā UTF-8 Ċ UTF-32 aĆđl.\n",
      "\n",
      "HistĊicđlyĈUTF-16 iĂa descčdĉĆof ĒĊigāđĈpre-1996 vĄsiēĂof UniďeĈā which ăĄĀwĄĀēlĐ65,536 ďĀpoāts. ThĀĊigāđ ātčtiē waĂăaĆăĄĀwoulċbĀnĔdiffĄčĆćčďĎsć; UniďĀwaĂsupposeċtĔbĀa straightfĊwČċ16-biĆchČactĄ set. LatĄĈĒďespacĀwaĂexpĉdeċtĔmakĀroom fĊ a lēg tail of less-ąmmē (buĆstill impĊtĉt) Hĉ chČactĄsĈwhich ĒUniďĀdesignĄĂdidnćĆĊigāđlĐplĉ fĊ. SurrogateĂwĄĀăč ātroducedĈasćtĔpuĆiĆbluntlyća kludgeĈđlowĎ 16-biĆčďĎĂtĔaccesĂĒnew ďĀpoāts.\n",
      "\n",
      "TodayĈJavascripĆuseĂUTF-16 aĂitĂstĉdČċstrĎ represčtatiē: if you ask fĊ Ēlčgă of a strĎĈĊ itĄatĀovĄ itĈetc.ĈĒresulĆwill bĀā UTF-16 wĊdsĈwiă ĉĐďĀpoātĂoutsidĀĒBMP expresseċaĂsurrogatĀpairs. UTF-16 iĂđsĔuseċbĐĒMicrosofĆWā32 APIs; ăough Wā32 suppĊtĂeiăĄ 8-biĆĊ 16-biĆstrĎsĈĒ8-biĆvĄsiē unacąuntablĐstill doesnćĆsuppĊĆUTF-8ćēlĐlegacĐďe-pagĀčďĎsĈlikĀANSI. ThiĂleaveĂUTF-16 aĂĒēlĐwaĐtĔgeĆpropĄ UniďĀsuppĊĆā Wādows. (Update: ā Wā10 vĄsiē 1903ĈăeĐfāđlĐaddeċUTF-8 suppĊĆtĔĒ8-biĆAPIs! ð)\n",
      "\n",
      "BĐĒwayĈUTF-16ćĂwĊdĂcĉ bĀstĊeċeiăĄ little-čdiĉ Ċ big-čdiĉ. UniďĀhaĂnĔopāiē ē ăaĆissueĈăough iĆdoeĂčąuragĀĒąnvčtiē of puttĎ U+FEFF zĄĔwidă no-break spacĀaĆĒtop of a UTF-16 filĀaĂa byte-ĊdĄ mČkĈtĔdisambiguatĀĒčdiĉness. (If ĒfilĀdoesnćĆmatch ĒsystemćĂčdiĉnessĈĒBOM will bĀdeďeċaĂU+FFFEĈwhich isnćĆa vđiċďĀpoāt.)\n",
      "CombāĎ MČks\n",
      "\n",
      "In ĒstĊĐsĔfČĈwećvĀbeč focusĎ ē ďĀpoāts. BuĆā UniďeĈa ćchČactĄć cĉ bĀmĊĀąmplicateċăĉ jusĆĉ ādividuđ ďĀpoāt!\n",
      "\n",
      "UniďĀācludeĂa system fĊ dynamicđlĐąmposĎ chČactĄsĈbĐąmbāĎ multiplĀďĀpoātĂtogeăĄ. ThiĂiĂuseċā vČiouĂwayĂtĔgaā flexibilitĐwiăouĆcausĎ a hugĀąmbāatĊiđ explosiē ā ĒnumbĄ of ďĀpoāts.\n",
      "\n",
      "In Europeĉ lĉguagesĈfĊ exampleĈăiĂshowĂup ā Ēapplicatiē of diacriticĂtĔlettĄs. UniďĀsuppĊtĂa widĀrĉgĀof diacriticsĈācludĎ acutĀĉċgravĀaccčtsĈumlautsĈcedillasĈĉċmĉĐmĊe. All ăesĀdiacriticĂcĉ bĀapplieċtĔĉĐlettĄ of ĉĐđphabetćĉċā factĈmultiplĀdiacriticĂcĉ bĀuseċē a sĎlĀlettĄ.\n",
      "\n",
      "If UniďĀtrieċtĔassign a distācĆďĀpoāĆtĔevĄĐpossiblĀąmbāatiē of lettĄ ĉċdiacriticsĈăĎĂwoulċrapidlĐgeĆouĆof hĉd. InsteadĈĒdynamic ąmpositiē system čableĂyou tĔąnstrucĆĒchČactĄ you wĉtĈbĐstČtĎ wiă a basĀďĀpoāĆ(ĒlettĄ) ĉċappčdĎ additiēđ ďĀpoātsĈcđleċćąmbāĎ mČksćĈtĔspecifĐĒdiacritics. Whč a texĆrčdĄĄ seeĂa sequčcĀlikĀăiĂā a strĎĈiĆautomaticđlĐstackĂĒdiacriticĂovĄ Ċ undĄ ĒbasĀlettĄ tĔcreatĀa ąmposeċchČactĄ.\n",
      "\n",
      "FĊ exampleĈĒaccčteċchČactĄ ćÃć cĉ bĀexpresseċaĂa strĎ of twĔďĀpoāts: U+0041 ćAć latā capitđ lettĄ a pluĂU+0301 ćâÌć ąmbāĎ acutĀaccčt. ThiĂstrĎ automaticđlĐgetĂrčdĄeċaĂa sĎlĀchČactĄ: ćAÌć.\n",
      "\n",
      "NowĈUniďĀdoeĂđsĔācludĀmĉĐćpreąmposedć ďĀpoātsĈeach represčtĎ a lettĄ wiă somĀąmbāatiē of diacriticĂđreadĐappliedĈsuch aĂU+00C1 ćÃć latā capitđ lettĄ a wiă acutĀĊ U+1EC7 ćá»ć latā smđl lettĄ Āwiă circumflex ĉċdoĆbelow. I suspecĆăesĀČĀmostlĐāhĄiteċfrom oldĄ čďĎĂăaĆwĄĀassimilateċātĔUniďeĈĉċkepĆČounċfĊ ąmpatibility. In practiceĈăĄĀČĀpreąmposeċďĀpoātĂfĊ mosĆof Ēąmmē lettĄ-wiă-diacritic ąmbāatiēĂā Europeĉ-scripĆlĉguagesĈsĔăeĐdēćĆusĀdynamic ąmpositiē ăaĆmuch ā typicđ text.\n",
      "\n",
      "StillĈĒsystem of ąmbāĎ mČkĂdoeĂđlow fĊ ĉ ČbitrČĐnumbĄ of diacriticĂtĔbĀstackeċē ĉĐbasĀchČactĄ. ThĀreductio-ad-absurdum of ăiĂiĂZđgĔtextĈwhich wĊkĂbĐÍÍ",
      "ÍrÍĉÌ­Ì«Ì ÌÍÌdÍÌ»Ì¹oÍmÌªÍÍÌÌlÌ§ÍÌ°ÍÌ³Ì«yÍÍÌ¥ÌÍ ÌsÌ«tÍÌ«Ì±ÍÌÌ°Ì¼ÌaÍÌ¼Ì©ÍÍÌ ÍÌ£cÌÍkÍÌÌ±Ì¹ÍiÌ¢nÌ¨ÌºÌÍÍÌÍgÌ§Ì«Ì®ÍÍ",
      "Ì»Ì ÌnÍÌ¼ÌºÍuÌ®ÍmÍÌºÌ­ÌÌeÌÍÌ°Ì¤ÍÌ«rÌµoÌuÌ­sÒÌªÍÌ­Ì¬ÌÌ¤ Í Ì®ÍÌÌÌÌdÌ´ÌÌÌ±ÍÍiÍ¡ÍÌ«Ì¼Ì¯Ì­ÌaÌ¥ÍÌ»Ì¼cÌ²Ì²Ì¹rÌ¨Ì Ì¹Ì£Ì°Ì¦iÌ±tÌÌ¤Ì»Ì¤ÍÍÌiÌµÌÌ­Ì¤Ì±ÍcÌµĂÍoÍ¢Ì±Ì²ÍÌÍÍÌ²nÍ ÌÍeÌ¬Ì²Ì Ì©acÍÌºÌ ÍhÌ·Ìª ÌºÌ£ÍÌ±lÌ±Ì«Ì¬ÌÌ¹eÌ­ÌÌºÍÌ­ÍÌ²tÌÌÍÌ²ÍÍtÌ·ÍÌªÍÌ²Ì»Ì ÍeÌ¦Ì»ÍÍÍrÍÌ­Ì­Ì¬Í,ÍÌ ÌÍÍÌ£Ì­sÌÌÍoÌ±Ì°Í",
      "Ì¤Ì² ÌÌ¬ÌÌtÌ¼Ì¦ÍÌ±Ì¹ÍÌ¥hÍÌ³Ì²ÍÍ",
      "aÌ¦tÌ»Ì² Ì»ÌÌ­Ì¦ÌtÌÌ°Ì©hÌ ÍÌ³ÌÌ«ÍeÍÍÌ¤ÌÍÌyÒÌÍ Ì·ÍÍÌ°Ì oÌÌ°vÍÍÍÌ³ÌĄÌ¶fÌ°ÍÍlÌ±ÍÌÌ«ÌºÌ²oÍ Ì²Í",
      "Ì­ÍwÌ±Ì³Ìº ÍtÌ¸hÍÌ­ÍÌ³ÍeÌÌ¯ÌÌ  ÍÍÌÌÍÌ©ÌªlÌ§ÍÌªÌ²ÍiÌÌ²Ì¹ÌÌ©Ì¹nÌ¨Ì¦Ì©ÌeÍ¢Ì­Ì¼Í",
      "Ì²Ì¼ ÍÌ¬sÍÌ¼ÍÌÌpÍÌÌ»aÌcÒÍÌÌ¤ÍÌ¯ÌiÍ¡Ì¥nÍÌ¦Ì Ì±gÌ¸Í",
      "ÌÌ»Ì¦Ì­Ì®Ì ÌÌ³ÌªÌ ÍÌ³Ì¯aÍÌ«nÍdÍ¡ Ì£Ì¦Í",
      "ÌcÌªÌrÌ´ÍÌ®Ì¦Ì¹Ì³eÍÍÍÌÍÌ¹Ì«aÌÌºÌtÌ¦ÍÍÍ",
      "ÌÌ¹eÌ¥Ì©Í aÍÌªÌÌ®ÍÌ¹nÌ¢ÍÌ ÍÍÍÍÌ¦Ì¼aÌ³ÍÌªÌ¤Ì±pÍ ÌÍÍÌÍÍpÌ±ÍÌºeÌ¨Ì²ÍÍÌ°Ì²Ì¤Ì«aÍÌ¯rÌ¨Ì®Ì«Ì£ÌaÌ©Ì¯ÍnÌ¹Ì¦Ì°ÍÌ£ÌÌcÌ¨Ì¦Ì±ÍÍÍÍeÍÌ¬Í Ì¤Ì°Ì©ÍÌ¤Ì¬ÍoÌµÌ¼Ì»Ì¬Ì»ÍÌ®ÌªfÌ´ Ì¡ÌÌ­ÍÍÌªÌ¤ćÌ¸ÍÌ Ì¼cÍÌ³ÌoÍÌ¼ÍÍÌ®rÌÌ«ÌºÌÌ¥Ì¬ruÌºÌ»Ì¯ÍÌ­Ì»Ì¯pÍ¢Ì°Ì¥ÍÌ£Ì«ÌÌ¤tÍ",
      "Ì³ÍÌ³ÌiÌ¶ÍÌÍÌ¼ÌÌ¹oÌ¡ÍnÍÍ",
      "ÌÌºÌ¹ÌÌ©ćÌ¨ÌÍÍÌ©.Ì¯Í\n",
      "\n",
      "A few oăĄ placeĂwhĄĀdynamic chČactĄ ąmpositiē showĂup ā Uniďe:\n",
      "\n",
      "    Vowel-poātĎ notatiē ā Arabic ĉċHebrew. In ăesĀlĉguagesĈwĊdĂČĀnĊmđlĐspelleċwiă somĀof ăeir vowelĂlefĆout. TheĐăč havĀdiacritic notatiē tĔādicatĀĒvowelĂ(useċā dictiēČiesĈlĉguage-teachĎ matĄiđsĈchildrčćĂbooksĈĉċsuch). ThesĀdiacriticĂČĀexpresseċwiă ąmbāĎ mČks.\n",
      "    A Hebrew exampleĈwiă niqqud:\t×Ö¶×ª ×Ö·×Ö°×ªÖ´Ö¼× ×Öµ×Ö´×× ×Öµ× Ö´××¢Ö·Ĉ×§Ö¶×Ö¶× ×Ö´×©Ö°××Ö·Ö¼×ªÖ´Ö¼× ×Ö¸×©××Ö¹×\n",
      "    NĊmđ writĎ (nĔniqqud):\t××ª ×××ª× ×××× ×× ××¢Ĉ×§×× ××©××ª× ××©××\n",
      "\n",
      "    DevĉagČiĈĒscripĆuseċtĔwritĀHādiĈSĉskritĈĉċmĉĐoăĄ Souă Asiĉ lĉguagesĈexpresseĂcĄtaā vowelĂaĂąmbāĎ mČkĂattacheċtĔąnsēĉĆlettĄs. FĊ exampleĈćà¤¹ć + ććà¤¿ć = ćà¤¹à¤¿ć (ćhć + ćić = ćhić).\n",
      "\n",
      "    KĊeĉ chČactĄĂstĉċfĊ syllablesĈbuĆăeĐČĀąmposeċof lettĄĂcđleċjamĔăaĆstĉċfĊ ĒvowelĂĉċąnsēĉtĂā Ēsyllable. WhilĀăĄĀČĀďĀpoātĂfĊ preąmposeċKĊeĉ syllablesĈitćĂđsĔpossiblĀtĔdynamicđlĐąmposĀăem bĐąncatčatĎ ăeir jamo. FĊ exampleĈćáć + ćá",
      "¡ć + ćá«ć = ćáá",
      "¡á«ć (ćhć + ćać + ćnć = ćhĉć).\n",
      "\n",
      "Cĉēicđ Equivđčce\n",
      "\n",
      "In UniďeĈpreąmposeċchČactĄĂexisĆđēgsidĀĒdynamic ąmpositiē system. A ąnsequčcĀof ăiĂiĂăaĆăĄĀČĀmultiplĀwayĂtĔexpresĂćĒsameć strĎćdiffĄčĆsequčceĂof ďĀpoātĂăaĆresulĆā ĒsamĀusĄ-pĄceiveċchČactĄs. FĊ exampleĈaĂwĀsaw eČliĄĈwĀcĉ expresĂĒchČactĄ ćÃć eiăĄ aĂĒsĎlĀďĀpoāĆU+00C1ĈĊ aĂĒstrĎ of twĔďĀpoātĂU+0041 U+0301.\n",
      "\n",
      "AnoăĄ sourcĀof ambiguitĐiĂĒĊdĄĎ of multiplĀdiacriticĂā a sĎlĀchČactĄ. Diacritic ĊdĄ mattĄĂvisuđlĐwhč twĔdiacriticĂapplĐtĔĒsamĀsidĀof ĒbasĀchČactĄĈe.g. boă above: ćÇ¡ć (dotĈăč macrē) iĂdiffĄčĆfrom ćÄÌć (macrēĈăč dot). HowevĄĈwhč diacriticĂapplĐtĔdiffĄčĆsideĂof ĒchČactĄĈe.g. ēĀabovĀĉċēĀbelowĈăč ĒĊdĄ doesnćĆaffecĆrčdĄĎ. MĊeovĄĈa chČactĄ wiă multiplĀdiacriticĂmighĆhavĀēĀof ĒdiacriticĂpreąmposeċĉċoăĄĂexpresseċaĂąmbāĎ mČks.\n",
      "\n",
      "FĊ exampleĈĒVietnamesĀlettĄ ćá»ć cĉ bĀexpresseċā fivĀdiffĄčĆways:\n",
      "\n",
      "    FullĐpreąmposed: U+1EC7 ćá»ć\n",
      "    PČtiđlĐpreąmposed: U+1EB9 ćáº¹ć + U+0302 ćâÌć\n",
      "    PČtiđlĐpreąmposed: U+00EA ćÃªć + U+0323 ćâÌ£ć\n",
      "    FullĐdeąmposed: U+0065 ćeć + U+0323 ćâÌ£ć + U+0302 ćâÌć\n",
      "    FullĐdeąmposed: U+0065 ćeć + U+0302 ćâÌć + U+0323 ćâÌ£ć\n",
      "\n",
      "UniďĀrefĄĂtĔseĆof strĎĂlikĀăiĂaĂćcĉēicđlĐequivđčtć. CĉēicđlĐequivđčĆstrĎĂČĀsupposeċtĔbĀtreateċaĂidčticđ fĊ purposeĂof seČchĎĈsĊtĎĈrčdĄĎĈtexĆselectiēĈĉċsĔē. ThiĂhaĂimplicatiēĂfĊ how you implemčĆopĄatiēĂē text. FĊ exampleĈif ĉ app haĂa ćfāċā fileć opĄatiē ĉċĒusĄ seČcheĂfĊ ćá»ćĈiĆshouldĈbĐdefaultĈfāċoccurrčceĂof ĉĐof ĒfivĀvĄsiēĂof ćá»ć above!\n",
      "NĊmđizatiē FĊms\n",
      "\n",
      "TĔaddresĂĒproblem of ćhow tĔhĉdlĀcĉēicđlĐequivđčĆstrĎsćĈUniďĀdefāeĂsevĄđ nĊmđizatiē fĊms: wayĂof ąnvĄtĎ strĎĂātĔa cĉēicđ fĊm sĔăaĆăeĐcĉ bĀąmpČeċďe-poāt-by-ďe-poāĆ(Ċ byte-by-byte).\n",
      "\n",
      "ThĀćNFDć nĊmđizatiē fĊm fullĐdeąmposeĂevĄĐchČactĄ down tĔitĂąmpēčĆbasĀĉċąmbāĎ mČksĈtakĎ apČĆĉĐpreąmposeċďĀpoātĂā ĒstrĎ. IĆđsĔsĊtĂĒąmbāĎ mČkĂā each chČactĄ acąrdĎ tĔăeir rčdĄeċpositiēĈsĔe.g. diacriticĂăaĆgĔbelow ĒchČactĄ ąmĀbefĊĀĒēeĂăaĆgĔabovĀĒchČactĄ. (IĆdoesnćĆreĊdĄ diacriticĂā ĒsamĀrčdĄeċpositiēĈsācĀăeir ĊdĄ mattĄĂvisuđlyĈaĂpreviouslĐmčtiēed.)\n",
      "\n",
      "ThĀćNFCć fĊmĈąnvĄselyĈputĂăĎĂback togeăĄ ātĔpreąmposeċďĀpoātĂaĂmuch aĂpossible. If ĉ unusuđ ąmbāatiē of diacriticĂiĂcđleċfĊĈăĄĀmaĐnoĆbĀĉĐpreąmposeċďĀpoāĆfĊ itĈā which casĀNFC still preąmposeĂwhaĆiĆcĉ ĉċleaveĂĉĐremaāĎ ąmbāĎ mČkĂā placĀ(agaā ĊdĄeċbĐrčdĄeċpositiēĈaĂā NFD).\n",
      "\n",
      "ThĄĀČĀđsĔfĊmĂcđleċNFKD ĉċNFKC. ThĀćKć hĄĀrefĄĂtĔąmpatibilitĐdeąmpositiēsĈwhich ąvĄ chČactĄĂăaĆČĀćsimilČć ā somĀsčsĀbuĆnoĆvisuđlĐidčticđ. HowevĄĈIćm noĆgoĎ tĔąvĄ ăaĆhĄe.\n",
      "GraphemĀClustĄs\n",
      "\n",
      "AĂwećvĀsečĈUniďĀąntaāĂvČiouĂcaseĂwhĄĀa ăĎ ăaĆa usĄ ăākĂof aĂa sĎlĀćchČactĄć mighĆactuđlĐbĀmadĀup of multiplĀďĀpoātĂundĄ Ēhood. UniďĀfĊmđizeĂăiĂusĎ Ēnotiē of a graphemĀclustĄ: a strĎ of ēĀĊ mĊĀďĀpoātĂăaĆąnstitutĀa sĎlĀćusĄ-pĄceiveċchČactĄć.\n",
      "\n",
      "UAX #29 defāeĂĒruleĂfĊ whatĈpreciselyĈquđifieĂaĂa graphemĀclustĄ. ItćĂapproximatelĐća basĀďĀpoāĆfolloweċbĐĉĐnumbĄ of ąmbāĎ mČksćĈbuĆĒactuđ defāitiē iĂa biĆmĊĀąmplicated; iĆacąuntĂfĊ ăĎĂlikĀKĊeĉ jamoĈĉċemoji ZWJ sequčces.\n",
      "\n",
      "ThĀmaā ăĎ graphemĀclustĄĂČĀuseċfĊ iĂtexĆeditĎ: ăeyćrĀoftč ĒmosĆsčsiblĀuniĆfĊ cursĊ placemčĆĉċtexĆselectiē boundČies. UsĎ graphemĀclustĄĂfĊ ăesĀpurposeĂčsureĂăaĆyou cĉćĆaccidčtđlĐchop off somĀdiacriticĂwhč you ąpy-ĉd-pastĀtextĈăaĆleft/righĆČrow keyĂđwayĂmovĀĒcursĊ bĐēĀvisiblĀchČactĄĈĉċsĔē.\n",
      "\n",
      "AnoăĄ placĀwhĄĀgraphemĀclustĄĂČĀuseful iĂā čfĊcĎ a strĎ lčgă limitćsayĈē a databasĀfield. WhilĀĒtrueĈundĄlyĎ limiĆmighĆbĀsomeăĎ likĀĒbytĀlčgă of ĒstrĎ ā UTF-8Ĉyou wouldnćĆwĉĆtĔčfĊcĀăaĆbĐjusĆtruncatĎ bytes. AĆa māimumĈyoućċwĉĆtĔćrounċdownć tĔĒneČesĆďĀpoāĆboundČy; buĆevč bettĄĈrounċdown tĔĒneČesĆgraphemĀclustĄ boundČy. OăĄwiseĈyou mighĆbĀąrruptĎ ĒlasĆchČactĄ bĐcuttĎ off a diacriticĈĊ ātĄruptĎ a jamĔsequčcĀĊ ZWJ sequčce.\n",
      "AnċMĊeć¦\n",
      "\n",
      "ThĄećĂmuch mĊĀăaĆąulċbĀsaiċabouĆUniďĀfrom a programmĄćĂpĄspective! I havčćĆgottč ātĔsuch fun topicĂaĂcasĀmappĎĈąllatiēĈąmpatibilitĐdeąmpositiēĂĉċąnfusablesĈUniďe-awČĀregexesĈĊ bidirectiēđ text. NĊ havĀI saiċĉyăĎ yeĆabouĆimplemčtatiē issuesćhow tĔefficičtlĐstĊĀĉċlook-up data abouĆĒspČsely-assigneċďĀpoātsĈĊ how tĔoptimizĀUTF-8 deďĎĈstrĎ ąmpČisēĈĊ NFC nĊmđizatiē. PĄhapĂIćll return tĔsomĀof ăosĀăĎĂā futurĀposts.\n",
      "\n",
      "UniďĀiĂa fascāatĎ ĉċąmplex system. IĆhaĂa mĉy-to-ēĀmappĎ betweč byteĂĉċďĀpoātsĈĉċē top of ăaĆa mĉy-to-ēĀ(ĊĈundĄ somĀcircumstĉcesĈmĉy-to-mĉy) mappĎ betweč ďĀpoātĂĉċćchČactĄsć. IĆhaĂoddbđl speciđ caseĂā evĄĐąrnĄ. BuĆnĔēĀevĄ claimeċăaĆrepresčtĎ đl writtč lĉguageĂwaĂgoĎ tĔbĀeasyĈĉċitćĂcleČ ăaĆwećrĀnevĄ goĎ back tĔĒbaċolċdayĂof a patchwĊk of āąmpatiblĀčďĎs.\n",
      "\n",
      "FurăĄ readĎ:\n",
      "\n",
      "    ThĀUniďĀStĉdČd\n",
      "    UTF-8 EvĄywhĄĀMĉifesto\n",
      "    DČk ąrnĄĂof UniďĀbĐEevee\n",
      "    ICU (IntĄnatiēđ CompēčtĂfĊ Uniďe)ćC/C++/Java librČieĂimplemčtĎ mĉĐUniďĀđgĊiămĂĉċrelateċăĎs\n",
      "    Pyăē 3 UniďĀHowto\n",
      "    GooglĀNotĔFētsćseĆof fētĂātčdeċtĔąvĄ đl assigneċďĀpoāts\n",
      "\n",
      "\n"
     ]
    }
   ],
   "source": [
    "print(''.join([chr(int(k)) for k in tokens]))"
   ]
  },
  {
   "cell_type": "code",
   "execution_count": 272,
   "id": "8788c104-da6a-4971-b4b5-7955e3e00453",
   "metadata": {},
   "outputs": [
    {
     "data": {
      "text/plain": [
       "{256: [101, 32],\n",
       " 257: [105, 110],\n",
       " 258: [115, 32],\n",
       " 259: [116, 104],\n",
       " 260: [101, 114],\n",
       " 261: [99, 111],\n",
       " 262: [116, 32],\n",
       " 263: [226, 128],\n",
       " 264: [44, 32],\n",
       " 265: [97, 110],\n",
       " 266: [111, 114],\n",
       " 267: [100, 32],\n",
       " 268: [97, 114],\n",
       " 269: [101, 110],\n",
       " 270: [257, 103],\n",
       " 271: [261, 100],\n",
       " 272: [121, 32],\n",
       " 273: [97, 108],\n",
       " 274: [259, 256],\n",
       " 275: [111, 110],\n",
       " 276: [111, 32]}"
      ]
     },
     "execution_count": 272,
     "metadata": {},
     "output_type": "execute_result"
    }
   ],
   "source": [
    "tokenized_values"
   ]
  },
  {
   "cell_type": "code",
   "execution_count": 274,
   "id": "0fe3b399-05d5-4dae-8905-9ede783073d0",
   "metadata": {},
   "outputs": [
    {
     "name": "stdout",
     "output_type": "stream",
     "text": [
      "tokens length: 24703\n",
      "ids length: 19453\n",
      "compression ratio: 1.27X\n"
     ]
    }
   ],
   "source": [
    "print(\"tokens length:\", len(og_tokens))\n",
    "print(\"ids length:\", len(tokens))\n",
    "print(f\"compression ratio: {len(og_tokens)/len(tokens):.2f}X\")"
   ]
  },
  {
   "cell_type": "code",
   "execution_count": null,
   "id": "0332ce3f-7e35-4eb0-9fc9-53c9cd098b35",
   "metadata": {},
   "outputs": [],
   "source": [
    "# NOTE that the tokenizer is a completely separate module from the LLM - it has its own training set of text (which could be diff from the LLM text)\n",
    "# and then it translates back and forth between raw text and token sqeuences\n",
    "# the llm later only ever sees the tokens and never directly deals with any text"
   ]
  },
  {
   "cell_type": "code",
   "execution_count": 258,
   "id": "348178db-06ad-49c4-b9c2-d66fefc968f4",
   "metadata": {},
   "outputs": [],
   "source": [
    "# now how do we do the encoding and decoding step:\n",
    "# note that the amount of diff training text in the tokenizer set informs the density of the token space (via merging)\n",
    "# ex - if you have a lot of japanese text, you'll get more japanese text merges and shorter sequences, therefore better performance on japanese text"
   ]
  },
  {
   "cell_type": "code",
   "execution_count": 414,
   "id": "df14131a-a00d-44cf-967f-7e89f5e67ad4",
   "metadata": {},
   "outputs": [
    {
     "name": "stdout",
     "output_type": "stream",
     "text": [
      "merging (101, 32) into a new token 256\n",
      "merging (105, 110) into a new token 257\n",
      "merging (115, 32) into a new token 258\n",
      "merging (116, 104) into a new token 259\n",
      "merging (101, 114) into a new token 260\n",
      "merging (99, 111) into a new token 261\n",
      "merging (116, 32) into a new token 262\n",
      "merging (226, 128) into a new token 263\n",
      "merging (44, 32) into a new token 264\n",
      "merging (97, 110) into a new token 265\n",
      "merging (111, 114) into a new token 266\n",
      "merging (100, 32) into a new token 267\n",
      "merging (97, 114) into a new token 268\n",
      "merging (101, 110) into a new token 269\n",
      "merging (257, 103) into a new token 270\n",
      "merging (261, 100) into a new token 271\n",
      "merging (121, 32) into a new token 272\n",
      "merging (97, 108) into a new token 273\n",
      "merging (259, 256) into a new token 274\n",
      "merging (111, 110) into a new token 275\n"
     ]
    }
   ],
   "source": [
    "def get_stats(ids):\n",
    "    counts = {}\n",
    "    for pair in zip(ids, ids[1:]):\n",
    "        counts[pair] = counts.get(pair, 0) + 1\n",
    "    return counts\n",
    "\n",
    "def merge(ids, pair, idx):\n",
    "  newids = []\n",
    "  i = 0\n",
    "  while i < len(ids):\n",
    "    if i < len(ids) - 1 and ids[i] == pair[0] and ids[i+1] == pair[1]:\n",
    "      newids.append(idx)\n",
    "      i += 2\n",
    "    else:\n",
    "      newids.append(ids[i])\n",
    "      i += 1\n",
    "  return newids\n",
    "\n",
    "# ---\n",
    "vocab_size = 276 # the desired final vocabulary size\n",
    "num_merges = vocab_size - 256\n",
    "ids = list(tokens) # copy so we don't destroy the original list\n",
    "\n",
    "merges = {} # (int, int) -> int\n",
    "for i in range(num_merges):\n",
    "  stats = get_stats(ids)\n",
    "  pair = max(stats, key=stats.get)\n",
    "  idx = 256 + i\n",
    "  print(f\"merging {pair} into a new token {idx}\")\n",
    "  ids = merge(ids, pair, idx)\n",
    "  merges[pair] = idx"
   ]
  },
  {
   "cell_type": "code",
   "execution_count": 400,
   "id": "68b08001-4c45-4384-8014-77bf62141802",
   "metadata": {},
   "outputs": [],
   "source": [
    "def decode_single_id(id, max_og = 255):\n",
    "    out = []\n",
    "    if id <= max_og:\n",
    "        return [id]\n",
    "    else:\n",
    "        new_id = tokenized_values(id)\n",
    "        flag = 0\n",
    "        return [decode_single_id(k) for k in tokenized_values[id]]\n",
    "\n"
   ]
  },
  {
   "cell_type": "code",
   "execution_count": 426,
   "id": "a980246c-b5df-4471-aeae-33bf1b93528d",
   "metadata": {},
   "outputs": [],
   "source": [
    "vocab = {idx: bytes([idx]) for idx in range(256)}\n",
    "for (p0, p1), idx in merges.items():\n",
    "    vocab[idx] = vocab[p0] + vocab[p1]\n",
    "\n",
    "\n",
    "\n",
    "def decode(ids):\n",
    "    # given ids (list of integers), return python string\n",
    "    tokens = b\"\".join(vocab[idx] for idx in ids)\n",
    "    text = tokens.decode(\"utf-8\", errors='replace')        \n",
    "    return text"
   ]
  },
  {
   "cell_type": "code",
   "execution_count": 432,
   "id": "bffcd214-e240-486e-a031-2d5458e38d38",
   "metadata": {},
   "outputs": [
    {
     "data": {
      "text/plain": [
       "'\\nＵｎｉｃｏｄｅ! 🅤🅝🅘🅒🅞🅓🅔‽ 🇺\\u200c🇳\\u200c🇮\\u200c🇨\\u200c🇴\\u200c🇩\\u200c🇪! 😄 The very name strikes fear and awe into the hearts of programmers worldwide. We all know we ought to “support Unicode” in our software (whatever that means—like using wchar_t for all the strings, right?). But Unicode can be abstruse, and diving into the thousand-page Unicode Standard plus its dozens of supplementary annexes, reports, and notes can be more than a little intimidating. I don’t blame programmers for still finding the whole thing mysterious, even 30 years after Unicode’s inception.\\n\\nA few months ago, I got interested in Unicode and decided to spend some time learning more about it in detail. In this article, I’ll give an introduction to it from a programmer’s point of view.\\n\\nI’m going to focus on the character set and what’s involved in working with strings and files of Unicode text. However, in this article I’m not going to talk about fonts, text layout/shaping/rendering, or localization in detail—those are separate issues, beyond my scope (and knowledge) here.\\n\\n    Diversity and Inherent Complexity\\n    The Unicode Codespace\\n        Codespace Allocation\\n        Scripts\\n        Usage Frequency\\n    Encodings\\n        UTF-8\\n        UTF-16\\n    Combining Marks\\n        Canonical Equivalence\\n        Normalization Forms\\n        Grapheme Clusters\\n    And More…\\n\\nDiversity and Inherent Complexity\\n\\nAs soon as you start to study Unicode, it becomes clear that it represents a large jump in complexity over character sets like ASCII that you may be more familiar with. It’s not just that Unicode contains a much larger number of characters, although that’s part of it. Unicode also has a great deal of internal structure, features, and special cases, making it much more than what one might expect a mere “character set” to be. We’ll see some of that later in this article.\\n\\nWhen confronting all this complexity, especially as an engineer, it’s hard not to find oneself asking, “Why do we need all this? Is this really necessary? Couldn’t it be simplified?”\\n\\nHowever, Unicode aims to faithfully represent the entire world’s writing systems. The Unicode Consortium’s stated goal is “enabling people around the world to use computers in any language”. And as you might imagine, the diversity of written languages is immense! To date, Unicode supports 135 different scripts, covering some 1100 languages, and there’s still a long tail of over 100 unsupported scripts, both modern and historical, which people are still working to add.\\n\\nGiven this enormous diversity, it’s inevitable that representing it is a complicated project. Unicode embraces that diversity, and accepts the complexity inherent in its mission to include all human writing systems. It doesn’t make a lot of trade-offs in the name of simplification, and it makes exceptions to its own rules where necessary to further its mission.\\n\\nMoreover, Unicode is committed not just to supporting texts in any single language, but also to letting multiple languages coexist within one text—which introduces even more complexity.\\n\\nMost programming languages have libraries available to handle the gory low-level details of text manipulation, but as a programmer, you’ll still need to know about certain Unicode features in order to know when and how to apply them. It may take some time to wrap your head around it all, but don’t be discouraged—think about the billions of people for whom your software will be more accessible through supporting text in their language. Embrace the complexity!\\nThe Unicode Codespace\\n\\nLet’s start with some general orientation. The basic elements of Unicode—its “characters”, although that term isn’t quite right—are called code points. Code points are identified by number, customarily written in hexadecimal with the prefix “U+”, such as U+0041 “A” latin capital letter a or U+03B8 “θ” greek small letter theta. Each code point also has a short name, and quite a few other properties, specified in the Unicode Character Database.\\n\\nThe set of all possible code points is called the codespace. The Unicode codespace consists of 1,114,112 code points. However, only 128,237 of them—about 12% of the codespace—are actually assigned, to date. There’s plenty of room for growth! Unicode also reserves an additional 137,468 code points as “private use” areas, which have no standardized meaning and are available for individual applications to define for their own purposes.\\nCodespace Allocation\\n\\nTo get a feel for how the codespace is laid out, it’s helpful to visualize it. Below is a map of the entire codespace, with one pixel per code point. It’s arranged in tiles for visual coherence; each small square is 16×16 = 256 code points, and each large square is a “plane” of 65,536 code points. There are 17 planes altogether.\\n\\nMap of the Unicode codespace (click to zoom)\\n\\nWhite represents unassigned space. Blue is assigned code points, green is private-use areas, and the small red area is surrogates (more about those later). As you can see, the assigned code points are distributed somewhat sparsely, but concentrated in the first three planes.\\n\\nPlane 0 is also known as the “Basic Multilingual Plane”, or BMP. The BMP contains essentially all the characters needed for modern text in any script, including Latin, Cyrillic, Greek, Han (Chinese), Japanese, Korean, Arabic, Hebrew, Devanagari (Indian), and many more.\\n\\n(In the past, the codespace was just the BMP and no more—Unicode was originally conceived as a straightforward 16-bit encoding, with only 65,536 code points. It was expanded to its current size in 1996. However, the vast majority of code points in modern text belong to the BMP.)\\n\\nPlane 1 contains historical scripts, such as Sumerian cuneiform and Egyptian hieroglyphs, as well as emoji and various other symbols. Plane 2 contains a large block of less-common and historical Han characters. The remaining planes are empty, except for a small number of rarely-used formatting characters in Plane 14; planes 15–16 are reserved entirely for private use.\\nScripts\\n\\nLet’s zoom in on the first three planes, since that’s where the action is:\\n\\nMap of scripts in Unicode planes 0–2 (click to zoom)\\n\\nThis map color-codes the 135 different scripts in Unicode. You can see how Han () and Korean () take up most of the range of the BMP (the left large square). By contrast, all of the European, Middle Eastern, and South Asian scripts fit into the first row of the BMP in this diagram.\\n\\nMany areas of the codespace are adapted or copied from earlier encodings. For example, the first 128 code points of Unicode are just a copy of ASCII. This has clear benefits for compatibility—it’s easy to losslessly convert texts from smaller encodings into Unicode (and the other direction too, as long as no characters outside the smaller encoding are used).\\nUsage Frequency\\n\\nOne more interesting way to visualize the codespace is to look at the distribution of usage—in other words, how often each code point is actually used in real-world texts. Below is a heat map of planes 0–2 based on a large sample of text from Wikipedia and Twitter (all languages). Frequency increases from black (never seen) through red and yellow to white.\\n\\nHeat map of code point usage frequency in Unicode planes 0–2 (click to zoom)\\n\\nYou can see that the vast majority of this text sample lies in the BMP, with only scattered usage of code points from planes 1–2. The biggest exception is emoji, which show up here as the several bright squares in the bottom row of plane 1.\\nEncodings\\n\\nWe’ve seen that Unicode code points are abstractly identified by their index in the codespace, ranging from U+0000 to U+10FFFF. But how do code points get represented as bytes, in memory or in a file?\\n\\nThe most convenient, computer-friendliest (and programmer-friendliest) thing to do would be to just store the code point index as a 32-bit integer. This works, but it consumes 4 bytes per code point, which is sort of a lot. Using 32-bit ints for Unicode will cost you a bunch of extra storage, memory, and performance in bandwidth-bound scenarios, if you work with a lot of text.\\n\\nConsequently, there are several more-compact encodings for Unicode. The 32-bit integer encoding is officially called UTF-32 (UTF = “Unicode Transformation Format”), but it’s rarely used for storage. At most, it comes up sometimes as a temporary internal representation, for examining or operating on the code points in a string.\\n\\nMuch more commonly, you’ll see Unicode text encoded as either UTF-8 or UTF-16. These are both variable-length encodings, made up of 8-bit or 16-bit units, respectively. In these schemes, code points with smaller index values take up fewer bytes, which saves a lot of memory for typical texts. The trade-off is that processing UTF-8/16 texts is more programmatically involved, and likely slower.\\nUTF-8\\n\\nIn UTF-8, each code point is stored using 1 to 4 bytes, based on its index value.\\n\\nUTF-8 uses a system of binary prefixes, in which the high bits of each byte mark whether it’s a single byte, the beginning of a multi-byte sequence, or a continuation byte; the remaining bits, concatenated, give the code point index. This table shows how it works:\\nUTF-8 (binary) \\tCode point (binary) \\tRange\\n0xxxxxxx \\txxxxxxx \\tU+0000–U+007F\\n110xxxxx 10yyyyyy \\txxxxxyyyyyy \\tU+0080–U+07FF\\n1110xxxx 10yyyyyy 10zzzzzz \\txxxxyyyyyyzzzzzz \\tU+0800–U+FFFF\\n11110xxx 10yyyyyy 10zzzzzz 10wwwwww \\txxxyyyyyyzzzzzzwwwwww \\tU+10000–U+10FFFF\\n\\nA handy property of UTF-8 is that code points below 128 (ASCII characters) are encoded as single bytes, and all non-ASCII code points are encoded using sequences of bytes 128–255. This has a couple of nice consequences. First, any strings or files out there that are already in ASCII can also be interpreted as UTF-8 without any conversion. Second, lots of widely-used string programming idioms—such as null termination, or delimiters (newlines, tabs, commas, slashes, etc.)—will just work on UTF-8 strings. ASCII bytes never occur inside the encoding of non-ASCII code points, so searching byte-wise for a null terminator or a delimiter will do the right thing.\\n\\nThanks to this convenience, it’s relatively simple to extend legacy ASCII programs and APIs to handle UTF-8 strings. UTF-8 is very widely used in the Unix/Linux and Web worlds, and many programmers argue UTF-8 should be the default encoding everywhere.\\n\\nHowever, UTF-8 isn’t a drop-in replacement for ASCII strings in all respects. For instance, code that iterates over the “characters” in a string will need to decode UTF-8 and iterate over code points (or maybe grapheme clusters—more about those later), not bytes. When you measure the “length” of a string, you’ll need to think about whether you want the length in bytes, the length in code points, the width of the text when rendered, or something else.\\nUTF-16\\n\\nThe other encoding that you’re likely to encounter is UTF-16. It uses 16-bit words, with each code point stored as either 1 or 2 words.\\n\\nLike UTF-8, we can express the UTF-16 encoding rules in the form of binary prefixes:\\nUTF-16 (binary) \\tCode point (binary) \\tRange\\nxxxxxxxxxxxxxxxx \\txxxxxxxxxxxxxxxx \\tU+0000–U+FFFF\\n110110xxxxxxxxxx 110111yyyyyyyyyy \\txxxxxxxxxxyyyyyyyyyy + 0x10000 \\tU+10000–U+10FFFF\\n\\nA more common way that people talk about UTF-16 encoding, though, is in terms of code points called “surrogates”. All the code points in the range U+D800–U+DFFF—or in other words, the code points that match the binary prefixes 110110 and 110111 in the table above—are reserved specifically for UTF-16 encoding, and don’t represent any valid characters on their own. They’re only meant to occur in the 2-word encoding pattern above, which is called a “surrogate pair”. Surrogate code points are illegal in any other context! They’re not allowed in UTF-8 or UTF-32 at all.\\n\\nHistorically, UTF-16 is a descendant of the original, pre-1996 versions of Unicode, in which there were only 65,536 code points. The original intention was that there would be no different “encodings”; Unicode was supposed to be a straightforward 16-bit character set. Later, the codespace was expanded to make room for a long tail of less-common (but still important) Han characters, which the Unicode designers didn’t originally plan for. Surrogates were then introduced, as—to put it bluntly—a kludge, allowing 16-bit encodings to access the new code points.\\n\\nToday, Javascript uses UTF-16 as its standard string representation: if you ask for the length of a string, or iterate over it, etc., the result will be in UTF-16 words, with any code points outside the BMP expressed as surrogate pairs. UTF-16 is also used by the Microsoft Win32 APIs; though Win32 supports either 8-bit or 16-bit strings, the 8-bit version unaccountably still doesn’t support UTF-8—only legacy code-page encodings, like ANSI. This leaves UTF-16 as the only way to get proper Unicode support in Windows. (Update: in Win10 version 1903, they finally added UTF-8 support to the 8-bit APIs! 😊)\\n\\nBy the way, UTF-16’s words can be stored either little-endian or big-endian. Unicode has no opinion on that issue, though it does encourage the convention of putting U+FEFF zero width no-break space at the top of a UTF-16 file as a byte-order mark, to disambiguate the endianness. (If the file doesn’t match the system’s endianness, the BOM will be decoded as U+FFFE, which isn’t a valid code point.)\\nCombining Marks\\n\\nIn the story so far, we’ve been focusing on code points. But in Unicode, a “character” can be more complicated than just an individual code point!\\n\\nUnicode includes a system for dynamically composing characters, by combining multiple code points together. This is used in various ways to gain flexibility without causing a huge combinatorial explosion in the number of code points.\\n\\nIn European languages, for example, this shows up in the application of diacritics to letters. Unicode supports a wide range of diacritics, including acute and grave accents, umlauts, cedillas, and many more. All these diacritics can be applied to any letter of any alphabet—and in fact, multiple diacritics can be used on a single letter.\\n\\nIf Unicode tried to assign a distinct code point to every possible combination of letter and diacritics, things would rapidly get out of hand. Instead, the dynamic composition system enables you to construct the character you want, by starting with a base code point (the letter) and appending additional code points, called “combining marks”, to specify the diacritics. When a text renderer sees a sequence like this in a string, it automatically stacks the diacritics over or under the base letter to create a composed character.\\n\\nFor example, the accented character “Á” can be expressed as a string of two code points: U+0041 “A” latin capital letter a plus U+0301 “◌́” combining acute accent. This string automatically gets rendered as a single character: “Á”.\\n\\nNow, Unicode does also include many “precomposed” code points, each representing a letter with some combination of diacritics already applied, such as U+00C1 “Á” latin capital letter a with acute or U+1EC7 “ệ” latin small letter e with circumflex and dot below. I suspect these are mostly inherited from older encodings that were assimilated into Unicode, and kept around for compatibility. In practice, there are precomposed code points for most of the common letter-with-diacritic combinations in European-script languages, so they don’t use dynamic composition that much in typical text.\\n\\nStill, the system of combining marks does allow for an arbitrary number of diacritics to be stacked on any base character. The reductio-ad-absurdum of this is Zalgo text, which works by ͖͟ͅr͞aṋ̫̠̖͈̗d͖̻̹óm̪͙͕̗̝ļ͇̰͓̳̫ý͓̥̟͍ ̕s̫t̫̱͕̗̰̼̘͜a̼̩͖͇̠͈̣͝c̙͍k̖̱̹͍͘i̢n̨̺̝͇͇̟͙ģ̫̮͎̻̟ͅ ̕n̼̺͈͞u̮͙m̺̭̟̗͞e̞͓̰̤͓̫r̵o̖ṷs҉̪͍̭̬̝̤ ̮͉̝̞̗̟͠d̴̟̜̱͕͚i͇̫̼̯̭̜͡ḁ͙̻̼c̲̲̹r̨̠̹̣̰̦i̱t̤̻̤͍͙̘̕i̵̜̭̤̱͎c̵s ͘o̱̲͈̙͖͇̲͢n͘ ̜͈e̬̲̠̩ac͕̺̠͉h̷̪ ̺̣͖̱ḻ̫̬̝̹ḙ̙̺͙̭͓̲t̞̞͇̲͉͍t̷͔̪͉̲̻̠͙e̦̻͈͉͇r͇̭̭̬͖,̖́ ̜͙͓̣̭s̘̘͈o̱̰̤̲ͅ ̛̬̜̙t̼̦͕̱̹͕̥h̳̲͈͝ͅa̦t̻̲ ̻̟̭̦̖t̛̰̩h̠͕̳̝̫͕e͈̤̘͖̞͘y҉̝͙ ̷͉͔̰̠o̞̰v͈͈̳̘͜er̶f̰͈͔ḻ͕̘̫̺̲o̲̭͙͠ͅw̱̳̺ ͜t̸h͇̭͕̳͍e̖̯̟̠ ͍̞̜͔̩̪͜ļ͎̪̲͚i̝̲̹̙̩̹n̨̦̩̖ḙ̼̲̼͢ͅ ̬͝s̼͚̘̞͝p͙̘̻a̙c҉͉̜̤͈̯̖i̥͡n̦̠̱͟g̸̗̻̦̭̮̟ͅ ̳̪̠͖̳̯̕a̫͜n͝d͡ ̣̦̙ͅc̪̗r̴͙̮̦̹̳e͇͚̞͔̹̫͟a̙̺̙ț͔͎̘̹ͅe̥̩͍ a͖̪̜̮͙̹n̢͉̝ ͇͉͓̦̼́a̳͖̪̤̱p̖͔͔̟͇͎͠p̱͍̺ę̲͎͈̰̲̤̫a̯͜r̨̮̫̣̘a̩̯͖n̹̦̰͎̣̞̞c̨̦̱͔͎͍͖e̬͓͘ ̤̰̩͙̤̬͙o̵̼̻̬̻͇̮̪f̴ ̡̙̭͓͖̪̤“̸͙̠̼c̳̗͜o͏̼͙͔̮r̞̫̺̞̥̬ru̺̻̯͉̭̻̯p̰̥͓̣̫̙̤͢t̳͍̳̖ͅi̶͈̝͙̼̙̹o̡͔n̙̺̹̖̩͝ͅ”̨̗͖͚̩.̯͓\\n\\nA few other places where dynamic character composition shows up in Unicode:\\n\\n    Vowel-pointing notation in Arabic and Hebrew. In these languages, words are normally spelled with some of their vowels left out. They then have diacritic notation to indicate the vowels (used in dictionaries, language-teaching materials, children’s books, and such). These diacritics are expressed with combining marks.\\n    A Hebrew example, with niqqud:\\tאֶת דַלְתִּי הֵזִיז הֵנִיעַ, קֶטֶב לִשְׁכַּתִּי יָשׁוֹד\\n    Normal writing (no niqqud):\\tאת דלתי הזיז הניע, קטב לשכתי ישוד\\n\\n    Devanagari, the script used to write Hindi, Sanskrit, and many other South Asian languages, expresses certain vowels as combining marks attached to consonant letters. For example, “ह” + “\\u200bि” = “हि” (“h” + “i” = “hi”).\\n\\n    Korean characters stand for syllables, but they are composed of letters called jamo that stand for the vowels and consonants in the syllable. While there are code points for precomposed Korean syllables, it’s also possible to dynamically compose them by concatenating their jamo. For example, “ᄒ” + “ᅡ” + “ᆫ” = “한” (“h” + “a” + “n” = “han”).\\n\\nCanonical Equivalence\\n\\nIn Unicode, precomposed characters exist alongside the dynamic composition system. A consequence of this is that there are multiple ways to express “the same” string—different sequences of code points that result in the same user-perceived characters. For example, as we saw earlier, we can express the character “Á” either as the single code point U+00C1, or as the string of two code points U+0041 U+0301.\\n\\nAnother source of ambiguity is the ordering of multiple diacritics in a single character. Diacritic order matters visually when two diacritics apply to the same side of the base character, e.g. both above: “ǡ” (dot, then macron) is different from “ā̇” (macron, then dot). However, when diacritics apply to different sides of the character, e.g. one above and one below, then the order doesn’t affect rendering. Moreover, a character with multiple diacritics might have one of the diacritics precomposed and others expressed as combining marks.\\n\\nFor example, the Vietnamese letter “ệ” can be expressed in five different ways:\\n\\n    Fully precomposed: U+1EC7 “ệ”\\n    Partially precomposed: U+1EB9 “ẹ” + U+0302 “◌̂”\\n    Partially precomposed: U+00EA “ê” + U+0323 “◌̣”\\n    Fully decomposed: U+0065 “e” + U+0323 “◌̣” + U+0302 “◌̂”\\n    Fully decomposed: U+0065 “e” + U+0302 “◌̂” + U+0323 “◌̣”\\n\\nUnicode refers to set of strings like this as “canonically equivalent”. Canonically equivalent strings are supposed to be treated as identical for purposes of searching, sorting, rendering, text selection, and so on. This has implications for how you implement operations on text. For example, if an app has a “find in file” operation and the user searches for “ệ”, it should, by default, find occurrences of any of the five versions of “ệ” above!\\nNormalization Forms\\n\\nTo address the problem of “how to handle canonically equivalent strings”, Unicode defines several normalization forms: ways of converting strings into a canonical form so that they can be compared code-point-by-code-point (or byte-by-byte).\\n\\nThe “NFD” normalization form fully decomposes every character down to its component base and combining marks, taking apart any precomposed code points in the string. It also sorts the combining marks in each character according to their rendered position, so e.g. diacritics that go below the character come before the ones that go above the character. (It doesn’t reorder diacritics in the same rendered position, since their order matters visually, as previously mentioned.)\\n\\nThe “NFC” form, conversely, puts things back together into precomposed code points as much as possible. If an unusual combination of diacritics is called for, there may not be any precomposed code point for it, in which case NFC still precomposes what it can and leaves any remaining combining marks in place (again ordered by rendered position, as in NFD).\\n\\nThere are also forms called NFKD and NFKC. The “K” here refers to compatibility decompositions, which cover characters that are “similar” in some sense but not visually identical. However, I’m not going to cover that here.\\nGrapheme Clusters\\n\\nAs we’ve seen, Unicode contains various cases where a thing that a user thinks of as a single “character” might actually be made up of multiple code points under the hood. Unicode formalizes this using the notion of a grapheme cluster: a string of one or more code points that constitute a single “user-perceived character”.\\n\\nUAX #29 defines the rules for what, precisely, qualifies as a grapheme cluster. It’s approximately “a base code point followed by any number of combining marks”, but the actual definition is a bit more complicated; it accounts for things like Korean jamo, and emoji ZWJ sequences.\\n\\nThe main thing grapheme clusters are used for is text editing: they’re often the most sensible unit for cursor placement and text selection boundaries. Using grapheme clusters for these purposes ensures that you can’t accidentally chop off some diacritics when you copy-and-paste text, that left/right arrow keys always move the cursor by one visible character, and so on.\\n\\nAnother place where grapheme clusters are useful is in enforcing a string length limit—say, on a database field. While the true, underlying limit might be something like the byte length of the string in UTF-8, you wouldn’t want to enforce that by just truncating bytes. At a minimum, you’d want to “round down” to the nearest code point boundary; but even better, round down to the nearest grapheme cluster boundary. Otherwise, you might be corrupting the last character by cutting off a diacritic, or interrupting a jamo sequence or ZWJ sequence.\\nAnd More…\\n\\nThere’s much more that could be said about Unicode from a programmer’s perspective! I haven’t gotten into such fun topics as case mapping, collation, compatibility decompositions and confusables, Unicode-aware regexes, or bidirectional text. Nor have I said anything yet about implementation issues—how to efficiently store and look-up data about the sparsely-assigned code points, or how to optimize UTF-8 decoding, string comparison, or NFC normalization. Perhaps I’ll return to some of those things in future posts.\\n\\nUnicode is a fascinating and complex system. It has a many-to-one mapping between bytes and code points, and on top of that a many-to-one (or, under some circumstances, many-to-many) mapping between code points and “characters”. It has oddball special cases in every corner. But no one ever claimed that representing all written languages was going to be easy, and it’s clear that we’re never going back to the bad old days of a patchwork of incompatible encodings.\\n\\nFurther reading:\\n\\n    The Unicode Standard\\n    UTF-8 Everywhere Manifesto\\n    Dark corners of Unicode by Eevee\\n    ICU (International Components for Unicode)—C/C++/Java libraries implementing many Unicode algorithms and related things\\n    Python 3 Unicode Howto\\n    Google Noto Fonts—set of fonts intended to cover all assigned code points\\n\\n'"
      ]
     },
     "execution_count": 432,
     "metadata": {},
     "output_type": "execute_result"
    }
   ],
   "source": [
    "decode(ids)"
   ]
  },
  {
   "cell_type": "code",
   "execution_count": 444,
   "id": "daa33dee-7d11-49d9-b0e0-a2b79da4024a",
   "metadata": {},
   "outputs": [
    {
     "data": {
      "text/plain": [
       "(1, 3)"
      ]
     },
     "execution_count": 444,
     "metadata": {},
     "output_type": "execute_result"
    }
   ],
   "source": [
    "stats = get_stats([1,3,1])\n",
    "pair = min(stats, key=lambda p: merges.get(p, float(\"inf\")))\n",
    "pair"
   ]
  },
  {
   "cell_type": "code",
   "execution_count": 440,
   "id": "c32e305c-f490-4e14-9935-53fe420d3bef",
   "metadata": {},
   "outputs": [
    {
     "data": {
      "text/plain": [
       "{(101, 32): 256,\n",
       " (105, 110): 257,\n",
       " (115, 32): 258,\n",
       " (116, 104): 259,\n",
       " (101, 114): 260,\n",
       " (99, 111): 261,\n",
       " (116, 32): 262,\n",
       " (226, 128): 263,\n",
       " (44, 32): 264,\n",
       " (97, 110): 265,\n",
       " (111, 114): 266,\n",
       " (100, 32): 267,\n",
       " (97, 114): 268,\n",
       " (101, 110): 269,\n",
       " (257, 103): 270,\n",
       " (261, 100): 271,\n",
       " (121, 32): 272,\n",
       " (97, 108): 273,\n",
       " (259, 256): 274,\n",
       " (111, 110): 275}"
      ]
     },
     "execution_count": 440,
     "metadata": {},
     "output_type": "execute_result"
    }
   ],
   "source": [
    "merges"
   ]
  },
  {
   "cell_type": "code",
   "execution_count": 442,
   "id": "d9b959e7-f956-4832-afb4-5fe3d666ca47",
   "metadata": {},
   "outputs": [
    {
     "data": {
      "text/plain": [
       "{(1, 3): 1, (3, 1): 1}"
      ]
     },
     "execution_count": 442,
     "metadata": {},
     "output_type": "execute_result"
    }
   ],
   "source": [
    "get_stats([1,3,1])"
   ]
  },
  {
   "cell_type": "code",
   "execution_count": 459,
   "id": "0f465f4b-0dc3-40bb-a9c8-8791aa80dcca",
   "metadata": {},
   "outputs": [
    {
     "name": "stdout",
     "output_type": "stream",
     "text": [
      "[104]\n"
     ]
    }
   ],
   "source": [
    "def encode(text):\n",
    "    # given a string, return a list of integers (the tokens)\n",
    "    tokens = list(text.encode(\"utf-8\")) # starting token\n",
    "    # merge now\n",
    "    if len(text) >= 2:\n",
    "        while True:\n",
    "            stats = get_stats(tokens)\n",
    "            pair = min(stats, key=lambda p: merges.get(p, float(\"inf\"))) # float inf makes sure any non-merge pair is coded as infinity\n",
    "            if pair not in merges:\n",
    "                break # once we don't find a merge candidate we break\n",
    "    \n",
    "            idx = merges[pair]\n",
    "            tokens = merge(tokens, pair, idx)\n",
    "    \n",
    "    return tokens\n",
    "\n",
    "\n",
    "\n",
    "print(encode(\"h\"))"
   ]
  },
  {
   "cell_type": "code",
   "execution_count": 463,
   "id": "15d31a57-d437-46dc-85a2-7dfcae83e8f0",
   "metadata": {},
   "outputs": [
    {
     "name": "stdout",
     "output_type": "stream",
     "text": [
      "True\n"
     ]
    }
   ],
   "source": [
    "# not all decode/encode operations return exactly the same input -> if there are invalid utf-8 characters, we can't properly identify them\n",
    "# BUT the training text should always be decode then encode-able\n",
    "text2 = decode(encode(ogtext))\n",
    "print(text2 == ogtext)"
   ]
  },
  {
   "cell_type": "code",
   "execution_count": 469,
   "id": "41197411-f84b-4969-8fbe-18ee35ae12b4",
   "metadata": {},
   "outputs": [
    {
     "name": "stdout",
     "output_type": "stream",
     "text": [
      "True\n"
     ]
    }
   ],
   "source": [
    "valtext = \"\"\" Unicode, formally The Unicode Standard,[note 1] is a text encoding standard maintained by the Unicode Consortium designed to support the use of text in all of the world's writing systems that can be digitized. Version 16.0 of the standard[A] defines 154998 characters and 168 scripts[3] used in various ordinary, literary, academic, and technical contexts.\n",
    "\n",
    "Many common characters, including numerals, punctuation, and other symbols, are unified within the standard and are not treated as specific to any given writing system. Unicode encodes 3790 emoji, with the continued development thereof conducted by the Consortium as a part of the standard.[4] Moreover, the widespread adoption of Unicode was in large part responsible for the initial popularization of emoji outside of Japan. Unicode is ultimately capable of encoding more than 1.1 million characters.\n",
    "\n",
    "Unicode has largely supplanted the previous environment of a myriad of incompatible character sets, each used within different locales and on different computer architectures. Unicode is used to encode the vast majority of text on the Internet, including most web pages, and relevant Unicode support has become a common consideration in contemporary software development.\n",
    "\n",
    "The Unicode character repertoire is synchronized with ISO/IEC 10646, each being code-for-code identical with one another. However, The Unicode Standard is more than just a repertoire within which characters are assigned. To aid developers and designers, the standard also provides charts and reference data, as well as annexes explaining concepts germane to various scripts, providing guidance for their implementation. Topics covered by these annexes include character normalization, character composition and decomposition, collation, and directionality.[5]\n",
    "\n",
    "Unicode text is processed and stored as binary data using one of several encodings, which define how to translate the standard's abstracted codes for characters into sequences of bytes. The Unicode Standard itself defines three encodings: UTF-8, UTF-16, and UTF-32, though several others exist. Of these, UTF-8 is the most widely used by a large margin, in part due to its backwards-compatibility with ASCII.\n",
    "Origin and development\n",
    "\n",
    "Unicode was originally designed with the intent of transcending limitations present in all text encodings designed up to that point: each encoding was relied upon for use in its own context, but with no particular expectation of compatibility with any other. Indeed, any two encodings chosen were often totally unworkable when used together, with text encoded in one interpreted as garbage characters by the other. Most encodings had only been designed to facilitate interoperation between a handful of scripts—often primarily between a given script and Latin characters—not between a large number of scripts, and not with all of the scripts supported being treated in a consistent manner.\n",
    "\n",
    "The philosophy that underpins Unicode seeks to encode the underlying characters—graphemes and grapheme-like units—rather than graphical distinctions considered mere variant glyphs thereof, that are instead best handled by the typeface, through the use of markup, or by some other means. In particularly complex cases, such as the treatment of orthographical variants in Han characters, there is considerable disagreement regarding which differences justify their own encodings, and which are only graphical variants of other characters.\n",
    "\n",
    "At the most abstract level, Unicode assigns a unique number called a code point to each character. Many issues of visual representation—including size, shape, and style—are intended to be up to the discretion of the software actually rendering the text, such as a web browser or word processor. However, partially with the intent of encouraging rapid adoption, the simplicity of this original model has become somewhat more elaborate over time, and various pragmatic concessions have been made over the course of the standard's development.\n",
    "\n",
    "The first 256 code points mirror the ISO/IEC 8859-1 standard, with the intent of trivializing the conversion of text already written in Western European scripts. To preserve the distinctions made by different legacy encodings, therefore allowing for conversion between them and Unicode without any loss of information, many characters nearly identical to others, in both appearance and intended function, were given distinct code points. For example, the Halfwidth and Fullwidth Forms block encompasses a full semantic duplicate of the Latin alphabet, because legacy CJK encodings contained both \"fullwidth\" (matching the width of CJK characters) and \"halfwidth\" (matching ordinary Latin script) characters.\n",
    "\n",
    "The Unicode Bulldog Award is given to people deemed to be influential in Unicode's development, with recipients including Tatsuo Kobayashi, Thomas Milo, Roozbeh Pournader, Ken Lunde, and Michael Everson.[6] \n",
    "\"\"\"\n",
    "valtext2 = decode(encode(valtext))\n",
    "print(valtext2 == valtext)\n",
    "# generally, we should be able to see that validation text (other random text we grab) will work properly"
   ]
  },
  {
   "cell_type": "code",
   "execution_count": 402,
   "id": "3ed172a4-a507-4abe-9801-c2a385cb5832",
   "metadata": {},
   "outputs": [
    {
     "data": {
      "text/plain": [
       "[[116, 104], [101, 32]]"
      ]
     },
     "execution_count": 402,
     "metadata": {},
     "output_type": "execute_result"
    }
   ],
   "source": [
    "decode_single_id(274)"
   ]
  },
  {
   "cell_type": "code",
   "execution_count": 473,
   "id": "274a4a6c-9d3e-43fd-85a5-a3ade756cf1f",
   "metadata": {},
   "outputs": [],
   "source": [
    "# one important note (from gpt2 encoding paper) -> common words like dog\n",
    "# can be dog. dog! dog? -> and this can eat up a lot of variable space\n",
    "# so we want to MANUALLY enforce that some types of characters should never be merged together\n",
    "# relevant code: https://github.com/openai/gpt-2"
   ]
  },
  {
   "cell_type": "code",
   "execution_count": null,
   "id": "0d9b3f50-8a20-43c8-8f1c-31fc585838ce",
   "metadata": {},
   "outputs": [],
   "source": [
    "# forced splits using regex patterns (gpt series)"
   ]
  },
  {
   "cell_type": "code",
   "execution_count": 491,
   "id": "9c3179ad-4317-4e31-b503-e150c2728ef3",
   "metadata": {},
   "outputs": [
    {
     "name": "stdout",
     "output_type": "stream",
     "text": [
      "['Hello', \"'ve\", ' world', '123', ',', ' how', \"'s\", ' HOW', \"'\", 'S', ' are', '.', ' are', '      ', ' you', '!!!?']\n"
     ]
    }
   ],
   "source": [
    "import regex as re\n",
    "gpt2pat = re.compile(r\"\"\"'s|'t|'re|'ve|'m|'ll|'d| ?\\p{L}+| ?\\p{N}+| ?[^\\s\\p{L}\\p{N}]+|\\s+(?!\\S)|\\s+\"\"\")\n",
    "\n",
    "print(re.findall(gpt2pat, \"Hello've world123, how's HOW'S are. are       you!!!?\"))\n",
    "# NOTE: separates out punctuation, non-letters, and specific appendices, and tokenizer will then process the list piece by piece and concatenate back \n",
    "# this enforces that some merges will NOT happen\n",
    "# note - not ideal that gpt2 has explicitly separated out apostraphes because it lacks some flexibility in unicode statements\n",
    "# should also IGNORE CASE beacause upper/lower case will separate apostraphe differently\n",
    "# ADDITIONAL NOTE: convention is to have the whitespace (single space) prior to a word; seems to work well\n",
    "# also keeps whitespace chunks together"
   ]
  },
  {
   "cell_type": "code",
   "execution_count": 497,
   "id": "78f911de-c95b-4535-b909-806598589f73",
   "metadata": {},
   "outputs": [
    {
     "name": "stdout",
     "output_type": "stream",
     "text": [
      "['\\n', 'for', ' i', ' in', ' range', '(', '1', ',', ' 101', '):', '\\n   ', ' if', ' i', ' %', ' 3', ' ==', ' 0', ' and', ' i', ' %', ' 5', ' ==', ' 0', ':', '\\n       ', ' print', '(\"', 'FizzBuzz', '\")', '\\n   ', ' elif', ' i', ' %', ' 3', ' ==', ' 0', ':', '\\n       ', ' print', '(\"', 'Fizz', '\")', '\\n   ', ' elif', ' i', ' %', ' 5', ' ==', ' 0', ':', '\\n       ', ' print', '(\"', 'Buzz', '\")', '\\n']\n"
     ]
    }
   ],
   "source": [
    "# additional example through code\n",
    "example = \"\"\"\n",
    "for i in range(1, 101):\n",
    "    if i % 3 == 0 and i % 5 == 0:\n",
    "        print(\"FizzBuzz\")\n",
    "    elif i % 3 == 0:\n",
    "        print(\"Fizz\")\n",
    "    elif i % 5 == 0:\n",
    "        print(\"Buzz\")\n",
    "\"\"\"\n",
    "print(re.findall(gpt2pat, example))\n",
    "# note that for GPT2 - spaces were always just a single space and never were concatenated in the tokenizer"
   ]
  },
  {
   "cell_type": "code",
   "execution_count": 501,
   "id": "df5d6740-c1de-4832-8f20-45551c4a3dd6",
   "metadata": {},
   "outputs": [
    {
     "name": "stdout",
     "output_type": "stream",
     "text": [
      "Collecting tiktoken\n",
      "  Downloading tiktoken-0.7.0-cp312-cp312-win_amd64.whl.metadata (6.8 kB)\n",
      "Requirement already satisfied: regex>=2022.1.18 in c:\\users\\lemon\\anaconda3\\lib\\site-packages (from tiktoken) (2023.10.3)\n",
      "Requirement already satisfied: requests>=2.26.0 in c:\\users\\lemon\\anaconda3\\lib\\site-packages (from tiktoken) (2.32.2)\n",
      "Requirement already satisfied: charset-normalizer<4,>=2 in c:\\users\\lemon\\anaconda3\\lib\\site-packages (from requests>=2.26.0->tiktoken) (2.0.4)\n",
      "Requirement already satisfied: idna<4,>=2.5 in c:\\users\\lemon\\anaconda3\\lib\\site-packages (from requests>=2.26.0->tiktoken) (3.7)\n",
      "Requirement already satisfied: urllib3<3,>=1.21.1 in c:\\users\\lemon\\anaconda3\\lib\\site-packages (from requests>=2.26.0->tiktoken) (2.2.2)\n",
      "Requirement already satisfied: certifi>=2017.4.17 in c:\\users\\lemon\\anaconda3\\lib\\site-packages (from requests>=2.26.0->tiktoken) (2024.7.4)\n",
      "Downloading tiktoken-0.7.0-cp312-cp312-win_amd64.whl (799 kB)\n",
      "   ---------------------------------------- 0.0/799.3 kB ? eta -:--:--\n",
      "   - -------------------------------------- 30.7/799.3 kB 1.4 MB/s eta 0:00:01\n",
      "   --------------------------------------  798.7/799.3 kB 12.7 MB/s eta 0:00:01\n",
      "   --------------------------------------- 799.3/799.3 kB 10.1 MB/s eta 0:00:00\n",
      "Installing collected packages: tiktoken\n",
      "Successfully installed tiktoken-0.7.0\n",
      "Note: you may need to restart the kernel to use updated packages.\n"
     ]
    }
   ],
   "source": [
    "%pip install tiktoken"
   ]
  },
  {
   "cell_type": "code",
   "execution_count": 502,
   "id": "6b6e92f5-ef87-4626-b975-cfc7b9990fe0",
   "metadata": {},
   "outputs": [
    {
     "name": "stdout",
     "output_type": "stream",
     "text": [
      "[220, 220, 220, 220, 23748, 995, 10185]\n",
      "[257, 24748, 1917, 12340]\n"
     ]
    }
   ],
   "source": [
    "# tiktoken library for openAI - official library for tokenizer!\n",
    "import tiktoken\n",
    "\n",
    "# GPT-2 (does not merge spaces)\n",
    "enc = tiktoken.get_encoding(\"gpt2\")\n",
    "print(enc.encode(\"     hello world!!!\"))\n",
    "\n",
    "# GPT-4 (does not merge spaces)\n",
    "enc = tiktoken.get_encoding(\"cl100k_base\")\n",
    "print(enc.encode(\"     hello world!!!\"))\n",
    "\n",
    "# we can look through the gpt docs for tiktoken_ext to see how regexes work in gpt2 and gpt4\n",
    "# some additional whitespace handling\n",
    "# no case sensitivity\n",
    "# they will never merge numbers more than 3 digits long \n",
    "\n"
   ]
  },
  {
   "cell_type": "code",
   "execution_count": 505,
   "id": "c19d233f-6f02-42dc-9071-2520d856193e",
   "metadata": {},
   "outputs": [
    {
     "name": "stderr",
     "output_type": "stream",
     "text": [
      "'wget' is not recognized as an internal or external command,\n",
      "operable program or batch file.\n",
      "'wget' is not recognized as an internal or external command,\n",
      "operable program or batch file.\n"
     ]
    }
   ],
   "source": [
    "# NEXT SECTION: going through the encoder.py file for gpt-2 repo (publicly avail) - need to get the windows version\n",
    "!wget https://openaipublic.blob.core.windows.net/gpt-2/models/1558M/vocab.bpe\n",
    "!wget https://openaipublic.blob.core.windows.net/gpt-2/models/1558M/encoder.json\n",
    "# their \"encoder\" is exactly equivalent to their vocab"
   ]
  },
  {
   "cell_type": "code",
   "execution_count": 509,
   "id": "27fb0d10-c4f0-4913-8d64-4dc88c05392c",
   "metadata": {},
   "outputs": [],
   "source": [
    "import os, json\n",
    "\n",
    "with open('encoder.json', 'r') as f:\n",
    "    encoder = json.load(f)\n",
    "\n",
    "with open('vocab.bpe', 'r', encoding=\"utf-8\") as f:\n",
    "    bpe_data = f.read()\n",
    "bpe_merges = [tuple(merge_str.split()) for merge_str in bpe_data.split('\\n')[1:-1]]"
   ]
  },
  {
   "cell_type": "code",
   "execution_count": null,
   "id": "ddac6765-074b-41f0-b693-43cb60d8ce48",
   "metadata": {},
   "outputs": [],
   "source": [
    "# interesting note: there is a seperate layer used with the tokenization ->  byte encode, encode; decode, byte decode (interesting but not useful)\n",
    "# otherwise the encoder/decoder are very similar to what we've done above\n"
   ]
  },
  {
   "cell_type": "code",
   "execution_count": 523,
   "id": "2e34525b-e8c4-4085-a53d-fe1e7718d6dd",
   "metadata": {},
   "outputs": [
    {
     "data": {
      "text/plain": [
       "50257"
      ]
     },
     "execution_count": 523,
     "metadata": {},
     "output_type": "execute_result"
    }
   ],
   "source": [
    "# SPECIAL TOKENS!\n",
    "len(encoder) # why 50257? -> 256 raw byte tokens, 50,000 merges, PLUS an end of text token\n",
    "# Note that special token used pervasively in language modeling, fine tuning stage to delimit conversations between bot and end user\n",
    "# so we have other tokens -> <|im_start|>, <|im_end|> etc\n",
    "# you can FORK the tiktoken repo to check out tokens & modify your own\n",
    "# FIM prefix, middle, suffix -> special tokens to \"fill in middle\"\n",
    "# endofprompt, endoftext also used as special tokens\n",
    "# NOTE that you ahve to modify the neural network any time you change the tokens -> embedding matrix for vocab and output layer need to be changed!\n",
    "# now we have enough to build a gpt-4-like tokenizer!\n"
   ]
  },
  {
   "cell_type": "code",
   "execution_count": 3,
   "id": "4b8c13a5-eefa-4cc3-a3d6-f94fdfe7e67a",
   "metadata": {},
   "outputs": [],
   "source": [
    "def get_stats(ids):\n",
    "    counts = {}\n",
    "    for pair in zip(ids, ids[1:]):\n",
    "        counts[pair] = counts.get(pair, 0) + 1\n",
    "    return counts\n",
    "\n",
    "def merge(ids, pair, idx):\n",
    "  newids = []\n",
    "  i = 0\n",
    "  while i < len(ids):\n",
    "    if i < len(ids) - 1 and ids[i] == pair[0] and ids[i+1] == pair[1]:\n",
    "      newids.append(idx)\n",
    "      i += 2\n",
    "    else:\n",
    "      newids.append(ids[i])\n",
    "      i += 1\n",
    "  return newids\n"
   ]
  },
  {
   "cell_type": "code",
   "execution_count": 107,
   "id": "4ff958a2-d007-467f-a1b1-ba3594a09482",
   "metadata": {},
   "outputs": [],
   "source": [
    "class BasicTokenizer:\n",
    "\n",
    "    def __init__(self):\n",
    "        pass\n",
    "\n",
    "    \n",
    "    def train(self, text, vocab_size, verbose=False):\n",
    "        # create tokens\n",
    "        tokens= text.encode(\"utf-8\") # raw bytes\n",
    "        tokens = list(map(int,tokens)) # convert to a list of integers in range from 0 to 255 -> for convenience\n",
    "\n",
    "        # set up merges and vocab size\n",
    "        num_merges = vocab_size - 256\n",
    "        self.ids = list(tokens) # initializing token list\n",
    "        self.merges = {} # (int, int) -> int\n",
    "\n",
    "        # loop to create new tokens via byte-pair encoding\n",
    "        for i in range(num_merges):\n",
    "          stats = get_stats(self.ids)\n",
    "          pair = max(stats, key=stats.get)\n",
    "          idx = 256 + i\n",
    "          if verbose:\n",
    "              print(f\"merging {pair} into a new token {idx}\")\n",
    "          self.ids = merge(self.ids, pair, idx)\n",
    "          self.merges[pair] = idx\n",
    "          progressbar(i, num_merges-1, \"Byte-Pair Encoding Progress: \")\n",
    "        print()\n",
    "        self.vocab = {idx: bytes([idx]) for idx in range(256)}\n",
    "        for (p0, p1), idx in self.merges.items():\n",
    "            self.vocab[idx] = self.vocab[p0] + self.vocab[p1]\n",
    "\n",
    "        return self.merges, self.ids\n",
    "\n",
    "\n",
    "    def encode(self, text):\n",
    "        # given a string, return a list of integers (the tokens)\n",
    "        tokens = list(text.encode(\"utf-8\")) # starting token\n",
    "        # merge now\n",
    "        if len(text) >= 2:\n",
    "            while True:\n",
    "                stats = get_stats(tokens)\n",
    "                pair = min(stats, key=lambda p: self.merges.get(p, float(\"inf\"))) # float inf makes sure any non-merge pair is coded as infinity\n",
    "                if pair not in self.merges:\n",
    "                    break # once we don't find a merge candidate we break\n",
    "        \n",
    "                idx = self.merges[pair]\n",
    "                tokens = merge(tokens, pair, idx)\n",
    "        \n",
    "        return tokens\n",
    "\n",
    "\n",
    "\n",
    "    def decode(self, ids):\n",
    "        # given ids (list of integers), return python string\n",
    "        tokens = b\"\".join(self.vocab[idx] for idx in ids)\n",
    "        text = tokens.decode(\"utf-8\", errors='replace')        \n",
    "        return text\n",
    "\n",
    "\n"
   ]
  },
  {
   "cell_type": "code",
   "execution_count": 103,
   "id": "e54e29cf-abf6-4662-95d9-e6d33b955fef",
   "metadata": {},
   "outputs": [],
   "source": [
    "with open('taylorswift.txt', 'r', encoding=\"utf-8\") as f:\n",
    "    text = f.read()"
   ]
  },
  {
   "cell_type": "code",
   "execution_count": 109,
   "id": "0391fd0c-301f-4a98-8454-0d538c9fa317",
   "metadata": {},
   "outputs": [
    {
     "name": "stdout",
     "output_type": "stream",
     "text": [
      "Byte-Pair Encoding Progress: |==================================================|\n"
     ]
    },
    {
     "data": {
      "text/plain": [
       "'hello world'"
      ]
     },
     "execution_count": 109,
     "metadata": {},
     "output_type": "execute_result"
    }
   ],
   "source": [
    "tokenboi=BasicTokenizer()\n",
    "_, _ = tokenboi.train(text, 1000)\n",
    "tokend = tokenboi.encode(\"hello world\")\n",
    "tokenboi.decode(tokend)"
   ]
  },
  {
   "cell_type": "markdown",
   "id": "6a77f1a6-72ff-4923-99cd-8fb79e9fc60b",
   "metadata": {},
   "source": [
    "# Adding Regex splits to the mix"
   ]
  },
  {
   "cell_type": "code",
   "execution_count": 93,
   "id": "fd3a0afb-ae36-465f-8fdd-76ecd2f1c9bb",
   "metadata": {},
   "outputs": [],
   "source": [
    "def progressbar(it, maxval, front_text=''):\n",
    "    prog=int(it/maxval*50)\n",
    "    #print(prog)\n",
    "    a=''.join([\"=\"]*prog)\n",
    "    b=''.join([\" \"]*(50-prog))\n",
    "    print(front_text + \"|\"+a+b+'|', end='\\r')"
   ]
  },
  {
   "cell_type": "code",
   "execution_count": 111,
   "id": "0adee723-846c-429b-89ad-f8643956b1a1",
   "metadata": {},
   "outputs": [],
   "source": [
    "import os, sys, time\n",
    "import regex as re"
   ]
  },
  {
   "cell_type": "code",
   "execution_count": 113,
   "id": "79bc82a8-15f4-4b2c-bc59-48287017fa2f",
   "metadata": {},
   "outputs": [],
   "source": [
    "GPT4_SPLIT_PATTERN = r\"\"\"'(?i:[sdmt]|ll|ve|re)|[^\\r\\n\\p{L}\\p{N}]?+\\p{L}+|\\p{N}{1,3}| ?[^\\s\\p{L}\\p{N}]++[\\r\\n]*|\\s*[\\r\\n]|\\s+(?!\\S)|\\s+\"\"\""
   ]
  },
  {
   "cell_type": "code",
   "execution_count": 203,
   "id": "333eb2ac-c7a4-4f31-a5dc-49add1ae6ba5",
   "metadata": {
    "scrolled": true
   },
   "outputs": [],
   "source": [
    "GPT4_SPECIAL_TOKENS = {\n",
    "    '<|endoftext|>': 100257,\n",
    "    '<|fim_prefix|>': 100258,\n",
    "    '<|fim_middle|>': 100259,\n",
    "    '<|fim_suffix|>': 100260,\n",
    "    '<|endofprompt|>': 100276\n",
    "}"
   ]
  },
  {
   "cell_type": "code",
   "execution_count": 169,
   "id": "c4b15c2d-474b-4454-8d59-a23518ba6d1f",
   "metadata": {},
   "outputs": [],
   "source": [
    "def get_stats_list(ids_list):\n",
    "    counts = {}\n",
    "    for ids in ids_list:\n",
    "        for pair in zip(ids, ids[1:]):\n",
    "            counts[pair] = counts.get(pair, 0) + 1\n",
    "    return counts\n",
    "\n",
    "def merge(ids, pair, idx):\n",
    "  newids = []\n",
    "  i = 0\n",
    "  while i < len(ids):\n",
    "    if i < len(ids) - 1 and ids[i] == pair[0] and ids[i+1] == pair[1]:\n",
    "      newids.append(idx)\n",
    "      i += 2\n",
    "    else:\n",
    "      newids.append(ids[i])\n",
    "      i += 1\n",
    "  return newids"
   ]
  },
  {
   "cell_type": "code",
   "execution_count": null,
   "id": "6d8689fb-9207-44ce-a483-5d1de1cad86d",
   "metadata": {},
   "outputs": [],
   "source": [
    "def recover_merges(mergeable_ranks):\n",
    "    # the `merges` are already the byte sequences in their merged state.\n",
    "    # so we have to recover the original pairings. We can do this by doing\n",
    "    # a small BPE training run on all the tokens, in their order.\n",
    "    # also see https://github.com/openai/tiktoken/issues/60\n",
    "    # also see https://github.com/karpathy/minbpe/issues/11#issuecomment-1950805306\n",
    "    merges = {}\n",
    "    for token, rank in mergeable_ranks.items():\n",
    "        if len(token) == 1:\n",
    "            continue # skip raw bytes\n",
    "        pair = tuple(bpe(mergeable_ranks, token, max_rank=rank))\n",
    "        assert len(pair) == 2\n",
    "        # recover the integer ranks of the pair\n",
    "        ix0 = mergeable_ranks[pair[0]]\n",
    "        ix1 = mergeable_ranks[pair[1]]\n",
    "        merges[(ix0, ix1)] = rank\n",
    "\n",
    "    return merges"
   ]
  },
  {
   "cell_type": "code",
   "execution_count": 193,
   "id": "6a4088dd-6a6c-49aa-9204-3ec4cea1434e",
   "metadata": {},
   "outputs": [],
   "source": [
    "class RegexTokenizer:\n",
    "\n",
    "    def __init__(self):\n",
    "        pass\n",
    "\n",
    "\n",
    "    def get_stats_list(self, ids_list):\n",
    "        counts = {}\n",
    "        for ids in ids_list:\n",
    "            for pair in zip(ids, ids[1:]):\n",
    "                counts[pair] = counts.get(pair, 0) + 1\n",
    "        return counts \n",
    "\n",
    "    \n",
    "        \n",
    "    \n",
    "    def train(self, text, vocab_size, regex_pattern, verbose=False):\n",
    "        # create tokens\n",
    "\n",
    "        patcomp = re.compile(regex_pattern)\n",
    "        sptext = re.findall(patcomp,text)\n",
    "        \n",
    "        tokens= [t.encode(\"utf-8\") for t in sptext] # raw bytes\n",
    "        tokens = [list(map(int,t)) for t in tokens] # convert to a list of integers in range from 0 to 255 -> for convenience\n",
    "\n",
    "        # set up merges and vocab size\n",
    "        num_merges = vocab_size - 256\n",
    "        self.ids = [list(t) for t in tokens] # initializing token list (list of lists)\n",
    "        self.merges = {} # (int, int) -> int\n",
    "\n",
    "        # loop to create new tokens via byte-pair encoding\n",
    "        for i in range(num_merges):\n",
    "          \n",
    "            stats = self.get_stats_list(self.ids)\n",
    "\n",
    "            if len(stats) == 0 or max([len(id) for id in self.ids]) == 1:\n",
    "                print()\n",
    "                print('reached the end of mergeable tokens for training text')\n",
    "                print('total tokens: ' + str(idx))\n",
    "                break\n",
    "            pair = max(stats, key=stats.get)\n",
    "            idx = 256 + i\n",
    "            if verbose:\n",
    "                print(f\"merging {pair} into a new token {idx}\")\n",
    "            self.ids = [merge(id, pair, idx) for id in self.ids]\n",
    "            self.merges[pair] = idx\n",
    "            progressbar(i, num_merges-1, \"Byte-Pair Encoding Progress: \")\n",
    "        print()\n",
    "        self.vocab = {idx: bytes([idx]) for idx in range(256)}\n",
    "        print('Token Merging Complete.')\n",
    "        for (p0, p1), idx in self.merges.items():\n",
    "            self.vocab[idx] = self.vocab[p0] + self.vocab[p1]\n",
    "\n",
    "        return self.merges, self.ids\n",
    "\n",
    "\n",
    "    def encode(self, text):\n",
    "        # given a string, return a list of integers (the tokens)\n",
    "        tokens = list(text.encode(\"utf-8\")) # starting token\n",
    "        # merge now\n",
    "        if len(text) >= 2:\n",
    "            while True:\n",
    "                stats = get_stats(tokens)\n",
    "                pair = min(stats, key=lambda p: self.merges.get(p, float(\"inf\"))) # float inf makes sure any non-merge pair is coded as infinity\n",
    "                if pair not in self.merges:\n",
    "                    break # once we don't find a merge candidate we break\n",
    "        \n",
    "                idx = self.merges[pair]\n",
    "                tokens = merge(tokens, pair, idx)\n",
    "        \n",
    "        return tokens\n",
    "\n",
    "\n",
    "\n",
    "    def decode(self, ids):\n",
    "        # given ids (list of integers), return python string\n",
    "        tokens = b\"\".join(self.vocab[idx] for idx in ids)\n",
    "        text = tokens.decode(\"utf-8\", errors='replace')        \n",
    "        return text\n",
    "\n",
    "\n"
   ]
  },
  {
   "cell_type": "code",
   "execution_count": 195,
   "id": "91d91b04-d5c6-4850-9f81-19fc06430e0e",
   "metadata": {},
   "outputs": [
    {
     "name": "stdout",
     "output_type": "stream",
     "text": [
      "Byte-Pair Encoding Progress: |=====                                             |\n",
      "reached the end of mergeable tokens for training text\n",
      "total tokens: 10416\n",
      "\n",
      "Token Merging Complete.\n"
     ]
    },
    {
     "data": {
      "text/plain": [
       "'hello world!!!? (안녕하세요!) lol123 😉'"
      ]
     },
     "execution_count": 195,
     "metadata": {},
     "output_type": "execute_result"
    }
   ],
   "source": [
    "tokenbb=RegexTokenizer()\n",
    "_, _ = tokenbb.train(text, 100000, GPT4_SPLIT_PATTERN)\n",
    "tokendo = tokenbb.encode(\"hello world!!!? (안녕하세요!) lol123 😉\")\n",
    "tokenbb.decode(tokendo)"
   ]
  },
  {
   "cell_type": "code",
   "execution_count": 199,
   "id": "8e7ca32c-7a4c-4c70-aeae-8f22785a0510",
   "metadata": {},
   "outputs": [],
   "source": [
    "import tiktoken\n",
    "import tiktoken\n",
    "enc = tiktoken.get_encoding(\"cl100k_base\") # this is the GPT-4 tokenizer\n",
    "ids = enc.encode(\"hello world!!!? (안녕하세요!) lol123 😉\")\n",
    "text = enc.decode(ids) # get the same text back"
   ]
  },
  {
   "cell_type": "code",
   "execution_count": 214,
   "id": "55def33a-d2b6-4649-be16-5159c489ea6b",
   "metadata": {},
   "outputs": [
    {
     "name": "stdout",
     "output_type": "stream",
     "text": [
      "[15339, 1917, 12340, 30, 320, 31495, 230, 75265, 243, 92245, 16715, 28509, 4513, 57037]\n",
      "True\n"
     ]
    }
   ],
   "source": [
    "print(enc.encode(\"hello world!!!? (안녕하세요!) lol123 😉\"))\n",
    "print(enc.decode(enc.encode(\"hello world!!!? (안녕하세요!) lol123 😉\")) == \"hello world!!!? (안녕하😉요!) lol123 😉\")"
   ]
  },
  {
   "cell_type": "code",
   "execution_count": 183,
   "id": "96b531b0-ffc1-4a17-8a1f-e3d555833bc0",
   "metadata": {},
   "outputs": [],
   "source": [
    "idlist=[]\n",
    "for i in tokenbb.ids:\n",
    "    for j in i:\n",
    "        idlist.append(j)\n",
    "        "
   ]
  },
  {
   "cell_type": "code",
   "execution_count": 191,
   "id": "52e4317d-b6f8-4b9e-8389-d625048c5b8a",
   "metadata": {},
   "outputs": [
    {
     "data": {
      "text/plain": [
       "0"
      ]
     },
     "execution_count": 191,
     "metadata": {},
     "output_type": "execute_result"
    }
   ],
   "source": [
    "len(get_stats_list(tokenbb.ids))"
   ]
  },
  {
   "cell_type": "code",
   "execution_count": 216,
   "id": "a0c686fb-97b3-4ae8-ae7a-98fee25d8233",
   "metadata": {},
   "outputs": [],
   "source": [
    "\n",
    "def recover_merges(mergeable_ranks):\n",
    "    # the `merges` are already the byte sequences in their merged state.\n",
    "    # so we have to recover the original pairings. We can do this by doing\n",
    "    # a small BPE training run on all the tokens, in their order.\n",
    "    # also see https://github.com/openai/tiktoken/issues/60\n",
    "    # also see https://github.com/karpathy/minbpe/issues/11#issuecomment-1950805306\n",
    "    merges = {}\n",
    "    for token, rank in mergeable_ranks.items():\n",
    "        if len(token) == 1:\n",
    "            continue # skip raw bytes\n",
    "        pair = tuple(bpe(mergeable_ranks, token, max_rank=rank))\n",
    "        assert len(pair) == 2\n",
    "        # recover the integer ranks of the pair\n",
    "        ix0 = mergeable_ranks[pair[0]]\n",
    "        ix1 = mergeable_ranks[pair[1]]\n",
    "        merges[(ix0, ix1)] = rank\n",
    "\n",
    "    return merges\n",
    "\n",
    "\n",
    "def bpe(mergeable_ranks, token, max_rank):\n",
    "    # helper function used in get_gpt4_merges() to reconstruct the merge forest\n",
    "    parts = [bytes([b]) for b in token]\n",
    "    while True:\n",
    "        min_idx = None\n",
    "        min_rank = None\n",
    "        for i, pair in enumerate(zip(parts[:-1], parts[1:])):\n",
    "            rank = mergeable_ranks.get(pair[0] + pair[1])\n",
    "            if rank is not None and (min_rank is None or rank < min_rank):\n",
    "                min_idx = i\n",
    "                min_rank = rank\n",
    "        if min_rank is None or (max_rank is not None and min_rank >= max_rank):\n",
    "            break\n",
    "        assert min_idx is not None\n",
    "        parts = parts[:min_idx] + [parts[min_idx] + parts[min_idx + 1]] + parts[min_idx + 2:]\n",
    "    return parts"
   ]
  },
  {
   "cell_type": "code",
   "execution_count": null,
   "id": "5050671d",
   "metadata": {},
   "outputs": [],
   "source": []
  },
  {
   "cell_type": "code",
   "execution_count": null,
   "id": "d9da1847",
   "metadata": {},
   "outputs": [],
   "source": []
  },
  {
   "cell_type": "code",
   "execution_count": 234,
   "id": "17c72229-155a-4fda-a1dc-2e8529875405",
   "metadata": {
    "scrolled": true
   },
   "outputs": [
    {
     "data": {
      "text/plain": [
       "[b'h',\n",
       " b'e',\n",
       " b'l',\n",
       " b'l',\n",
       " b'o',\n",
       " b' ',\n",
       " b't',\n",
       " b'h',\n",
       " b'i',\n",
       " b's',\n",
       " b' ',\n",
       " b'i',\n",
       " b's',\n",
       " b' ',\n",
       " b'd',\n",
       " b'o',\n",
       " b'g',\n",
       " b'!',\n",
       " b'\\xf0\\x9f\\x98\\x89',\n",
       " b'\\xf0\\x9f\\x98\\x89']"
      ]
     },
     "execution_count": 234,
     "metadata": {},
     "output_type": "execute_result"
    }
   ],
   "source": [
    "[bytes(b, encoding='utf-8') for b in 'hello this is dog!😉😉']"
   ]
  },
  {
   "cell_type": "markdown",
   "id": "88482f23",
   "metadata": {},
   "source": [
    "# Sentencepiece - commonly used bc it can efficiently train and inference BPE tokenizers"
   ]
  },
  {
   "cell_type": "code",
   "execution_count": 1,
   "id": "38439db5",
   "metadata": {},
   "outputs": [],
   "source": [
    "# Sentencepiece is a little different\n",
    "# with tiktoken -> we encode to utf-8 and merge using bytes\n",
    "# with sentencepiece -> it looks directly at the codepoints themselves\n",
    "    # if there are codepoints that don't come up so often (super rare) -> might get an unknown \n",
    "    # OR if you have the (byte_fallback) option turned on, it'll encode to utf-8, translate to new tokens\n",
    "# AK sees tiktoken to be much cleaner overall, though\n"
   ]
  },
  {
   "cell_type": "code",
   "execution_count": 2,
   "id": "46e08652",
   "metadata": {},
   "outputs": [
    {
     "name": "stdout",
     "output_type": "stream",
     "text": [
      "Collecting sentencepiece\n",
      "  Downloading sentencepiece-0.2.0-cp310-cp310-win_amd64.whl (991 kB)\n",
      "     -------------------------------------- 991.5/991.5 kB 4.5 MB/s eta 0:00:00\n",
      "Installing collected packages: sentencepiece\n",
      "Successfully installed sentencepiece-0.2.0\n",
      "Note: you may need to restart the kernel to use updated packages.\n"
     ]
    }
   ],
   "source": [
    "%pip install sentencepiece"
   ]
  },
  {
   "cell_type": "code",
   "execution_count": 6,
   "id": "2fe11189",
   "metadata": {},
   "outputs": [],
   "source": [
    "import sentencepiece as spm\n",
    "import os"
   ]
  },
  {
   "cell_type": "code",
   "execution_count": 5,
   "id": "d46acc52",
   "metadata": {},
   "outputs": [],
   "source": [
    "# write a toy.txt file with some random text\n",
    "with open('toy.txt', 'w', encoding='utf-8') as f:\n",
    "    f.write(\"sentencepiece is an unupervised text tokenizer and decoder mainly used for Neural Networ-based text generation. They said I can write whatever I want so let's stream of consciousness this mfer. It's gorgeous out right now and that's why I'm writing this from the patio - but I have no idea why I would decide to write about the weather. I guess it's just because most people talk about it so it becomes just, like, a default way of talking about things. It is really special here, though. The view is unbeatable and I think this is the kind of place that I would be cool retiring to. Maybe somewere with a little more accessibility but overall it's quiet and peaceful and the bridge is a great view. I wonder what the old version looked like - I heard it was kinda crappy and loud but who knows. It probably won't be worse than this. I can only wonder, though, if anything happens with this area. We are fairly close to the waterline and if any flooding occurs, this place is close to underwater. I think we have a good 10-15 feet and we're not in a low spot per se, but this place could get a lot less accessible and erosion could be a potential issue if things deteriorate in 20 or so years. Hopefully by the time I have to retire, this place will still be in nice condition and we can enjoy the place once again. Okay back to work.\")"
   ]
  },
  {
   "cell_type": "markdown",
   "id": "5290c774",
   "metadata": {},
   "source": [
    "Docs for sentence piece options:\n",
    "- markdown\n",
    "- protobuf \n",
    "\n",
    "(there were links here I can't access)"
   ]
  },
  {
   "cell_type": "code",
   "execution_count": 18,
   "id": "65859775",
   "metadata": {},
   "outputs": [],
   "source": [
    "# sentencepiece has been around for a while and accounts for a lot of history (good and bad things)\n",
    "# train a sentencepiece model on toy.txt\n",
    "# the settings here are (best effort) those used for training llama 2\n",
    "import os\n",
    "\n",
    "options = dict(\n",
    "    # input spec\n",
    "    input='toy.txt',\n",
    "    input_format='text',\n",
    "    \n",
    "    # output spec\n",
    "    model_prefix='tok400', #output filename prefix\n",
    "    \n",
    "    #algorithm spec\n",
    "    #bpe alg\n",
    "    model_type='bpe',\n",
    "    vocab_size=400,\n",
    "    \n",
    "    #normalization - used to be prevalent in NLP BEFORE LLMs\n",
    "    normalization_rule_name='identity', #turn off normalization\n",
    "    remove_extra_whitespaces=False,\n",
    "    input_sentence_size=2000000000, #max number of training sentences\n",
    "    max_sentence_length=4192, # max number of bytes per sentence\n",
    "    seed_sentencepiece_size=1000000,\n",
    "    shuffle_input_sentence=True,\n",
    "    \n",
    "    # rare word treatment\n",
    "    character_coverage=0.99995, # if a character is (1 - THIS) rare, it's excluded from our vocab\n",
    "    byte_fallback=True,\n",
    "    \n",
    "    # merge rules\n",
    "    split_digits=True,\n",
    "    split_by_unicode_script=True,\n",
    "    split_by_whitespace=True,\n",
    "    split_by_number=True,\n",
    "    max_sentencepiece_length=16,\n",
    "    add_dummy_prefix=True,\n",
    "    allow_whitespace_only_pieces=True,\n",
    "    \n",
    "    #special tokens\n",
    "    unk_id=0, #the unk token MUST exist\n",
    "    bos_id=1, # the others are optional - set to -1 to turn off\n",
    "    eos_id=2, #end of sentence\n",
    "    pad_id=-1, \n",
    "    \n",
    "    #systems\n",
    "    num_threads=os.cpu_count()\n",
    "    \n",
    ")\n",
    "spm.SentencePieceTrainer.train(**options)"
   ]
  },
  {
   "cell_type": "code",
   "execution_count": 19,
   "id": "b521f3ec",
   "metadata": {},
   "outputs": [],
   "source": [
    "sp = spm.SentencePieceProcessor()\n",
    "sp.load('tok400.model')\n",
    "vocab= [[sp.id_to_piece(idx), idx] for idx in range(sp.get_piece_size())]"
   ]
  },
  {
   "cell_type": "code",
   "execution_count": 11,
   "id": "3116c512",
   "metadata": {
    "scrolled": true
   },
   "outputs": [
    {
     "data": {
      "text/plain": [
       "[['<unk>', 0],\n",
       " ['<s>', 1],\n",
       " ['</s>', 2],\n",
       " ['<0x00>', 3],\n",
       " ['<0x01>', 4],\n",
       " ['<0x02>', 5],\n",
       " ['<0x03>', 6],\n",
       " ['<0x04>', 7],\n",
       " ['<0x05>', 8],\n",
       " ['<0x06>', 9],\n",
       " ['<0x07>', 10],\n",
       " ['<0x08>', 11],\n",
       " ['<0x09>', 12],\n",
       " ['<0x0A>', 13],\n",
       " ['<0x0B>', 14],\n",
       " ['<0x0C>', 15],\n",
       " ['<0x0D>', 16],\n",
       " ['<0x0E>', 17],\n",
       " ['<0x0F>', 18],\n",
       " ['<0x10>', 19],\n",
       " ['<0x11>', 20],\n",
       " ['<0x12>', 21],\n",
       " ['<0x13>', 22],\n",
       " ['<0x14>', 23],\n",
       " ['<0x15>', 24],\n",
       " ['<0x16>', 25],\n",
       " ['<0x17>', 26],\n",
       " ['<0x18>', 27],\n",
       " ['<0x19>', 28],\n",
       " ['<0x1A>', 29],\n",
       " ['<0x1B>', 30],\n",
       " ['<0x1C>', 31],\n",
       " ['<0x1D>', 32],\n",
       " ['<0x1E>', 33],\n",
       " ['<0x1F>', 34],\n",
       " ['<0x20>', 35],\n",
       " ['<0x21>', 36],\n",
       " ['<0x22>', 37],\n",
       " ['<0x23>', 38],\n",
       " ['<0x24>', 39],\n",
       " ['<0x25>', 40],\n",
       " ['<0x26>', 41],\n",
       " ['<0x27>', 42],\n",
       " ['<0x28>', 43],\n",
       " ['<0x29>', 44],\n",
       " ['<0x2A>', 45],\n",
       " ['<0x2B>', 46],\n",
       " ['<0x2C>', 47],\n",
       " ['<0x2D>', 48],\n",
       " ['<0x2E>', 49],\n",
       " ['<0x2F>', 50],\n",
       " ['<0x30>', 51],\n",
       " ['<0x31>', 52],\n",
       " ['<0x32>', 53],\n",
       " ['<0x33>', 54],\n",
       " ['<0x34>', 55],\n",
       " ['<0x35>', 56],\n",
       " ['<0x36>', 57],\n",
       " ['<0x37>', 58],\n",
       " ['<0x38>', 59],\n",
       " ['<0x39>', 60],\n",
       " ['<0x3A>', 61],\n",
       " ['<0x3B>', 62],\n",
       " ['<0x3C>', 63],\n",
       " ['<0x3D>', 64],\n",
       " ['<0x3E>', 65],\n",
       " ['<0x3F>', 66],\n",
       " ['<0x40>', 67],\n",
       " ['<0x41>', 68],\n",
       " ['<0x42>', 69],\n",
       " ['<0x43>', 70],\n",
       " ['<0x44>', 71],\n",
       " ['<0x45>', 72],\n",
       " ['<0x46>', 73],\n",
       " ['<0x47>', 74],\n",
       " ['<0x48>', 75],\n",
       " ['<0x49>', 76],\n",
       " ['<0x4A>', 77],\n",
       " ['<0x4B>', 78],\n",
       " ['<0x4C>', 79],\n",
       " ['<0x4D>', 80],\n",
       " ['<0x4E>', 81],\n",
       " ['<0x4F>', 82],\n",
       " ['<0x50>', 83],\n",
       " ['<0x51>', 84],\n",
       " ['<0x52>', 85],\n",
       " ['<0x53>', 86],\n",
       " ['<0x54>', 87],\n",
       " ['<0x55>', 88],\n",
       " ['<0x56>', 89],\n",
       " ['<0x57>', 90],\n",
       " ['<0x58>', 91],\n",
       " ['<0x59>', 92],\n",
       " ['<0x5A>', 93],\n",
       " ['<0x5B>', 94],\n",
       " ['<0x5C>', 95],\n",
       " ['<0x5D>', 96],\n",
       " ['<0x5E>', 97],\n",
       " ['<0x5F>', 98],\n",
       " ['<0x60>', 99],\n",
       " ['<0x61>', 100],\n",
       " ['<0x62>', 101],\n",
       " ['<0x63>', 102],\n",
       " ['<0x64>', 103],\n",
       " ['<0x65>', 104],\n",
       " ['<0x66>', 105],\n",
       " ['<0x67>', 106],\n",
       " ['<0x68>', 107],\n",
       " ['<0x69>', 108],\n",
       " ['<0x6A>', 109],\n",
       " ['<0x6B>', 110],\n",
       " ['<0x6C>', 111],\n",
       " ['<0x6D>', 112],\n",
       " ['<0x6E>', 113],\n",
       " ['<0x6F>', 114],\n",
       " ['<0x70>', 115],\n",
       " ['<0x71>', 116],\n",
       " ['<0x72>', 117],\n",
       " ['<0x73>', 118],\n",
       " ['<0x74>', 119],\n",
       " ['<0x75>', 120],\n",
       " ['<0x76>', 121],\n",
       " ['<0x77>', 122],\n",
       " ['<0x78>', 123],\n",
       " ['<0x79>', 124],\n",
       " ['<0x7A>', 125],\n",
       " ['<0x7B>', 126],\n",
       " ['<0x7C>', 127],\n",
       " ['<0x7D>', 128],\n",
       " ['<0x7E>', 129],\n",
       " ['<0x7F>', 130],\n",
       " ['<0x80>', 131],\n",
       " ['<0x81>', 132],\n",
       " ['<0x82>', 133],\n",
       " ['<0x83>', 134],\n",
       " ['<0x84>', 135],\n",
       " ['<0x85>', 136],\n",
       " ['<0x86>', 137],\n",
       " ['<0x87>', 138],\n",
       " ['<0x88>', 139],\n",
       " ['<0x89>', 140],\n",
       " ['<0x8A>', 141],\n",
       " ['<0x8B>', 142],\n",
       " ['<0x8C>', 143],\n",
       " ['<0x8D>', 144],\n",
       " ['<0x8E>', 145],\n",
       " ['<0x8F>', 146],\n",
       " ['<0x90>', 147],\n",
       " ['<0x91>', 148],\n",
       " ['<0x92>', 149],\n",
       " ['<0x93>', 150],\n",
       " ['<0x94>', 151],\n",
       " ['<0x95>', 152],\n",
       " ['<0x96>', 153],\n",
       " ['<0x97>', 154],\n",
       " ['<0x98>', 155],\n",
       " ['<0x99>', 156],\n",
       " ['<0x9A>', 157],\n",
       " ['<0x9B>', 158],\n",
       " ['<0x9C>', 159],\n",
       " ['<0x9D>', 160],\n",
       " ['<0x9E>', 161],\n",
       " ['<0x9F>', 162],\n",
       " ['<0xA0>', 163],\n",
       " ['<0xA1>', 164],\n",
       " ['<0xA2>', 165],\n",
       " ['<0xA3>', 166],\n",
       " ['<0xA4>', 167],\n",
       " ['<0xA5>', 168],\n",
       " ['<0xA6>', 169],\n",
       " ['<0xA7>', 170],\n",
       " ['<0xA8>', 171],\n",
       " ['<0xA9>', 172],\n",
       " ['<0xAA>', 173],\n",
       " ['<0xAB>', 174],\n",
       " ['<0xAC>', 175],\n",
       " ['<0xAD>', 176],\n",
       " ['<0xAE>', 177],\n",
       " ['<0xAF>', 178],\n",
       " ['<0xB0>', 179],\n",
       " ['<0xB1>', 180],\n",
       " ['<0xB2>', 181],\n",
       " ['<0xB3>', 182],\n",
       " ['<0xB4>', 183],\n",
       " ['<0xB5>', 184],\n",
       " ['<0xB6>', 185],\n",
       " ['<0xB7>', 186],\n",
       " ['<0xB8>', 187],\n",
       " ['<0xB9>', 188],\n",
       " ['<0xBA>', 189],\n",
       " ['<0xBB>', 190],\n",
       " ['<0xBC>', 191],\n",
       " ['<0xBD>', 192],\n",
       " ['<0xBE>', 193],\n",
       " ['<0xBF>', 194],\n",
       " ['<0xC0>', 195],\n",
       " ['<0xC1>', 196],\n",
       " ['<0xC2>', 197],\n",
       " ['<0xC3>', 198],\n",
       " ['<0xC4>', 199],\n",
       " ['<0xC5>', 200],\n",
       " ['<0xC6>', 201],\n",
       " ['<0xC7>', 202],\n",
       " ['<0xC8>', 203],\n",
       " ['<0xC9>', 204],\n",
       " ['<0xCA>', 205],\n",
       " ['<0xCB>', 206],\n",
       " ['<0xCC>', 207],\n",
       " ['<0xCD>', 208],\n",
       " ['<0xCE>', 209],\n",
       " ['<0xCF>', 210],\n",
       " ['<0xD0>', 211],\n",
       " ['<0xD1>', 212],\n",
       " ['<0xD2>', 213],\n",
       " ['<0xD3>', 214],\n",
       " ['<0xD4>', 215],\n",
       " ['<0xD5>', 216],\n",
       " ['<0xD6>', 217],\n",
       " ['<0xD7>', 218],\n",
       " ['<0xD8>', 219],\n",
       " ['<0xD9>', 220],\n",
       " ['<0xDA>', 221],\n",
       " ['<0xDB>', 222],\n",
       " ['<0xDC>', 223],\n",
       " ['<0xDD>', 224],\n",
       " ['<0xDE>', 225],\n",
       " ['<0xDF>', 226],\n",
       " ['<0xE0>', 227],\n",
       " ['<0xE1>', 228],\n",
       " ['<0xE2>', 229],\n",
       " ['<0xE3>', 230],\n",
       " ['<0xE4>', 231],\n",
       " ['<0xE5>', 232],\n",
       " ['<0xE6>', 233],\n",
       " ['<0xE7>', 234],\n",
       " ['<0xE8>', 235],\n",
       " ['<0xE9>', 236],\n",
       " ['<0xEA>', 237],\n",
       " ['<0xEB>', 238],\n",
       " ['<0xEC>', 239],\n",
       " ['<0xED>', 240],\n",
       " ['<0xEE>', 241],\n",
       " ['<0xEF>', 242],\n",
       " ['<0xF0>', 243],\n",
       " ['<0xF1>', 244],\n",
       " ['<0xF2>', 245],\n",
       " ['<0xF3>', 246],\n",
       " ['<0xF4>', 247],\n",
       " ['<0xF5>', 248],\n",
       " ['<0xF6>', 249],\n",
       " ['<0xF7>', 250],\n",
       " ['<0xF8>', 251],\n",
       " ['<0xF9>', 252],\n",
       " ['<0xFA>', 253],\n",
       " ['<0xFB>', 254],\n",
       " ['<0xFC>', 255],\n",
       " ['<0xFD>', 256],\n",
       " ['<0xFE>', 257],\n",
       " ['<0xFF>', 258],\n",
       " ['▁t', 259],\n",
       " ['▁a', 260],\n",
       " ['▁w', 261],\n",
       " ['▁th', 262],\n",
       " ['er', 263],\n",
       " ['▁i', 264],\n",
       " ['nd', 265],\n",
       " ['▁I', 266],\n",
       " ['ou', 267],\n",
       " ['▁b', 268],\n",
       " ['at', 269],\n",
       " ['ce', 270],\n",
       " ['in', 271],\n",
       " ['▁c', 272],\n",
       " ['▁p', 273],\n",
       " ['▁s', 274],\n",
       " ['re', 275],\n",
       " ['▁and', 276],\n",
       " ['is', 277],\n",
       " ['▁l', 278],\n",
       " ['▁o', 279],\n",
       " ['it', 280],\n",
       " ['▁the', 281],\n",
       " ['▁this', 282],\n",
       " ['al', 283],\n",
       " ['en', 284],\n",
       " ['ing', 285],\n",
       " ['▁is', 286],\n",
       " ['▁to', 287],\n",
       " ['de', 288],\n",
       " ['io', 289],\n",
       " ['ly', 290],\n",
       " ['se', 291],\n",
       " ['▁g', 292],\n",
       " ['▁h', 293],\n",
       " ['ace', 294],\n",
       " ['▁be', 295],\n",
       " ['an', 296],\n",
       " ['et', 297],\n",
       " ['ld', 298],\n",
       " ['or', 299],\n",
       " ['ss', 300],\n",
       " ['▁f', 301],\n",
       " ['▁it', 302],\n",
       " ['▁pl', 303],\n",
       " ['▁wh', 304],\n",
       " ['▁place', 305],\n",
       " ['le', 306],\n",
       " ['no', 307],\n",
       " ['oo', 308],\n",
       " ['ti', 309],\n",
       " ['ut', 310],\n",
       " ['▁m', 311],\n",
       " ['▁u', 312],\n",
       " ['ion', 313],\n",
       " ['out', 314],\n",
       " ['▁de', 315],\n",
       " ['▁ha', 316],\n",
       " ['▁so', 317],\n",
       " ['▁we', 318],\n",
       " ['ould', 319],\n",
       " ['▁but', 320],\n",
       " ['ay', 321],\n",
       " ['ci', 322],\n",
       " ['ew', 323],\n",
       " ['gh', 324],\n",
       " ['ke', 325],\n",
       " ['ot', 326],\n",
       " ['st', 327],\n",
       " ['ul', 328],\n",
       " ['ve', 329],\n",
       " ['▁k', 330],\n",
       " ['▁v', 331],\n",
       " ['ess', 332],\n",
       " ['ond', 333],\n",
       " ['rit', 334],\n",
       " ['▁It', 335],\n",
       " ['▁ab', 336],\n",
       " ['▁an', 337],\n",
       " ['▁if', 338],\n",
       " ['▁in', 339],\n",
       " ['▁no', 340],\n",
       " ['▁of', 341],\n",
       " ['▁re', 342],\n",
       " ['▁can', 343],\n",
       " ['▁have', 344],\n",
       " ['▁writ', 345],\n",
       " ['▁about', 346],\n",
       " ['Th', 347],\n",
       " ['ab', 348],\n",
       " ['ai', 349],\n",
       " ['ar', 350],\n",
       " ['be', 351],\n",
       " ['co', 352],\n",
       " ['ex', 353],\n",
       " ['ge', 354],\n",
       " ['ib', 355],\n",
       " ['il', 356],\n",
       " ['ju', 357],\n",
       " ['▁', 358],\n",
       " ['e', 359],\n",
       " ['t', 360],\n",
       " ['a', 361],\n",
       " ['i', 362],\n",
       " ['o', 363],\n",
       " ['s', 364],\n",
       " ['n', 365],\n",
       " ['l', 366],\n",
       " ['r', 367],\n",
       " ['h', 368],\n",
       " ['d', 369],\n",
       " ['c', 370],\n",
       " ['w', 371],\n",
       " ['u', 372],\n",
       " ['b', 373],\n",
       " ['p', 374],\n",
       " ['g', 375],\n",
       " ['y', 376],\n",
       " ['I', 377],\n",
       " ['f', 378],\n",
       " ['.', 379],\n",
       " ['k', 380],\n",
       " ['m', 381],\n",
       " ['v', 382],\n",
       " [\"'\", 383],\n",
       " [',', 384],\n",
       " ['-', 385],\n",
       " ['j', 386],\n",
       " ['0', 387],\n",
       " ['1', 388],\n",
       " ['N', 389],\n",
       " ['T', 390],\n",
       " ['x', 391],\n",
       " ['2', 392],\n",
       " ['5', 393],\n",
       " ['H', 394],\n",
       " ['M', 395],\n",
       " ['O', 396],\n",
       " ['W', 397],\n",
       " ['q', 398],\n",
       " ['z', 399]]"
      ]
     },
     "execution_count": 11,
     "metadata": {},
     "output_type": "execute_result"
    }
   ],
   "source": [
    "vocab"
   ]
  },
  {
   "cell_type": "code",
   "execution_count": 13,
   "id": "e717ebea",
   "metadata": {
    "scrolled": false
   },
   "outputs": [
    {
     "name": "stdout",
     "output_type": "stream",
     "text": [
      "[293, 359, 366, 366, 363, 261, 299, 298, 36, 36, 36, 66, 358, 43, 239, 152, 139, 238, 136, 152, 240, 152, 155, 239, 135, 187, 239, 157, 151, 36, 44, 278, 363, 366, 388, 392, 54, 358, 243, 162, 155, 140]\n"
     ]
    }
   ],
   "source": [
    "# note that the korean characters and emoji were not part of the trianing set - they still return values\n",
    "# we had byte_fallback so it \"fell back\" to bytes when it encountered unknown tokens\n",
    "ids = sp.encode(\"hello world!!!? (안녕하세요!) lol123 😉\")\n",
    "print(ids)"
   ]
  },
  {
   "cell_type": "code",
   "execution_count": 14,
   "id": "ce85b564",
   "metadata": {},
   "outputs": [
    {
     "name": "stdout",
     "output_type": "stream",
     "text": [
      "['▁h', 'e', 'l', 'l', 'o', '▁w', 'or', 'ld', '<0x21>', '<0x21>', '<0x21>', '<0x3F>', '▁', '<0x28>', '<0xEC>', '<0x95>', '<0x88>', '<0xEB>', '<0x85>', '<0x95>', '<0xED>', '<0x95>', '<0x98>', '<0xEC>', '<0x84>', '<0xB8>', '<0xEC>', '<0x9A>', '<0x94>', '<0x21>', '<0x29>', '▁l', 'o', 'l', '1', '2', '<0x33>', '▁', '<0xF0>', '<0x9F>', '<0x98>', '<0x89>']\n"
     ]
    }
   ],
   "source": [
    "print([sp.id_to_piece(idx) for idx in ids])"
   ]
  },
  {
   "cell_type": "code",
   "execution_count": 17,
   "id": "f37e2a0f",
   "metadata": {},
   "outputs": [
    {
     "name": "stdout",
     "output_type": "stream",
     "text": [
      "[37, 359, 366, 102, 146, 42, 0, 358, 0, 22, 363, 366, 388, 392, 0, 358, 0]\n",
      "['▁h', 'e', 'l', 'lo', '▁wor', 'ld', '<unk>', '▁', '<unk>', '▁l', 'o', 'l', '1', '2', '<unk>', '▁', '<unk>']\n"
     ]
    }
   ],
   "source": [
    "# This is a run with byte_fallback=False\n",
    "ids = sp.encode(\"hello world!!!? (안녕하세요!) lol123 😉\")\n",
    "print(ids)\n",
    "print([sp.id_to_piece(idx) for idx in ids])"
   ]
  },
  {
   "cell_type": "code",
   "execution_count": 20,
   "id": "933536ea",
   "metadata": {},
   "outputs": [],
   "source": [
    "# interesting side-note -> we have a STARTING whitespace\n",
    "# this is because of add_dummy_prefix -> tries to treat \"_[word]\" the same as just \"[word]\""
   ]
  },
  {
   "cell_type": "code",
   "execution_count": 21,
   "id": "3702b2f7",
   "metadata": {},
   "outputs": [],
   "source": [
    "# summary here: there's a lot of baggage in sentencepiece so it's not the most ideal\n",
    "# but it is pretty widely used because it can encode and perform inference all in one \n",
    "# and it's pretty easy to set up and use to train a tokenizer\n",
    "# (though tiktoken may be a little better)"
   ]
  },
  {
   "cell_type": "code",
   "execution_count": 22,
   "id": "d9718119",
   "metadata": {},
   "outputs": [],
   "source": [
    "# what if we want to take a pre-trained model and EXTEND it? \n",
    "# e.g. if you're adding new tokens for new chats\n",
    "# -> we would need to add rows to the token_embedding_table\n",
    "    # then initialize the values to be small random nubmers\n",
    "    # then extend the weight inside the nn.Linear layer -> dot products for new probability\n",
    "    # it's a very MILD model surgery and it can be done pretty easily\n",
    "    # only training new parameters to train the model's new tokens, not a full-in retrain\n"
   ]
  },
  {
   "cell_type": "code",
   "execution_count": null,
   "id": "daef8525",
   "metadata": {},
   "outputs": [],
   "source": [
    "# MORE functionality -> PAPER: learning to compress prompts with \"gist tokens\"\n",
    "# suppose you need a LONG prompt -> it slows everything down to encode a large prompt\n",
    "# instead, there's a new token (a few new for a sequence), then trian model by distillation\n",
    "# train representation of new embeddings then optimize over new tokens such that the behavior of new model is identical\n",
    "# to model with very long prompt\n",
    "# COMPRESSING to just a few tokens to stand in for very long prompt with almost identical prmpt\n"
   ]
  },
  {
   "cell_type": "code",
   "execution_count": 23,
   "id": "9789021a",
   "metadata": {},
   "outputs": [],
   "source": [
    "# other note: transformers for OTHER input modalities (video, audio, etc)\n",
    "# how to feed in or predict??\n",
    "# NO -> stick with transformer, then tokeninze input domains and pretend it's text tokens\n",
    "# early paper: taming transformers for high resolution imag synthesis (a.k.a #VQGAN)\n",
    "# other one -> openAI SORA -> turning visual data into patches; chunkate vieos into tokens (hard- autoregressive or soft - diffusion) models\n"
   ]
  },
  {
   "cell_type": "code",
   "execution_count": null,
   "id": "e9d59d01",
   "metadata": {},
   "outputs": [],
   "source": [
    "# SUMMARY!\n",
    "# why can't LLMs spell -> tokenization! - in some cases there might be TOO MANY tokens and some large words are a single token\n",
    "    # in some cases you can trick an LLM to spelling right by telling it to split out a sentence into chars separated by spaces\n",
    "# why are LLMs bad with translation?\n",
    "    # low training on other language data, and often more bloated and diffuse tokens for other languages as a result\n",
    "# why are LLMs bad at simple arithmetic?\n",
    "    # tokenizing some numbers! -> usually aritmetic is done by single digits and tokenization merges often\n",
    "    # side note - \"integer tokenization is insane\" explores how numbers are tokenized and it's a weird grouping\n",
    "# why is gpt-2 have trouble with python?\n",
    "    # partly the model, but also tokenization did not handle spaces well. Now, tokenization is trained much more on python\n",
    "# \"my llm halts when you print a string <|endoftext|>\"?\n",
    "    # it might parse this as a token with weird token handling logic and REMOVES these special characters\n",
    "    # similar to sanitizing inputs for sql safety \"attack surface\"\n",
    "# weird error about \"trailing whitespace\"?\n",
    "    # adding a space at the end of a prompt gives a warning about performance\n",
    "    # space character is always (or almost always) a prefix to a word or part of word from BPE\n",
    "    # since the model has seen VERY LITTLE DATA with just a space, now we're out of distribution and it does weird things\n",
    "    # fundamental issue: LLM is operating on tokens which are TEXT CHUNKS, not characters\n",
    "    # interesting example -> prompt of .DefaultCellSty (first part of .DefaultCellStyle) predicts an end of string token\n",
    "    # UNSTABLE TOKENS\n",
    "# SolidGoldMagikarp? (\"SolidGoldMagikarp (plus, prompt generation)\")\n",
    "    # internet famous! guy went to the embedding stable and saw a cluster of tokens that look superstrange inc SGM\n",
    "    # if you ask the model about these tokens it HALLUCINATES\n",
    "    # there are some \"trigger words\" that freak the model out and gives it super nonstandard behavior\n",
    "    # SolidGoldMagikarp is probably a prolific reddit user and the training set included a lot of reddit data\n",
    "    # BUT the token is not in the training data so it is essentially \"UNALLOCATED MEMORY\" and creates undefined behavior\n",
    "# different formats/languages are more or less efficient with tokenizers\n",
    "    # json is super dense in tokens, yaml is very efficient \n",
    "    \n"
   ]
  }
 ],
 "metadata": {
  "kernelspec": {
   "display_name": "Python 3 (ipykernel)",
   "language": "python",
   "name": "python3"
  },
  "language_info": {
   "codemirror_mode": {
    "name": "ipython",
    "version": 3
   },
   "file_extension": ".py",
   "mimetype": "text/x-python",
   "name": "python",
   "nbconvert_exporter": "python",
   "pygments_lexer": "ipython3",
   "version": "3.10.9"
  }
 },
 "nbformat": 4,
 "nbformat_minor": 5
}
